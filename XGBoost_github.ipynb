{
 "cells": [
  {
   "cell_type": "code",
   "execution_count": 1,
   "metadata": {},
   "outputs": [],
   "source": [
    "#Import libraries:\n",
    "import pandas as pd\n",
    "import numpy as np\n",
    "import xgboost as xgb\n",
    "from xgboost.sklearn import XGBClassifier\n",
    "from sklearn.model_selection import cross_val_score\n",
    "from sklearn import metrics\n",
    "from sklearn.model_selection import GridSearchCV\n",
    "from sklearn.metrics import roc_auc_score, f1_score, roc_curve, precision_recall_curve, auc, make_scorer, recall_score, accuracy_score, precision_score, confusion_matrix, classification_report\n",
    "\n",
    "\n",
    "import matplotlib.pylab as plt\n",
    "%matplotlib inline\n",
    "from matplotlib.pylab import rcParams\n",
    "rcParams['figure.figsize'] = 12, 4"
   ]
  },
  {
   "cell_type": "markdown",
   "metadata": {},
   "source": [
    "# Load and explore data"
   ]
  },
  {
   "cell_type": "code",
   "execution_count": 2,
   "metadata": {},
   "outputs": [
    {
     "name": "stdout",
     "output_type": "stream",
     "text": [
      "(87020, 26)\n",
      "(37717, 24)\n",
      "{'LoggedIn', 'Disbursed'}\n"
     ]
    },
    {
     "data": {
      "text/html": [
       "<div>\n",
       "<style scoped>\n",
       "    .dataframe tbody tr th:only-of-type {\n",
       "        vertical-align: middle;\n",
       "    }\n",
       "\n",
       "    .dataframe tbody tr th {\n",
       "        vertical-align: top;\n",
       "    }\n",
       "\n",
       "    .dataframe thead th {\n",
       "        text-align: right;\n",
       "    }\n",
       "</style>\n",
       "<table border=\"1\" class=\"dataframe\">\n",
       "  <thead>\n",
       "    <tr style=\"text-align: right;\">\n",
       "      <th></th>\n",
       "      <th>ID</th>\n",
       "      <th>Gender</th>\n",
       "      <th>City</th>\n",
       "      <th>Monthly_Income</th>\n",
       "      <th>DOB</th>\n",
       "      <th>Lead_Creation_Date</th>\n",
       "      <th>Loan_Amount_Applied</th>\n",
       "      <th>Loan_Tenure_Applied</th>\n",
       "      <th>Existing_EMI</th>\n",
       "      <th>Employer_Name</th>\n",
       "      <th>...</th>\n",
       "      <th>Interest_Rate</th>\n",
       "      <th>Processing_Fee</th>\n",
       "      <th>EMI_Loan_Submitted</th>\n",
       "      <th>Filled_Form</th>\n",
       "      <th>Device_Type</th>\n",
       "      <th>Var2</th>\n",
       "      <th>Source</th>\n",
       "      <th>Var4</th>\n",
       "      <th>LoggedIn</th>\n",
       "      <th>Disbursed</th>\n",
       "    </tr>\n",
       "  </thead>\n",
       "  <tbody>\n",
       "    <tr>\n",
       "      <td>0</td>\n",
       "      <td>ID000002C20</td>\n",
       "      <td>Female</td>\n",
       "      <td>Delhi</td>\n",
       "      <td>20000</td>\n",
       "      <td>23-May-78</td>\n",
       "      <td>15-May-15</td>\n",
       "      <td>300000.0</td>\n",
       "      <td>5.0</td>\n",
       "      <td>0.0</td>\n",
       "      <td>CYBOSOL</td>\n",
       "      <td>...</td>\n",
       "      <td>NaN</td>\n",
       "      <td>NaN</td>\n",
       "      <td>NaN</td>\n",
       "      <td>N</td>\n",
       "      <td>Web-browser</td>\n",
       "      <td>G</td>\n",
       "      <td>S122</td>\n",
       "      <td>1</td>\n",
       "      <td>0</td>\n",
       "      <td>0</td>\n",
       "    </tr>\n",
       "    <tr>\n",
       "      <td>1</td>\n",
       "      <td>ID000004E40</td>\n",
       "      <td>Male</td>\n",
       "      <td>Mumbai</td>\n",
       "      <td>35000</td>\n",
       "      <td>07-Oct-85</td>\n",
       "      <td>04-May-15</td>\n",
       "      <td>200000.0</td>\n",
       "      <td>2.0</td>\n",
       "      <td>0.0</td>\n",
       "      <td>TATA CONSULTANCY SERVICES LTD (TCS)</td>\n",
       "      <td>...</td>\n",
       "      <td>13.25</td>\n",
       "      <td>NaN</td>\n",
       "      <td>6762.9</td>\n",
       "      <td>N</td>\n",
       "      <td>Web-browser</td>\n",
       "      <td>G</td>\n",
       "      <td>S122</td>\n",
       "      <td>3</td>\n",
       "      <td>0</td>\n",
       "      <td>0</td>\n",
       "    </tr>\n",
       "    <tr>\n",
       "      <td>2</td>\n",
       "      <td>ID000007H20</td>\n",
       "      <td>Male</td>\n",
       "      <td>Panchkula</td>\n",
       "      <td>22500</td>\n",
       "      <td>10-Oct-81</td>\n",
       "      <td>19-May-15</td>\n",
       "      <td>600000.0</td>\n",
       "      <td>4.0</td>\n",
       "      <td>0.0</td>\n",
       "      <td>ALCHEMIST HOSPITALS LTD</td>\n",
       "      <td>...</td>\n",
       "      <td>NaN</td>\n",
       "      <td>NaN</td>\n",
       "      <td>NaN</td>\n",
       "      <td>N</td>\n",
       "      <td>Web-browser</td>\n",
       "      <td>B</td>\n",
       "      <td>S143</td>\n",
       "      <td>1</td>\n",
       "      <td>0</td>\n",
       "      <td>0</td>\n",
       "    </tr>\n",
       "    <tr>\n",
       "      <td>3</td>\n",
       "      <td>ID000008I30</td>\n",
       "      <td>Male</td>\n",
       "      <td>Saharsa</td>\n",
       "      <td>35000</td>\n",
       "      <td>30-Nov-87</td>\n",
       "      <td>09-May-15</td>\n",
       "      <td>1000000.0</td>\n",
       "      <td>5.0</td>\n",
       "      <td>0.0</td>\n",
       "      <td>BIHAR GOVERNMENT</td>\n",
       "      <td>...</td>\n",
       "      <td>NaN</td>\n",
       "      <td>NaN</td>\n",
       "      <td>NaN</td>\n",
       "      <td>N</td>\n",
       "      <td>Web-browser</td>\n",
       "      <td>B</td>\n",
       "      <td>S143</td>\n",
       "      <td>3</td>\n",
       "      <td>0</td>\n",
       "      <td>0</td>\n",
       "    </tr>\n",
       "    <tr>\n",
       "      <td>4</td>\n",
       "      <td>ID000009J40</td>\n",
       "      <td>Male</td>\n",
       "      <td>Bengaluru</td>\n",
       "      <td>100000</td>\n",
       "      <td>17-Feb-84</td>\n",
       "      <td>20-May-15</td>\n",
       "      <td>500000.0</td>\n",
       "      <td>2.0</td>\n",
       "      <td>25000.0</td>\n",
       "      <td>GLOBAL EDGE SOFTWARE</td>\n",
       "      <td>...</td>\n",
       "      <td>NaN</td>\n",
       "      <td>NaN</td>\n",
       "      <td>NaN</td>\n",
       "      <td>N</td>\n",
       "      <td>Web-browser</td>\n",
       "      <td>B</td>\n",
       "      <td>S134</td>\n",
       "      <td>3</td>\n",
       "      <td>1</td>\n",
       "      <td>0</td>\n",
       "    </tr>\n",
       "  </tbody>\n",
       "</table>\n",
       "<p>5 rows × 26 columns</p>\n",
       "</div>"
      ],
      "text/plain": [
       "            ID  Gender       City  Monthly_Income        DOB  \\\n",
       "0  ID000002C20  Female      Delhi           20000  23-May-78   \n",
       "1  ID000004E40    Male     Mumbai           35000  07-Oct-85   \n",
       "2  ID000007H20    Male  Panchkula           22500  10-Oct-81   \n",
       "3  ID000008I30    Male    Saharsa           35000  30-Nov-87   \n",
       "4  ID000009J40    Male  Bengaluru          100000  17-Feb-84   \n",
       "\n",
       "  Lead_Creation_Date  Loan_Amount_Applied  Loan_Tenure_Applied  Existing_EMI  \\\n",
       "0          15-May-15             300000.0                  5.0           0.0   \n",
       "1          04-May-15             200000.0                  2.0           0.0   \n",
       "2          19-May-15             600000.0                  4.0           0.0   \n",
       "3          09-May-15            1000000.0                  5.0           0.0   \n",
       "4          20-May-15             500000.0                  2.0       25000.0   \n",
       "\n",
       "                         Employer_Name  ... Interest_Rate Processing_Fee  \\\n",
       "0                              CYBOSOL  ...           NaN            NaN   \n",
       "1  TATA CONSULTANCY SERVICES LTD (TCS)  ...         13.25            NaN   \n",
       "2              ALCHEMIST HOSPITALS LTD  ...           NaN            NaN   \n",
       "3                     BIHAR GOVERNMENT  ...           NaN            NaN   \n",
       "4                 GLOBAL EDGE SOFTWARE  ...           NaN            NaN   \n",
       "\n",
       "   EMI_Loan_Submitted Filled_Form  Device_Type  Var2  Source  Var4  LoggedIn  \\\n",
       "0                 NaN           N  Web-browser     G    S122     1         0   \n",
       "1              6762.9           N  Web-browser     G    S122     3         0   \n",
       "2                 NaN           N  Web-browser     B    S143     1         0   \n",
       "3                 NaN           N  Web-browser     B    S143     3         0   \n",
       "4                 NaN           N  Web-browser     B    S134     3         1   \n",
       "\n",
       "  Disbursed  \n",
       "0         0  \n",
       "1         0  \n",
       "2         0  \n",
       "3         0  \n",
       "4         0  \n",
       "\n",
       "[5 rows x 26 columns]"
      ]
     },
     "execution_count": 2,
     "metadata": {},
     "output_type": "execute_result"
    }
   ],
   "source": [
    "train = pd.read_csv('./dataset/Train_nyOWmfK.csv', engine='python')\n",
    "test = pd.read_csv('./dataset/Test_bCtAN1w.csv', engine='python')\n",
    "print(train.shape)\n",
    "print(test.shape)\n",
    "a = set(list(train.columns))-set(list(test.columns))\n",
    "print(a)\n",
    "train.head()"
   ]
  },
  {
   "cell_type": "code",
   "execution_count": 3,
   "metadata": {},
   "outputs": [
    {
     "data": {
      "text/plain": [
       "Index(['ID', 'Gender', 'City', 'Monthly_Income', 'DOB', 'Lead_Creation_Date',\n",
       "       'Loan_Amount_Applied', 'Loan_Tenure_Applied', 'Existing_EMI',\n",
       "       'Employer_Name', 'Salary_Account', 'Mobile_Verified', 'Var5', 'Var1',\n",
       "       'Loan_Amount_Submitted', 'Loan_Tenure_Submitted', 'Interest_Rate',\n",
       "       'Processing_Fee', 'EMI_Loan_Submitted', 'Filled_Form', 'Device_Type',\n",
       "       'Var2', 'Source', 'Var4', 'LoggedIn', 'Disbursed'],\n",
       "      dtype='object')"
      ]
     },
     "execution_count": 3,
     "metadata": {},
     "output_type": "execute_result"
    }
   ],
   "source": [
    "train.columns"
   ]
  },
  {
   "cell_type": "code",
   "execution_count": 4,
   "metadata": {},
   "outputs": [
    {
     "data": {
      "text/plain": [
       "(87020, 26)"
      ]
     },
     "execution_count": 4,
     "metadata": {},
     "output_type": "execute_result"
    }
   ],
   "source": [
    "train.shape"
   ]
  },
  {
   "cell_type": "markdown",
   "metadata": {},
   "source": [
    "Monthly_Income = revenue mensuel\n",
    "\n",
    "DOB = date of birth\n",
    "\n",
    "Lead_Creation_Date       = Date de création\n",
    "\n",
    "Loan_Amount_Applied      = Montant du pret appliqué\n",
    "\n",
    "Loan_Tenure_Applied      = Durée du pret appliqué\n",
    "\n",
    "Existing_EMI             = rembourssement mensuel existant\n",
    "\n",
    "Employer_Name            = Nom de l'empoyeur\n",
    "\n",
    "Salary_Account           = Compte bancaire\n",
    "\n",
    "Mobile_Verified          = Téléphone vérifier ou pas\n",
    "\n",
    "Var5                     = ?\n",
    "\n",
    "Var1                     = ?\n",
    "\n",
    "Loan_Amount_Submitted    = Montant du pret soumis\n",
    "\n",
    "Loan_Tenure_Submitted    = durée de pret soumis\n",
    "\n",
    "Interest_Rate            = Taux d'intérêt\n",
    "\n",
    "Processing_Fee           = Frais de dossier\n",
    "\n",
    "EMI_Loan_Submitted       = rembourssement mensuel suggére\n",
    "\n",
    "Filled_Form              = Formulaire rempli\n",
    "\n",
    "Device_Type              = type de demande (directe ou enline ou ...)\n",
    "\n",
    "Var2                     = ?\n",
    "\n",
    "Source                   = source\n",
    "\n",
    "Var4                     = ?\n",
    "\n",
    "LoggedIn                 = ?\n",
    "\n",
    "Disbursed                = Rembourser"
   ]
  },
  {
   "cell_type": "code",
   "execution_count": 5,
   "metadata": {},
   "outputs": [
    {
     "name": "stdout",
     "output_type": "stream",
     "text": [
      "<class 'pandas.core.frame.DataFrame'>\n",
      "RangeIndex: 87020 entries, 0 to 87019\n",
      "Data columns (total 26 columns):\n",
      "ID                       87020 non-null object\n",
      "Gender                   87020 non-null object\n",
      "City                     86017 non-null object\n",
      "Monthly_Income           87020 non-null int64\n",
      "DOB                      87020 non-null object\n",
      "Lead_Creation_Date       87020 non-null object\n",
      "Loan_Amount_Applied      86949 non-null float64\n",
      "Loan_Tenure_Applied      86949 non-null float64\n",
      "Existing_EMI             86949 non-null float64\n",
      "Employer_Name            86949 non-null object\n",
      "Salary_Account           75256 non-null object\n",
      "Mobile_Verified          87020 non-null object\n",
      "Var5                     87020 non-null int64\n",
      "Var1                     87020 non-null object\n",
      "Loan_Amount_Submitted    52407 non-null float64\n",
      "Loan_Tenure_Submitted    52407 non-null float64\n",
      "Interest_Rate            27726 non-null float64\n",
      "Processing_Fee           27420 non-null float64\n",
      "EMI_Loan_Submitted       27726 non-null float64\n",
      "Filled_Form              87020 non-null object\n",
      "Device_Type              87020 non-null object\n",
      "Var2                     87020 non-null object\n",
      "Source                   87020 non-null object\n",
      "Var4                     87020 non-null int64\n",
      "LoggedIn                 87020 non-null int64\n",
      "Disbursed                87020 non-null int64\n",
      "dtypes: float64(8), int64(5), object(13)\n",
      "memory usage: 17.3+ MB\n"
     ]
    }
   ],
   "source": [
    "train.info()"
   ]
  },
  {
   "cell_type": "code",
   "execution_count": 6,
   "metadata": {},
   "outputs": [
    {
     "data": {
      "text/plain": [
       "array(['Female', 'Male'], dtype=object)"
      ]
     },
     "execution_count": 6,
     "metadata": {},
     "output_type": "execute_result"
    }
   ],
   "source": [
    "train.Gender.unique()"
   ]
  },
  {
   "cell_type": "code",
   "execution_count": 7,
   "metadata": {},
   "outputs": [
    {
     "data": {
      "text/plain": [
       "array(['Delhi', 'Mumbai', 'Panchkula', 'Saharsa', 'Bengaluru',\n",
       "       'Sindhudurg', 'Kochi', 'Surat', 'Pune', 'Bhubaneswar', 'Howrah',\n",
       "       'Chennai', 'Ludhiana', 'Lucknow', 'Bardhaman', 'Indore',\n",
       "       'Hyderabad', 'Udaipur', 'Faridabad', 'Angul', 'Kolkata',\n",
       "       'Lakhisarai', 'Visakhapatnam', 'Patna', 'Gautam Buddha Nagar',\n",
       "       'Chandigarh', 'Cuddalore', 'Ghaziabad', 'Meerut', 'Ahmedabad',\n",
       "       'Vijayawada', 'Rourkela', 'Dibrugarh', 'Madurai', 'Haridwar',\n",
       "       'Panipat', 'Vadodara', 'Gurgaon', 'Dehradun', 'Coimbatore',\n",
       "       'Hooghly', 'Bastar', 'Jaipur', 'Valsad', 'Bharuch',\n",
       "       'Dakshina Kannada', 'Buxar', 'Banka', 'Rupnagar', 'VISNAGAR',\n",
       "       'Nagpur', 'Anantapur', 'Thiruvalla', 'Kutch', 'Prakasam', 'Koppal',\n",
       "       'Amravati', 'Guwahati', 'Bhopal', 'Shimoga', 'Bijnor', 'Bhilwara',\n",
       "       'Palwal', 'Bathinda', 'Bhiwadi', 'Jammu', 'Kottayam', 'Gwalior',\n",
       "       'Agra', 'Satara', 'Varanasi', 'Kaithal', 'Asansol', 'Panaji',\n",
       "       'Jodhpur', 'Alwar', 'Ambala', 'Mysore', 'Amareli', 'Hamirpur',\n",
       "       'Morvi', 'Noida', 'Midnapore East', 'Beawar', 'Dindigul',\n",
       "       'Sitapur', 'Neemuch', 'Jalandhar', 'Raipur', 'Kanpur Nagar',\n",
       "       'Bulandshahr', 'Ganganagar', 'Vellore', 'Aurangabad', 'Ambur',\n",
       "       'Amritsar', 'Birbhum', 'Warangal', 'Thane', 'Cachar',\n",
       "       'Ramanathapuram', 'Rewari', 'Tanuku', 'North 24 Parganas', 'Daman',\n",
       "       'Firozpur', 'Hubli', 'Bolangir', 'Mehsana', 'Pondicherry', 'Vapi',\n",
       "       'Ghazipur', 'Patiala', 'Ponda', 'Baleswar', 'Kanchipuram',\n",
       "       'Pathankot', 'Yamuna Nagar', 'Kohima', 'Sidhi', 'Hapur', 'Rajkot',\n",
       "       'Sonitpur', 'Tirunelveli', 'Deoghar', 'Jagatsinghpur', 'Jhabua',\n",
       "       'Ajmer', 'Ranchi', 'Nashik', 'Moradabad', 'South Goa',\n",
       "       'Kapurthala', 'ADIPUR', 'Durgapur', 'Patan', 'Viluppuram',\n",
       "       'Rishikesh', 'Dhanbad', 'Rewa', 'Gulbarga', 'Burdwan',\n",
       "       'Gandhidham', 'Guntur', 'Khammam', 'Rudrapur', 'Kupwara', 'Rohtak',\n",
       "       'Kanpur', 'Faizabad', 'Sonipat', 'Gorkakhpur', 'Sambalpur',\n",
       "       'West Godavari', 'East Khasi Hills', 'Karnal', 'Jharsuguda',\n",
       "       'Wayanad', 'Ernakulam', 'Kharagpur', 'Navi Mumbai', 'Muzaffarpur',\n",
       "       'Amreli', 'Rangareddy', 'Akola', 'Kodad', 'Margao', 'Salem',\n",
       "       'Bhandara', 'Mahasamund', 'Aligarh', 'Ratnagiri', 'Kota',\n",
       "       'East Singhbhum', 'Erode', 'Purulia', 'Kendujhar', 'Almora',\n",
       "       'Morena', 'Krishna', 'Chhindwara', 'Chhatarpur', 'Rohtas',\n",
       "       'Pilibhit', 'Shivpuri', 'Jamnagar', 'Ambikapur', 'Karimnagar',\n",
       "       'Silvassa', 'Bhavnagar', 'Shilong', 'Cuttack',\n",
       "       'Dadra & nagar Haveli', 'Kurnool', 'Sangli', 'Gandhinagar',\n",
       "       'Mangalore', 'Barabanki', 'Ambedkar Nagar', 'Belgaum', 'Gorakhpur',\n",
       "       'Bhadrak', 'Dakshin Dinajpur', 'Alleppey', 'Nabha', 'Krishnagiri',\n",
       "       'Vizianagaram', 'Chamarajanagar', 'Kolhapur', 'Secunderabad',\n",
       "       'Tiruchirapalli', 'Namakkal', 'Jalpaiguri', 'Kamrup Rural',\n",
       "       'Alappuzha', 'Shahpura', 'Tezpur', 'Mathura', 'Bellary', 'Gonda',\n",
       "       'Jamshedpur', 'Kurukshetra', 'Solan', 'Thrissur', 'Guna', 'Hisar',\n",
       "       'Haldwani', 'Sonbhadra', 'Sibsagar', 'Sagar', 'Anand',\n",
       "       'Surendranagar', 'Udupi and Uttara Kannada', 'Nawanshahr',\n",
       "       'Kozhikode', 'Mohali', 'Hospet', 'Kumbakonam', 'Rayagada',\n",
       "       'Raigarh', 'Navsari', 'Tumkur', 'Bettiah', 'Ratlam', 'Harda',\n",
       "       'Tiruppur', 'Satna', 'Jhunjhunu', 'Gaya', 'Nalgonda', 'Purnia',\n",
       "       'Rajahmundry', 'Siliguri', 'Hosur', 'VALLABH VIDYANAGAR',\n",
       "       'Jabalpur', 'Durg', 'Mokokchung', 'Ahmednagar',\n",
       "       'Thiruvananthapuram', 'Deoria', 'Sant Kabir Nagar', 'Mayurbhanj',\n",
       "       'Chandrapur', 'Karad', 'Koraput', 'Allahabad', 'Nanded', 'Dahod',\n",
       "       'Khurdha', 'Mandya', 'Bomdila', 'Thoothukudi', 'Kadapa',\n",
       "       'Perambalur', 'Jhajjar', 'Andman & Nicobar', 'Bidar',\n",
       "       'Mahbubnagar', 'Banswara', 'Chittoor', 'Dholpur', 'Nilgiris',\n",
       "       'VIRPUR', 'Srikakulam', 'Rajpura', 'South 24 Parganas',\n",
       "       'Papum Pare', 'Barpeta', 'Badaun', 'Sirsa', 'Baramulla', 'Jalgaon',\n",
       "       'Pollachi', 'Nellore', 'Chittorgarh', 'Kannur', 'Yavatmal',\n",
       "       'Behrampur', 'Kushinagar', 'Kashipur', 'Agartala', 'Dhamtari',\n",
       "       'Shimla', 'Midnapore West', 'Theni', 'KAMREJ', 'Ujjain',\n",
       "       'Buldhana', 'Jalore', 'Thanjavur', 'Ongole', 'East Godavari',\n",
       "       'Baddi', 'Saharanpur', 'Karur', 'Kanyakumari', 'Damoh', 'Etah',\n",
       "       'Bilaspur', 'Bokaro', 'Medak', 'Aluva', 'Tadipatri', 'Latur',\n",
       "       'Bahadurgarh', 'Ganjam', 'Hassan', 'Sehore', 'Tirupati',\n",
       "       'Hanumangarh', 'Sikar', 'Bhilai', 'Barmer', 'Margoa', 'Bijapur',\n",
       "       'GANDEVI', 'Darrang', 'Solapur', 'Pratapgarh', 'Pudukkottai',\n",
       "       'Palakkad', 'Karauli', 'Barwani', 'Roorkee', 'Siddharthnagar',\n",
       "       'Magadh', 'Malappuram', 'Fatehabad', 'Samastipur', 'Kheda',\n",
       "       'Nadia', 'Moga', 'GODHRA', 'Srinagar', 'Kalka', 'Bhiwani',\n",
       "       'Modasa', 'Dharmapuri', 'Ichalkaranji', 'Farrukhabad',\n",
       "       'Nagapattinam', 'Davanagere', 'Mau', 'Dhenkanal', 'SURENDERNAGAR',\n",
       "       'MANDVI', 'Ankleshwar', 'Fatehgarh Sahib', 'Hoshiarpur',\n",
       "       'Sabarkantha', 'Nayagarh', 'Rae Bareli', 'Sirohi', 'Nalanda',\n",
       "       'Raigad', 'Siwan', 'Kollam', 'Korba', 'Mandsaur', 'Pauri Garhwal',\n",
       "       'Banaskantha', 'Bhojpur', 'UMBERGAON', 'Washim', 'Adilabad',\n",
       "       'Banaskhantha', 'Dindori', 'Malda', 'Balaghat', 'Wardha',\n",
       "       'Kakinada', 'Tinsukia', 'Dhule', 'Jajapur', 'Jyotiba Phule Nagar',\n",
       "       'Halol', 'Sonepur', 'Bhagalpur', 'Kendrapara', 'Motihari',\n",
       "       'Bharatpur', 'Janigir - Champa', 'Begusarai', 'Narsinghpur',\n",
       "       'Darjeeling', 'Nizamabad', 'BARDOLI', 'Churu', 'Keonjhar',\n",
       "       'Bikaner', 'Azamgarh', 'Nagercoil', 'Jhansi', 'Dausa', 'Mundra',\n",
       "       'Goa', 'Kangra', 'Proddattur', 'Uttar Dinajpur', 'Ballia',\n",
       "       'Kanpur Dehat', 'Veraval', 'Poonch', 'Muzaffarnagar', 'Vyara',\n",
       "       'Bandipore', 'Unnao', 'Dimapur', 'Nandurbar', 'Dhar', 'Bankura',\n",
       "       'Sultanpur', 'Betul', 'Gangtok', 'Rajsamand', 'LUNAWADA',\n",
       "       'Murshidabad', 'Bareilly', 'sri ganganagar', 'Pathanamthitta',\n",
       "       'Hajipur', 'Bargarh', 'Anuppur', 'Nagaon', 'Malegaon', 'Khargone',\n",
       "       'Virudhunagar', 'DHANGARDHA', 'Pontashaib', 'Kaushambi',\n",
       "       'Cooch Behar', 'Haveri', 'Sitamarhi', 'Pakur', 'Anantnag',\n",
       "       'Ariyalur', 'Kolar', 'North Cachar Hills', 'PALANPUR', 'Idukki',\n",
       "       'Banda', 'West Singhbhum', 'Faridkot', 'Ramban', 'Daman & Diu',\n",
       "       'Ashoknagar', 'Tiruvannamalai', 'Burhanpur', 'Chikkaballapur',\n",
       "       'Sanga Reddy', 'Dharwad', 'Bagalkote', 'Travancore', 'Porbandar',\n",
       "       'Gurdaspur', 'Deogarh', 'Katihar', 'Chidambaram', 'Mahendragarh',\n",
       "       'Chamoli', 'Shajapur', 'Kadi', 'Pali', 'Dumka', 'Kodagu', 'Baran',\n",
       "       'Bagpat', 'Kishtwar', 'Fatehpur', 'Madhubani', 'Silchar',\n",
       "       'Darbhanga', 'Nagaur', 'Mirzapur', 'Imphal West', 'Puri', 'Jind',\n",
       "       'Gondia', 'Parbhani', 'Lunglei', 'Surguja', 'Upper Subansiri',\n",
       "       'Saran', nan, 'Baramati', 'Nainital', 'Udham Singh Nagar',\n",
       "       'Junagadh', 'Anjaw', 'Marigaon', 'Bhind', 'Dewas', 'Panchmahal',\n",
       "       'Udalguri', 'Chitrakoot', 'Chapra', 'Araria', 'Jaunpur', 'Tandur',\n",
       "       'Basti', 'Seraikela Kharsawan', 'Osmanabad', 'Sangrur', 'Nadiad',\n",
       "       'Imphal East', 'Sivagangai', 'Chikkamagaluru', 'Tiruvallur',\n",
       "       'UDWADA', 'Sangamner', 'Kathua', 'Mandla', 'Lakhimpur Kheri',\n",
       "       'Gadag', 'Jagadalpur', 'Fazilka', 'MAHUVA', 'Bahraich', 'Koriya',\n",
       "       'Malout', 'Yadgir', 'Godda', 'Jharkhand', 'Mancherial',\n",
       "       'Lohardaga', 'Kishanganj', 'Champawat', 'Karnataka', 'Jalna',\n",
       "       'Bhuj', 'Samba', 'Madhepura', 'Phagwara', 'Garhwa', 'Jhalawar',\n",
       "       'Damanjodi', 'Etawah', 'Gajapati', 'Shahdol', 'Munger',\n",
       "       'Churachandpur', 'Kailashahar', 'Katni', 'Lakhimpur',\n",
       "       'Rajnandgaon', 'Rajgarh', 'VIJAPUR', 'Kasaragod', 'Aizawl',\n",
       "       'Jorhat', 'Sawai Madhopur', 'Tiruvarur', 'Kandhamal', 'Hingoli',\n",
       "       'Lalitpur', 'Barnala', 'Narmada', 'Sundargarh', 'Raichur',\n",
       "       'Itanagar', 'Bundi', 'Dhubri', 'Auraiya', 'Panch Mahals', 'Una',\n",
       "       'Hoshangabad', 'Maharajganj', 'Firozabad', 'Ropar', 'Jaisalmer',\n",
       "       'SAYAN', 'Chitradurga', 'Beed', 'BHILAD', 'Gadchiroli', 'Sheopur',\n",
       "       'Hardoi', 'Mewat', 'Nabarangpur', 'Chandauli', 'Chinnamiram',\n",
       "       'Ramgarh', 'Kargil', 'Palamu', 'Mansa', 'Chatra', 'NALIYA',\n",
       "       'Khanna', 'Suryapet', 'Jagdalpur', 'Mandi', 'Jashpur', 'Balasore',\n",
       "       'Gandhi Nagar', 'Mahabub Nagar', 'Golaghat', 'Khagaria',\n",
       "       'Bongaigaon', 'Vidisha', 'AHMEDB', 'Khandwa', 'Siddipet', 'ANJAR',\n",
       "       'Kamrup Metropolitian', 'Sheikhpura', 'Seoni', 'KHAMBHAT',\n",
       "       'Sirmaur', 'Bageshwar', 'Kabri Anglong', 'Pithoragarh', 'KALOL',\n",
       "       'Nalbari', 'CHOTILA', 'IDAR', 'Umaria', 'Goalpara', 'Chandel',\n",
       "       'Tirur', 'Udhampur', 'Dantewada', 'Jamtara', 'Hailakandi',\n",
       "       'Koderma', 'Kannauj', 'BHACHAU', 'Jamui', 'Muktsar', 'Abohar',\n",
       "       'West Garo Hills', 'DEESA', 'Boudh', 'Datia', 'Gumla',\n",
       "       'Surendra Nagar', 'Rampur', 'BILIMORA', 'Ri-Bhoi', 'Gopal Ganj',\n",
       "       'CHIKHLI (GUJ.)', 'Hazaribagh', 'Gadwal', 'Kokrajhar',\n",
       "       'Shahjahanpur', 'Giridih', 'Dungarpur', 'Raisen', 'Namchi',\n",
       "       'SOMNATH JUNAGADHA', 'Tarn Taran', 'Mainpuri', 'Thoubal',\n",
       "       'SILVASA', 'Reasi', 'Nawadah', 'AMALSAD', 'Jalaun',\n",
       "       'Jaintia Hills', 'Dhalai', 'Himatnagar', 'Tonk', 'Malabar',\n",
       "       'Pulwama', 'BAJWA', 'DHANDHUKA', 'Janjgir-Champa', 'DWARKA',\n",
       "       'RADHANPUR', 'Doda', 'Narayanpur', 'KAPADWANJ', 'Baksa',\n",
       "       'Tamenglong', 'DHORAJI', 'Siruguppa', 'Lakshadweep', 'Lohit'],\n",
       "      dtype=object)"
      ]
     },
     "execution_count": 7,
     "metadata": {},
     "output_type": "execute_result"
    }
   ],
   "source": [
    "train.City.unique()"
   ]
  },
  {
   "cell_type": "code",
   "execution_count": 8,
   "metadata": {},
   "outputs": [
    {
     "data": {
      "text/plain": [
       "0    20000\n",
       "1    35000\n",
       "2    22500\n",
       "Name: Monthly_Income, dtype: int64"
      ]
     },
     "execution_count": 8,
     "metadata": {},
     "output_type": "execute_result"
    }
   ],
   "source": [
    "train.Monthly_Income[:3]"
   ]
  },
  {
   "cell_type": "code",
   "execution_count": 9,
   "metadata": {},
   "outputs": [
    {
     "data": {
      "text/plain": [
       "0    300000.0\n",
       "1    200000.0\n",
       "2    600000.0\n",
       "Name: Loan_Amount_Applied, dtype: float64"
      ]
     },
     "execution_count": 9,
     "metadata": {},
     "output_type": "execute_result"
    }
   ],
   "source": [
    "train.Loan_Amount_Applied[:3]"
   ]
  },
  {
   "cell_type": "code",
   "execution_count": 10,
   "metadata": {},
   "outputs": [
    {
     "data": {
      "text/plain": [
       "0    5.0\n",
       "1    2.0\n",
       "2    4.0\n",
       "Name: Loan_Tenure_Applied, dtype: float64"
      ]
     },
     "execution_count": 10,
     "metadata": {},
     "output_type": "execute_result"
    }
   ],
   "source": [
    "train.Loan_Tenure_Applied[:3]"
   ]
  },
  {
   "cell_type": "code",
   "execution_count": 11,
   "metadata": {},
   "outputs": [
    {
     "data": {
      "text/plain": [
       "0    0.0\n",
       "1    0.0\n",
       "2    0.0\n",
       "Name: Existing_EMI, dtype: float64"
      ]
     },
     "execution_count": 11,
     "metadata": {},
     "output_type": "execute_result"
    }
   ],
   "source": [
    "train.Existing_EMI[:3]"
   ]
  },
  {
   "cell_type": "code",
   "execution_count": 12,
   "metadata": {},
   "outputs": [
    {
     "data": {
      "text/plain": [
       "array(['HDFC Bank', 'ICICI Bank', 'State Bank of India', 'HSBC',\n",
       "       'Yes Bank', nan, 'Kotak Bank', 'Indian Overseas Bank',\n",
       "       'Bank of Maharasthra', 'Axis Bank', 'Central Bank of India',\n",
       "       'Standard Chartered Bank', 'Andhra Bank', 'Bank of India',\n",
       "       'IndusInd Bank', 'Corporation bank', 'UCO Bank',\n",
       "       'The Ratnakar Bank Ltd', 'Citibank', 'Karur Vysya Bank',\n",
       "       'Punjab National Bank', 'Lakshmi Vilas bank', 'Syndicate Bank',\n",
       "       'Allahabad Bank', 'Bank of Baroda', 'Canara Bank',\n",
       "       'Oriental Bank of Commerce', 'Vijaya Bank',\n",
       "       'State Bank of Hyderabad', 'IDBI Bank', 'State Bank of Patiala',\n",
       "       'Union Bank of India', 'ING Vysya', 'Federal Bank', 'Dena Bank',\n",
       "       'Punjab & Sind bank', 'J&K Bank', 'Deutsche Bank',\n",
       "       'Tamil Nadu Mercantile Bank', 'Indian Bank',\n",
       "       'United Bank of India', 'Abhyuday Co-op Bank Ltd',\n",
       "       'State Bank of Bikaner & Jaipur', 'Saraswat Bank',\n",
       "       'State Bank of Travancore', 'Karnataka Bank', 'South Indian Bank',\n",
       "       'State Bank of Mysore', 'Bank of Rajasthan',\n",
       "       'State Bank of Indore', 'Dhanalakshmi Bank Ltd',\n",
       "       'Catholic Syrian Bank', 'India Bulls', 'Kerala Gramin Bank',\n",
       "       'Firstrand Bank Limited', 'GIC Housing Finance Ltd',\n",
       "       'B N P Paribas', 'Industrial And Commercial Bank Of China Limited'],\n",
       "      dtype=object)"
      ]
     },
     "execution_count": 12,
     "metadata": {},
     "output_type": "execute_result"
    }
   ],
   "source": [
    "train.Salary_Account.unique()"
   ]
  },
  {
   "cell_type": "code",
   "execution_count": 13,
   "metadata": {},
   "outputs": [
    {
     "data": {
      "text/plain": [
       "array(['N', 'Y'], dtype=object)"
      ]
     },
     "execution_count": 13,
     "metadata": {},
     "output_type": "execute_result"
    }
   ],
   "source": [
    "train.Mobile_Verified.unique()"
   ]
  },
  {
   "cell_type": "code",
   "execution_count": 14,
   "metadata": {},
   "outputs": [
    {
     "data": {
      "text/plain": [
       "0      NaN\n",
       "1    13.25\n",
       "2      NaN\n",
       "Name: Interest_Rate, dtype: float64"
      ]
     },
     "execution_count": 14,
     "metadata": {},
     "output_type": "execute_result"
    }
   ],
   "source": [
    "train.Interest_Rate[:3]"
   ]
  },
  {
   "cell_type": "code",
   "execution_count": 15,
   "metadata": {},
   "outputs": [
    {
     "data": {
      "text/plain": [
       "array(['G', 'B', 'C', 'E', 'F', 'D', 'A'], dtype=object)"
      ]
     },
     "execution_count": 15,
     "metadata": {},
     "output_type": "execute_result"
    }
   ],
   "source": [
    "train.Var2.unique()"
   ]
  },
  {
   "cell_type": "code",
   "execution_count": 16,
   "metadata": {},
   "outputs": [
    {
     "data": {
      "text/plain": [
       "array([1, 3, 5, 4, 2, 7, 6, 0], dtype=int64)"
      ]
     },
     "execution_count": 16,
     "metadata": {},
     "output_type": "execute_result"
    }
   ],
   "source": [
    "train.Var4.unique()"
   ]
  },
  {
   "cell_type": "code",
   "execution_count": 17,
   "metadata": {},
   "outputs": [
    {
     "data": {
      "text/plain": [
       "array(['HBXX', 'HBXA', 'HAXM', 'HAXB', 'HBXC', 'HBXD', 'HBXH', 'HAXA',\n",
       "       'HBXB', 'HAYT', 'HCXD', 'HVYS', 'HAVC', 'HCXG', 'HAZD', 'HCYS',\n",
       "       'HCXF', 'HAXC', 'HAXF'], dtype=object)"
      ]
     },
     "execution_count": 17,
     "metadata": {},
     "output_type": "execute_result"
    }
   ],
   "source": [
    "train.Var1.unique()"
   ]
  },
  {
   "cell_type": "code",
   "execution_count": 18,
   "metadata": {},
   "outputs": [
    {
     "data": {
      "text/plain": [
       "array([ 0, 13, 10, 17,  3, 11, 14, 12,  5,  8,  1,  4,  6,  7, 16, 15,  9,\n",
       "        2, 18], dtype=int64)"
      ]
     },
     "execution_count": 18,
     "metadata": {},
     "output_type": "execute_result"
    }
   ],
   "source": [
    "train.Var5.unique()"
   ]
  },
  {
   "cell_type": "code",
   "execution_count": 19,
   "metadata": {},
   "outputs": [
    {
     "data": {
      "text/plain": [
       "array(['Web-browser', 'Mobile'], dtype=object)"
      ]
     },
     "execution_count": 19,
     "metadata": {},
     "output_type": "execute_result"
    }
   ],
   "source": [
    "train.Device_Type.unique()"
   ]
  },
  {
   "cell_type": "code",
   "execution_count": 20,
   "metadata": {},
   "outputs": [
    {
     "data": {
      "text/plain": [
       "array([0, 1], dtype=int64)"
      ]
     },
     "execution_count": 20,
     "metadata": {},
     "output_type": "execute_result"
    }
   ],
   "source": [
    "train.LoggedIn.unique()"
   ]
  },
  {
   "cell_type": "code",
   "execution_count": 21,
   "metadata": {},
   "outputs": [
    {
     "data": {
      "text/plain": [
       "array([0, 1], dtype=int64)"
      ]
     },
     "execution_count": 21,
     "metadata": {},
     "output_type": "execute_result"
    }
   ],
   "source": [
    "train.Disbursed.unique()"
   ]
  },
  {
   "cell_type": "code",
   "execution_count": 22,
   "metadata": {},
   "outputs": [
    {
     "data": {
      "text/plain": [
       "array(['N', 'Y'], dtype=object)"
      ]
     },
     "execution_count": 22,
     "metadata": {},
     "output_type": "execute_result"
    }
   ],
   "source": [
    "train.Filled_Form.unique()"
   ]
  },
  {
   "cell_type": "markdown",
   "metadata": {},
   "source": [
    "ID                       87020 non-null object\n",
    "\n",
    "###################### int and float objects ############################\n",
    "\n",
    "Monthly_Income           87020 non-null int64\n",
    "\n",
    "Loan_Amount_Applied      86949 non-null float64\n",
    "\n",
    "Loan_Tenure_Applied      86949 non-null float64\n",
    "\n",
    "Existing_EMI             86949 non-null float64\n",
    "\n",
    "Loan_Amount_Submitted    52407 non-null float64\n",
    "\n",
    "Loan_Tenure_Submitted    52407 non-null float64\n",
    "\n",
    "Interest_Rate            27726 non-null float64\n",
    "\n",
    "Processing_Fee           27420 non-null float64\n",
    "\n",
    "EMI_Loan_Submitted       27726 non-null float64\n",
    "\n",
    "\n",
    "###################### date objects ############################\n",
    "\n",
    "\n",
    "Lead_Creation_Date       87020 non-null object\n",
    "\n",
    "DOB                      87020 non-null object\n",
    "\n",
    "\n",
    "################### string objects ###############################\n",
    "\n",
    "\n",
    "\n",
    "City                     86017 non-null object\n",
    "\n",
    "Employer_Name            86949 non-null object\n",
    "\n",
    "Salary_Account           75256 non-null object\n",
    "\n",
    "\n",
    "\n",
    "\n",
    "\n",
    "##################### categorical objects #############################\n",
    "\n",
    "Mobile_Verified          87020 non-null object\n",
    "\n",
    "Gender                   87020 non-null object\n",
    "\n",
    "Filled_Form              87020 non-null object\n",
    "\n",
    "Device_Type              87020 non-null object\n",
    "\n",
    "Var1                     87020 non-null object\n",
    "\n",
    "Var2                     87020 non-null object\n",
    "\n",
    "Source                   87020 non-null object\n",
    "\n",
    "Var4                     87020 non-null int64\n",
    "\n",
    "Var5                     87020 non-null int64\n",
    "\n",
    "LoggedIn                 87020 non-null int64\n",
    "\n",
    "\n",
    "####################### Target ###########################\n",
    "\n",
    "\n",
    "Disbursed                87020 non-null int64"
   ]
  },
  {
   "cell_type": "markdown",
   "metadata": {},
   "source": [
    "# Clean data"
   ]
  },
  {
   "cell_type": "code",
   "execution_count": 23,
   "metadata": {},
   "outputs": [],
   "source": [
    "# ordered columns sch as : (int,float), (date), (string), (categorical), (target)\n",
    "myColumns = ['ID', 'Monthly_Income' ,'Existing_EMI' ,'Loan_Amount_Submitted' ,'Loan_Tenure_Submitted' ,'EMI_Loan_Submitted', \\\n",
    "             'Loan_Amount_Applied' ,'Loan_Tenure_Applied', \\\n",
    "             'Interest_Rate' ,'Processing_Fee' ,'Lead_Creation_Date' , \\\n",
    "             'DOB' ,'Gender' ,'City' ,'Employer_Name' ,'Salary_Account' ,'Mobile_Verified' , \\\n",
    "             'Filled_Form' ,'Device_Type' ,'Var1' ,'Var2' ,'Source' ,'Var4' ,'Var5' ,'LoggedIn' , \\\n",
    "             'Disbursed']\n",
    "\n"
   ]
  },
  {
   "cell_type": "code",
   "execution_count": 26,
   "metadata": {},
   "outputs": [],
   "source": [
    "# Create the new dataframe\n",
    "df = train[myColumns]\n",
    "df = df.set_index(['ID'])"
   ]
  },
  {
   "cell_type": "code",
   "execution_count": 27,
   "metadata": {},
   "outputs": [],
   "source": [
    "# Drop irrelevent columns because they doesn't appear to affect much intuitively\n",
    "# Remove the following columns: 'Employer_Name', 'Salary_Account', 'Mobile_Verified', 'Filled_Form', 'Device_Type', 'Lead_Creation_Date', 'Source', 'LoggedIn'\n",
    "df = df.drop(['City', \n",
    "              'Employer_Name', \n",
    "              'Lead_Creation_Date',\n",
    "              'LoggedIn',\n",
    "              'Salary_Account',\n",
    "              \n",
    "              'Mobile_Verified', \n",
    "              'Filled_Form', \n",
    "              'Device_Type', \n",
    "              'Source', \n",
    "              ], axis=1)"
   ]
  },
  {
   "cell_type": "code",
   "execution_count": 28,
   "metadata": {},
   "outputs": [],
   "source": [
    "from datetime import date \n",
    "  \n",
    "def calculateAge(birthDate): \n",
    "    today = date.today() \n",
    "    age = today.year - birthDate.year - ((today.month, today.day) < (birthDate.month, birthDate.day)) \n",
    "  \n",
    "    return age "
   ]
  },
  {
   "cell_type": "code",
   "execution_count": 29,
   "metadata": {},
   "outputs": [],
   "source": [
    "# Convert DOB=date of birth to age\n",
    "df['DOB'] = pd.to_datetime(df['DOB']).map(calculateAge)\n",
    "#rename the column DOB with AGE\n",
    "df.rename(columns={\"DOB\": \"AGE\", \"Disbursed\": \"Target\"}, inplace=True)"
   ]
  },
  {
   "cell_type": "code",
   "execution_count": 30,
   "metadata": {},
   "outputs": [],
   "source": [
    "# comvert Monthly_Income to float\n",
    "df['Monthly_Income'] = df['Monthly_Income'].astype(float)\n",
    "\n",
    "# Missing value of column 'Existing_EMI' will replaced with 0 because just 111 are missing:\n",
    "df['Existing_EMI'] = df['Existing_EMI'].fillna(0)\n",
    "\n",
    "# 'Loan_Amount_Applied' and 'Loan_Tenure_Applied' missing values will be replaced with median because only 111 missing\n",
    "df['Loan_Amount_Applied'] = df['Loan_Amount_Applied'].fillna(df['Loan_Amount_Applied'].median())\n",
    "df['Loan_Tenure_Applied'] = df['Loan_Tenure_Applied'].fillna(df['Loan_Tenure_Applied'].median())\n",
    "\n",
    "# High proportion missing so create a new variables\n",
    "# 'EMI_Loan_Submitted', Loan_Amount_Submitted', 'Loan_Tenure_Submitted', 'Interest_Rate' and 'Processing_Fee' existing values will be replaced with 1 and the missing values with 0\n",
    "df['EMI_Loan_Submitted'] = (~df['EMI_Loan_Submitted'].isnull()).astype(int)\n",
    "df['Loan_Amount_Submitted'] = (~df['Loan_Amount_Submitted'].isnull()).astype(int)\n",
    "df['Loan_Tenure_Submitted'] = (~df['Loan_Tenure_Submitted'].isnull()).astype(int)\n",
    "df['Interest_Rate'] = (~df['Interest_Rate'].isnull()).astype(int)\n",
    "df['Processing_Fee'] = (~df['Processing_Fee'].isnull()).astype(int)"
   ]
  },
  {
   "cell_type": "code",
   "execution_count": 31,
   "metadata": {},
   "outputs": [
    {
     "name": "stdout",
     "output_type": "stream",
     "text": [
      "<class 'pandas.core.frame.DataFrame'>\n",
      "Index: 87020 entries, ID000002C20 to ID124821V10\n",
      "Data columns (total 16 columns):\n",
      "Monthly_Income           87020 non-null float64\n",
      "Existing_EMI             87020 non-null float64\n",
      "Loan_Amount_Submitted    87020 non-null int32\n",
      "Loan_Tenure_Submitted    87020 non-null int32\n",
      "EMI_Loan_Submitted       87020 non-null int32\n",
      "Loan_Amount_Applied      87020 non-null float64\n",
      "Loan_Tenure_Applied      87020 non-null float64\n",
      "Interest_Rate            87020 non-null int32\n",
      "Processing_Fee           87020 non-null int32\n",
      "AGE                      87020 non-null int64\n",
      "Gender                   87020 non-null object\n",
      "Var1                     87020 non-null object\n",
      "Var2                     87020 non-null object\n",
      "Var4                     87020 non-null int64\n",
      "Var5                     87020 non-null int64\n",
      "Target                   87020 non-null int64\n",
      "dtypes: float64(4), int32(5), int64(4), object(3)\n",
      "memory usage: 9.6+ MB\n"
     ]
    }
   ],
   "source": [
    "df.info()"
   ]
  },
  {
   "cell_type": "code",
   "execution_count": 32,
   "metadata": {},
   "outputs": [],
   "source": [
    "# create the one-hot-encoding of columns 'Gender','Var1' and 'Var2'\n",
    "df = pd.get_dummies(df, columns=['Gender','Var1', 'Var2'])"
   ]
  },
  {
   "cell_type": "code",
   "execution_count": 33,
   "metadata": {},
   "outputs": [
    {
     "data": {
      "text/plain": [
       "0    85747\n",
       "1     1273\n",
       "Name: Target, dtype: int64"
      ]
     },
     "execution_count": 33,
     "metadata": {},
     "output_type": "execute_result"
    }
   ],
   "source": [
    "# Check the balance of classes\n",
    "df[\"Target\"].value_counts()"
   ]
  },
  {
   "cell_type": "code",
   "execution_count": 34,
   "metadata": {},
   "outputs": [
    {
     "data": {
      "text/html": [
       "<div>\n",
       "<style scoped>\n",
       "    .dataframe tbody tr th:only-of-type {\n",
       "        vertical-align: middle;\n",
       "    }\n",
       "\n",
       "    .dataframe tbody tr th {\n",
       "        vertical-align: top;\n",
       "    }\n",
       "\n",
       "    .dataframe thead th {\n",
       "        text-align: right;\n",
       "    }\n",
       "</style>\n",
       "<table border=\"1\" class=\"dataframe\">\n",
       "  <thead>\n",
       "    <tr style=\"text-align: right;\">\n",
       "      <th></th>\n",
       "      <th>Monthly_Income</th>\n",
       "      <th>Existing_EMI</th>\n",
       "      <th>Loan_Amount_Submitted</th>\n",
       "      <th>Loan_Tenure_Submitted</th>\n",
       "      <th>EMI_Loan_Submitted</th>\n",
       "      <th>Loan_Amount_Applied</th>\n",
       "      <th>Loan_Tenure_Applied</th>\n",
       "      <th>Interest_Rate</th>\n",
       "      <th>Processing_Fee</th>\n",
       "      <th>AGE</th>\n",
       "      <th>...</th>\n",
       "      <th>Var1_HCYS</th>\n",
       "      <th>Var1_HVYS</th>\n",
       "      <th>Var2_A</th>\n",
       "      <th>Var2_B</th>\n",
       "      <th>Var2_C</th>\n",
       "      <th>Var2_D</th>\n",
       "      <th>Var2_E</th>\n",
       "      <th>Var2_F</th>\n",
       "      <th>Var2_G</th>\n",
       "      <th>Target</th>\n",
       "    </tr>\n",
       "    <tr>\n",
       "      <th>ID</th>\n",
       "      <th></th>\n",
       "      <th></th>\n",
       "      <th></th>\n",
       "      <th></th>\n",
       "      <th></th>\n",
       "      <th></th>\n",
       "      <th></th>\n",
       "      <th></th>\n",
       "      <th></th>\n",
       "      <th></th>\n",
       "      <th></th>\n",
       "      <th></th>\n",
       "      <th></th>\n",
       "      <th></th>\n",
       "      <th></th>\n",
       "      <th></th>\n",
       "      <th></th>\n",
       "      <th></th>\n",
       "      <th></th>\n",
       "      <th></th>\n",
       "      <th></th>\n",
       "    </tr>\n",
       "  </thead>\n",
       "  <tbody>\n",
       "    <tr>\n",
       "      <td>ID000002C20</td>\n",
       "      <td>20000.0</td>\n",
       "      <td>0.0</td>\n",
       "      <td>0</td>\n",
       "      <td>0</td>\n",
       "      <td>0</td>\n",
       "      <td>300000.0</td>\n",
       "      <td>5.0</td>\n",
       "      <td>0</td>\n",
       "      <td>0</td>\n",
       "      <td>41</td>\n",
       "      <td>...</td>\n",
       "      <td>0</td>\n",
       "      <td>0</td>\n",
       "      <td>0</td>\n",
       "      <td>0</td>\n",
       "      <td>0</td>\n",
       "      <td>0</td>\n",
       "      <td>0</td>\n",
       "      <td>0</td>\n",
       "      <td>1</td>\n",
       "      <td>0</td>\n",
       "    </tr>\n",
       "    <tr>\n",
       "      <td>ID000004E40</td>\n",
       "      <td>35000.0</td>\n",
       "      <td>0.0</td>\n",
       "      <td>1</td>\n",
       "      <td>1</td>\n",
       "      <td>1</td>\n",
       "      <td>200000.0</td>\n",
       "      <td>2.0</td>\n",
       "      <td>1</td>\n",
       "      <td>0</td>\n",
       "      <td>34</td>\n",
       "      <td>...</td>\n",
       "      <td>0</td>\n",
       "      <td>0</td>\n",
       "      <td>0</td>\n",
       "      <td>0</td>\n",
       "      <td>0</td>\n",
       "      <td>0</td>\n",
       "      <td>0</td>\n",
       "      <td>0</td>\n",
       "      <td>1</td>\n",
       "      <td>0</td>\n",
       "    </tr>\n",
       "    <tr>\n",
       "      <td>ID000007H20</td>\n",
       "      <td>22500.0</td>\n",
       "      <td>0.0</td>\n",
       "      <td>1</td>\n",
       "      <td>1</td>\n",
       "      <td>0</td>\n",
       "      <td>600000.0</td>\n",
       "      <td>4.0</td>\n",
       "      <td>0</td>\n",
       "      <td>0</td>\n",
       "      <td>38</td>\n",
       "      <td>...</td>\n",
       "      <td>0</td>\n",
       "      <td>0</td>\n",
       "      <td>0</td>\n",
       "      <td>1</td>\n",
       "      <td>0</td>\n",
       "      <td>0</td>\n",
       "      <td>0</td>\n",
       "      <td>0</td>\n",
       "      <td>0</td>\n",
       "      <td>0</td>\n",
       "    </tr>\n",
       "    <tr>\n",
       "      <td>ID000008I30</td>\n",
       "      <td>35000.0</td>\n",
       "      <td>0.0</td>\n",
       "      <td>1</td>\n",
       "      <td>1</td>\n",
       "      <td>0</td>\n",
       "      <td>1000000.0</td>\n",
       "      <td>5.0</td>\n",
       "      <td>0</td>\n",
       "      <td>0</td>\n",
       "      <td>31</td>\n",
       "      <td>...</td>\n",
       "      <td>0</td>\n",
       "      <td>0</td>\n",
       "      <td>0</td>\n",
       "      <td>1</td>\n",
       "      <td>0</td>\n",
       "      <td>0</td>\n",
       "      <td>0</td>\n",
       "      <td>0</td>\n",
       "      <td>0</td>\n",
       "      <td>0</td>\n",
       "    </tr>\n",
       "    <tr>\n",
       "      <td>ID000009J40</td>\n",
       "      <td>100000.0</td>\n",
       "      <td>25000.0</td>\n",
       "      <td>1</td>\n",
       "      <td>1</td>\n",
       "      <td>0</td>\n",
       "      <td>500000.0</td>\n",
       "      <td>2.0</td>\n",
       "      <td>0</td>\n",
       "      <td>0</td>\n",
       "      <td>35</td>\n",
       "      <td>...</td>\n",
       "      <td>0</td>\n",
       "      <td>0</td>\n",
       "      <td>0</td>\n",
       "      <td>1</td>\n",
       "      <td>0</td>\n",
       "      <td>0</td>\n",
       "      <td>0</td>\n",
       "      <td>0</td>\n",
       "      <td>0</td>\n",
       "      <td>0</td>\n",
       "    </tr>\n",
       "  </tbody>\n",
       "</table>\n",
       "<p>5 rows × 41 columns</p>\n",
       "</div>"
      ],
      "text/plain": [
       "             Monthly_Income  Existing_EMI  Loan_Amount_Submitted  \\\n",
       "ID                                                                 \n",
       "ID000002C20         20000.0           0.0                      0   \n",
       "ID000004E40         35000.0           0.0                      1   \n",
       "ID000007H20         22500.0           0.0                      1   \n",
       "ID000008I30         35000.0           0.0                      1   \n",
       "ID000009J40        100000.0       25000.0                      1   \n",
       "\n",
       "             Loan_Tenure_Submitted  EMI_Loan_Submitted  Loan_Amount_Applied  \\\n",
       "ID                                                                            \n",
       "ID000002C20                      0                   0             300000.0   \n",
       "ID000004E40                      1                   1             200000.0   \n",
       "ID000007H20                      1                   0             600000.0   \n",
       "ID000008I30                      1                   0            1000000.0   \n",
       "ID000009J40                      1                   0             500000.0   \n",
       "\n",
       "             Loan_Tenure_Applied  Interest_Rate  Processing_Fee  AGE  ...  \\\n",
       "ID                                                                    ...   \n",
       "ID000002C20                  5.0              0               0   41  ...   \n",
       "ID000004E40                  2.0              1               0   34  ...   \n",
       "ID000007H20                  4.0              0               0   38  ...   \n",
       "ID000008I30                  5.0              0               0   31  ...   \n",
       "ID000009J40                  2.0              0               0   35  ...   \n",
       "\n",
       "             Var1_HCYS  Var1_HVYS  Var2_A  Var2_B  Var2_C  Var2_D  Var2_E  \\\n",
       "ID                                                                          \n",
       "ID000002C20          0          0       0       0       0       0       0   \n",
       "ID000004E40          0          0       0       0       0       0       0   \n",
       "ID000007H20          0          0       0       1       0       0       0   \n",
       "ID000008I30          0          0       0       1       0       0       0   \n",
       "ID000009J40          0          0       0       1       0       0       0   \n",
       "\n",
       "             Var2_F  Var2_G  Target  \n",
       "ID                                   \n",
       "ID000002C20       0       1       0  \n",
       "ID000004E40       0       1       0  \n",
       "ID000007H20       0       0       0  \n",
       "ID000008I30       0       0       0  \n",
       "ID000009J40       0       0       0  \n",
       "\n",
       "[5 rows x 41 columns]"
      ]
     },
     "execution_count": 34,
     "metadata": {},
     "output_type": "execute_result"
    }
   ],
   "source": [
    "myColumns = list(df.columns)\n",
    "\n",
    "myColumns.pop(myColumns.index('Target'))\n",
    "\n",
    "newdf = df[myColumns]\n",
    "newdf['Target'] = df['Target']\n",
    "\n",
    "newdf.head()"
   ]
  },
  {
   "cell_type": "code",
   "execution_count": 35,
   "metadata": {},
   "outputs": [
    {
     "name": "stdout",
     "output_type": "stream",
     "text": [
      "(87020, 40)\n"
     ]
    }
   ],
   "source": [
    "X_train, y_train = newdf.iloc[:,:-1], newdf.iloc[:,-1]\n",
    "\n",
    "print(X_train.shape)"
   ]
  },
  {
   "cell_type": "markdown",
   "metadata": {},
   "source": [
    "# Upsampling"
   ]
  },
  {
   "cell_type": "code",
   "execution_count": 36,
   "metadata": {},
   "outputs": [
    {
     "name": "stderr",
     "output_type": "stream",
     "text": [
      "Using TensorFlow backend.\n"
     ]
    },
    {
     "name": "stdout",
     "output_type": "stream",
     "text": [
      "Counter({0: 85747, 1: 85747})\n"
     ]
    }
   ],
   "source": [
    "from collections import Counter\n",
    "from imblearn.over_sampling import SMOTE \n",
    "\n",
    "sm = SMOTE(random_state=42)\n",
    "X, y = sm.fit_sample(X_train, y_train)\n",
    "print(Counter(y))"
   ]
  },
  {
   "cell_type": "markdown",
   "metadata": {},
   "source": [
    "# XGBoost"
   ]
  },
  {
   "cell_type": "code",
   "execution_count": 39,
   "metadata": {},
   "outputs": [
    {
     "name": "stdout",
     "output_type": "stream",
     "text": [
      "Score Train --> 96.64  %\n",
      "   pred_0  pred_1\n",
      "0   85561     186\n",
      "1    5580   80167\n",
      "0.96528597230584\n"
     ]
    }
   ],
   "source": [
    "clf = xgb.XGBClassifier(objective='binary:logistic')\n",
    "clf.fit(X, y, eval_metric='auc')\n",
    "\n",
    "y_pred = clf.predict(X)\n",
    "print (\"Score Train -->\", round(clf.score(X, y) *100,2), \" %\")\n",
    "\n",
    "print(pd.DataFrame(confusion_matrix(y, y_pred), columns=['pred_0', 'pred_1'], index=['0', '1']))\n",
    "\n",
    "print(f1_score(y, y_pred))"
   ]
  },
  {
   "cell_type": "markdown",
   "metadata": {},
   "source": [
    "## Tune n_estimators"
   ]
  },
  {
   "cell_type": "code",
   "execution_count": 41,
   "metadata": {},
   "outputs": [
    {
     "name": "stdout",
     "output_type": "stream",
     "text": [
      "     train-auc-mean  train-auc-std  test-auc-mean  test-auc-std\n",
      "418        0.998818       0.000046       0.997751      0.000279\n",
      "419        0.998820       0.000046       0.997752      0.000278\n",
      "420        0.998823       0.000047       0.997754      0.000279\n",
      "421        0.998826       0.000046       0.997754      0.000280\n",
      "422        0.998829       0.000045       0.997756      0.000280\n"
     ]
    }
   ],
   "source": [
    "data_dmatrix = xgb.DMatrix(data=X,label=y)\n",
    "\n",
    "clf = XGBClassifier(learning_rate =0.1,\n",
    "                    n_estimators=1000,\n",
    "                    max_depth=5,\n",
    "                    min_child_weight=1,\n",
    "                    gamma=0,\n",
    "                    subsample=0.8,\n",
    "                    colsample_bytree=0.8,\n",
    "                    objective= 'binary:logistic',\n",
    "                    nthread=4,\n",
    "                    scale_pos_weight=1,\n",
    "                    seed=27)\n",
    "\n",
    "params = clf.get_xgb_params()\n",
    "\n",
    "cv_results = xgb.cv(dtrain=data_dmatrix, \n",
    "                    params=params, \n",
    "                    nfold=5,\n",
    "                    num_boost_round=clf.get_params()['n_estimators'],\n",
    "                    early_stopping_rounds=50,\n",
    "                    metrics=\"auc\", \n",
    "                    as_pandas=True, \n",
    "                    seed=123)\n",
    "\n",
    "print(cv_results.tail())"
   ]
  },
  {
   "cell_type": "markdown",
   "metadata": {},
   "source": [
    "### Confusion matrix with tuned n_estimators"
   ]
  },
  {
   "cell_type": "code",
   "execution_count": 42,
   "metadata": {},
   "outputs": [
    {
     "name": "stdout",
     "output_type": "stream",
     "text": [
      "   pred_0  pred_1\n",
      "0   85747       0\n",
      "1    1266   84481\n"
     ]
    }
   ],
   "source": [
    "clf.set_params(n_estimators=cv_results.shape[0])\n",
    "    \n",
    "#Fit the algorithm on the data\n",
    "clf.fit(X, y,eval_metric='auc')\n",
    "\n",
    "#Predict training set:\n",
    "y_pred = clf.predict(X)\n",
    "y_pred_prob = clf.predict_proba(X)[:,1]\n",
    "\n",
    "print(pd.DataFrame(confusion_matrix(y, y_pred), \n",
    "                   columns=['pred_0', 'pred_1'], \n",
    "                   index=['0', '1']))"
   ]
  },
  {
   "cell_type": "code",
   "execution_count": 43,
   "metadata": {},
   "outputs": [
    {
     "name": "stdout",
     "output_type": "stream",
     "text": [
      "\n",
      "Model Report\n",
      "Accuracy : 0.9926\n",
      "AUC Score (Train): 0.998698\n"
     ]
    }
   ],
   "source": [
    "#Print model report:\n",
    "print( \"\\nModel Report\")\n",
    "print( \"Accuracy : %.4g\" % accuracy_score(y, y_pred))\n",
    "print( \"AUC Score (Train): %f\" % roc_auc_score(y, y_pred_prob))"
   ]
  },
  {
   "cell_type": "code",
   "execution_count": 44,
   "metadata": {},
   "outputs": [
    {
     "data": {
      "text/plain": [
       "[<matplotlib.lines.Line2D at 0x2187e3bd3c8>]"
      ]
     },
     "execution_count": 44,
     "metadata": {},
     "output_type": "execute_result"
    },
    {
     "data": {
      "image/png": "[encoded data removed]",
      "text/plain": [
       "<Figure size 432x288 with 1 Axes>"
      ]
     },
     "metadata": {
      "needs_background": "light"
     },
     "output_type": "display_data"
    }
   ],
   "source": [
    "fpr, tpr, _ = roc_curve( y, y_pred )\n",
    "\n",
    "plt.figure()\n",
    "plt.plot(fpr, tpr, lw=2 )"
   ]
  },
  {
   "cell_type": "code",
   "execution_count": 46,
   "metadata": {},
   "outputs": [
    {
     "data": {
      "image/png": "[encoded data removed]",
      "text/plain": [
       "<Figure size 432x288 with 1 Axes>"
      ]
     },
     "metadata": {
      "needs_background": "light"
     },
     "output_type": "display_data"
    }
   ],
   "source": [
    "xgb.plot_importance(clf)\n",
    "plt.rcParams['figure.figsize'] = [5, 20]"
   ]
  },
  {
   "cell_type": "code",
   "execution_count": 47,
   "metadata": {},
   "outputs": [
    {
     "data": {
      "image/svg+xml": [
       "<?xml version=\"1.0\" encoding=\"UTF-8\" standalone=\"no\"?>\r\n",
       "<!DOCTYPE svg PUBLIC \"-//W3C//DTD SVG 1.1//EN\"\r\n",
       " \"http://www.w3.org/Graphics/SVG/1.1/DTD/svg11.dtd\">\r\n",
       "<!-- Generated by graphviz version 2.38.0 (20140413.2041)\r\n",
       " -->\r\n",
       "<!-- Title: %3 Pages: 1 -->\r\n",
       "<svg width=\"3169pt\" height=\"479pt\"\r\n",
       " viewBox=\"0.00 0.00 3168.54 479.00\" xmlns=\"http://www.w3.org/2000/svg\" xmlns:xlink=\"http://www.w3.org/1999/xlink\">\r\n",
       "<g id=\"graph0\" class=\"graph\" transform=\"scale(1 1) rotate(0) translate(4 475)\">\r\n",
       "<title>%3</title>\r\n",
       "<polygon fill=\"white\" stroke=\"none\" points=\"-4,4 -4,-475 3164.54,-475 3164.54,4 -4,4\"/>\r\n",
       "<!-- 0 -->\r\n",
       "<g id=\"node1\" class=\"node\"><title>0</title>\r\n",
       "<ellipse fill=\"none\" stroke=\"black\" cx=\"1565.99\" cy=\"-453\" rx=\"65.7887\" ry=\"18\"/>\r\n",
       "<text text-anchor=\"middle\" x=\"1565.99\" y=\"-449.3\" font-family=\"Times New Roman,serif\" font-size=\"14.00\">f0&lt;25000.1445</text>\r\n",
       "</g>\r\n",
       "<!-- 1 -->\r\n",
       "<g id=\"node2\" class=\"node\"><title>1</title>\r\n",
       "<ellipse fill=\"none\" stroke=\"black\" cx=\"958.993\" cy=\"-366\" rx=\"69.5877\" ry=\"18\"/>\r\n",
       "<text text-anchor=\"middle\" x=\"958.993\" y=\"-362.3\" font-family=\"Times New Roman,serif\" font-size=\"14.00\">f11&lt;1.00013983</text>\r\n",
       "</g>\r\n",
       "<!-- 0&#45;&gt;1 -->\r\n",
       "<g id=\"edge1\" class=\"edge\"><title>0&#45;&gt;1</title>\r\n",
       "<path fill=\"none\" stroke=\"#0000ff\" d=\"M1508.89,-444.003C1397.08,-428.347 1149.66,-393.7 1028.53,-376.738\"/>\r\n",
       "<polygon fill=\"#0000ff\" stroke=\"#0000ff\" points=\"1029.01,-373.271 1018.62,-375.35 1028.04,-380.203 1029.01,-373.271\"/>\r\n",
       "<text text-anchor=\"middle\" x=\"1333.49\" y=\"-405.8\" font-family=\"Times New Roman,serif\" font-size=\"14.00\">yes, missing</text>\r\n",
       "</g>\r\n",
       "<!-- 2 -->\r\n",
       "<g id=\"node3\" class=\"node\"><title>2</title>\r\n",
       "<ellipse fill=\"none\" stroke=\"black\" cx=\"1948.99\" cy=\"-366\" rx=\"81.4863\" ry=\"18\"/>\r\n",
       "<text text-anchor=\"middle\" x=\"1948.99\" y=\"-362.3\" font-family=\"Times New Roman,serif\" font-size=\"14.00\">f4&lt;4.15235154e&#45;05</text>\r\n",
       "</g>\r\n",
       "<!-- 0&#45;&gt;2 -->\r\n",
       "<g id=\"edge2\" class=\"edge\"><title>0&#45;&gt;2</title>\r\n",
       "<path fill=\"none\" stroke=\"#ff0000\" d=\"M1615.28,-441.062C1683.73,-425.871 1807.71,-398.356 1883.76,-381.478\"/>\r\n",
       "<polygon fill=\"#ff0000\" stroke=\"#ff0000\" points=\"1884.7,-384.855 1893.7,-379.271 1883.18,-378.021 1884.7,-384.855\"/>\r\n",
       "<text text-anchor=\"middle\" x=\"1788.49\" y=\"-405.8\" font-family=\"Times New Roman,serif\" font-size=\"14.00\">no</text>\r\n",
       "</g>\r\n",
       "<!-- 3 -->\r\n",
       "<g id=\"node4\" class=\"node\"><title>3</title>\r\n",
       "<ellipse fill=\"none\" stroke=\"black\" cx=\"695.993\" cy=\"-279\" rx=\"83.3857\" ry=\"18\"/>\r\n",
       "<text text-anchor=\"middle\" x=\"695.993\" y=\"-275.3\" font-family=\"Times New Roman,serif\" font-size=\"14.00\">f15&lt;0.00287656533</text>\r\n",
       "</g>\r\n",
       "<!-- 1&#45;&gt;3 -->\r\n",
       "<g id=\"edge3\" class=\"edge\"><title>1&#45;&gt;3</title>\r\n",
       "<path fill=\"none\" stroke=\"#0000ff\" d=\"M917.32,-351.531C872.102,-336.917 799.741,-313.531 750.148,-297.503\"/>\r\n",
       "<polygon fill=\"#0000ff\" stroke=\"#0000ff\" points=\"751.14,-294.145 740.548,-294.4 748.987,-300.806 751.14,-294.145\"/>\r\n",
       "<text text-anchor=\"middle\" x=\"878.493\" y=\"-318.8\" font-family=\"Times New Roman,serif\" font-size=\"14.00\">yes, missing</text>\r\n",
       "</g>\r\n",
       "<!-- 4 -->\r\n",
       "<g id=\"node5\" class=\"node\"><title>4</title>\r\n",
       "<ellipse fill=\"none\" stroke=\"black\" cx=\"958.993\" cy=\"-279\" rx=\"69.5877\" ry=\"18\"/>\r\n",
       "<text text-anchor=\"middle\" x=\"958.993\" y=\"-275.3\" font-family=\"Times New Roman,serif\" font-size=\"14.00\">f11&lt;1.99982285</text>\r\n",
       "</g>\r\n",
       "<!-- 1&#45;&gt;4 -->\r\n",
       "<g id=\"edge4\" class=\"edge\"><title>1&#45;&gt;4</title>\r\n",
       "<path fill=\"none\" stroke=\"#ff0000\" d=\"M958.993,-347.799C958.993,-336.163 958.993,-320.548 958.993,-307.237\"/>\r\n",
       "<polygon fill=\"#ff0000\" stroke=\"#ff0000\" points=\"962.493,-307.175 958.993,-297.175 955.493,-307.175 962.493,-307.175\"/>\r\n",
       "<text text-anchor=\"middle\" x=\"966.493\" y=\"-318.8\" font-family=\"Times New Roman,serif\" font-size=\"14.00\">no</text>\r\n",
       "</g>\r\n",
       "<!-- 5 -->\r\n",
       "<g id=\"node24\" class=\"node\"><title>5</title>\r\n",
       "<ellipse fill=\"none\" stroke=\"black\" cx=\"1948.99\" cy=\"-279\" rx=\"74.187\" ry=\"18\"/>\r\n",
       "<text text-anchor=\"middle\" x=\"1948.99\" y=\"-275.3\" font-family=\"Times New Roman,serif\" font-size=\"14.00\">f39&lt;0.999765396</text>\r\n",
       "</g>\r\n",
       "<!-- 2&#45;&gt;5 -->\r\n",
       "<g id=\"edge23\" class=\"edge\"><title>2&#45;&gt;5</title>\r\n",
       "<path fill=\"none\" stroke=\"#0000ff\" d=\"M1948.99,-347.799C1948.99,-336.163 1948.99,-320.548 1948.99,-307.237\"/>\r\n",
       "<polygon fill=\"#0000ff\" stroke=\"#0000ff\" points=\"1952.49,-307.175 1948.99,-297.175 1945.49,-307.175 1952.49,-307.175\"/>\r\n",
       "<text text-anchor=\"middle\" x=\"1983.49\" y=\"-318.8\" font-family=\"Times New Roman,serif\" font-size=\"14.00\">yes, missing</text>\r\n",
       "</g>\r\n",
       "<!-- 6 -->\r\n",
       "<g id=\"node25\" class=\"node\"><title>6</title>\r\n",
       "<ellipse fill=\"none\" stroke=\"black\" cx=\"2298.99\" cy=\"-279\" rx=\"69.5877\" ry=\"18\"/>\r\n",
       "<text text-anchor=\"middle\" x=\"2298.99\" y=\"-275.3\" font-family=\"Times New Roman,serif\" font-size=\"14.00\">f4&lt;0.999992132</text>\r\n",
       "</g>\r\n",
       "<!-- 2&#45;&gt;6 -->\r\n",
       "<g id=\"edge24\" class=\"edge\"><title>2&#45;&gt;6</title>\r\n",
       "<path fill=\"none\" stroke=\"#ff0000\" d=\"M2001.77,-352.183C2065.8,-336.633 2173.43,-310.494 2240.1,-294.303\"/>\r\n",
       "<polygon fill=\"#ff0000\" stroke=\"#ff0000\" points=\"2241.14,-297.652 2250.03,-291.891 2239.49,-290.85 2241.14,-297.652\"/>\r\n",
       "<text text-anchor=\"middle\" x=\"2152.49\" y=\"-318.8\" font-family=\"Times New Roman,serif\" font-size=\"14.00\">no</text>\r\n",
       "</g>\r\n",
       "<!-- 7 -->\r\n",
       "<g id=\"node6\" class=\"node\"><title>7</title>\r\n",
       "<ellipse fill=\"none\" stroke=\"black\" cx=\"431.993\" cy=\"-192\" rx=\"65.7887\" ry=\"18\"/>\r\n",
       "<text text-anchor=\"middle\" x=\"431.993\" y=\"-188.3\" font-family=\"Times New Roman,serif\" font-size=\"14.00\">f0&lt;20004.6094</text>\r\n",
       "</g>\r\n",
       "<!-- 3&#45;&gt;7 -->\r\n",
       "<g id=\"edge5\" class=\"edge\"><title>3&#45;&gt;7</title>\r\n",
       "<path fill=\"none\" stroke=\"#0000ff\" d=\"M651.508,-263.677C604.765,-248.627 531.376,-224.998 482.491,-209.259\"/>\r\n",
       "<polygon fill=\"#0000ff\" stroke=\"#0000ff\" points=\"483.344,-205.857 472.752,-206.123 481.199,-212.52 483.344,-205.857\"/>\r\n",
       "<text text-anchor=\"middle\" x=\"614.493\" y=\"-231.8\" font-family=\"Times New Roman,serif\" font-size=\"14.00\">yes, missing</text>\r\n",
       "</g>\r\n",
       "<!-- 8 -->\r\n",
       "<g id=\"node7\" class=\"node\"><title>8</title>\r\n",
       "<ellipse fill=\"none\" stroke=\"black\" cx=\"695.993\" cy=\"-192\" rx=\"74.187\" ry=\"18\"/>\r\n",
       "<text text-anchor=\"middle\" x=\"695.993\" y=\"-188.3\" font-family=\"Times New Roman,serif\" font-size=\"14.00\">f15&lt;0.996311009</text>\r\n",
       "</g>\r\n",
       "<!-- 3&#45;&gt;8 -->\r\n",
       "<g id=\"edge6\" class=\"edge\"><title>3&#45;&gt;8</title>\r\n",
       "<path fill=\"none\" stroke=\"#ff0000\" d=\"M695.993,-260.799C695.993,-249.163 695.993,-233.548 695.993,-220.237\"/>\r\n",
       "<polygon fill=\"#ff0000\" stroke=\"#ff0000\" points=\"699.493,-220.175 695.993,-210.175 692.493,-220.175 699.493,-220.175\"/>\r\n",
       "<text text-anchor=\"middle\" x=\"703.493\" y=\"-231.8\" font-family=\"Times New Roman,serif\" font-size=\"14.00\">no</text>\r\n",
       "</g>\r\n",
       "<!-- 9 -->\r\n",
       "<g id=\"node16\" class=\"node\"><title>9</title>\r\n",
       "<ellipse fill=\"none\" stroke=\"black\" cx=\"894.993\" cy=\"-192\" rx=\"75.2868\" ry=\"18\"/>\r\n",
       "<text text-anchor=\"middle\" x=\"894.993\" y=\"-188.3\" font-family=\"Times New Roman,serif\" font-size=\"14.00\">leaf=0.199182853</text>\r\n",
       "</g>\r\n",
       "<!-- 4&#45;&gt;9 -->\r\n",
       "<g id=\"edge15\" class=\"edge\"><title>4&#45;&gt;9</title>\r\n",
       "<path fill=\"none\" stroke=\"#0000ff\" d=\"M945.741,-260.963C941.342,-255.269 936.435,-248.878 931.993,-243 925.969,-235.028 919.466,-226.286 913.617,-218.373\"/>\r\n",
       "<polygon fill=\"#0000ff\" stroke=\"#0000ff\" points=\"916.333,-216.159 907.581,-210.187 910.699,-220.313 916.333,-216.159\"/>\r\n",
       "<text text-anchor=\"middle\" x=\"966.493\" y=\"-231.8\" font-family=\"Times New Roman,serif\" font-size=\"14.00\">yes, missing</text>\r\n",
       "</g>\r\n",
       "<!-- 10 -->\r\n",
       "<g id=\"node17\" class=\"node\"><title>10</title>\r\n",
       "<ellipse fill=\"none\" stroke=\"black\" cx=\"1057.99\" cy=\"-192\" rx=\"69.5877\" ry=\"18\"/>\r\n",
       "<text text-anchor=\"middle\" x=\"1057.99\" y=\"-188.3\" font-family=\"Times New Roman,serif\" font-size=\"14.00\">f11&lt;2.00055051</text>\r\n",
       "</g>\r\n",
       "<!-- 4&#45;&gt;10 -->\r\n",
       "<g id=\"edge16\" class=\"edge\"><title>4&#45;&gt;10</title>\r\n",
       "<path fill=\"none\" stroke=\"#ff0000\" d=\"M978.737,-261.721C985.792,-255.858 993.779,-249.168 1000.99,-243 1011.08,-234.379 1022.05,-224.796 1031.66,-216.346\"/>\r\n",
       "<polygon fill=\"#ff0000\" stroke=\"#ff0000\" points=\"1034.17,-218.798 1039.36,-209.559 1029.54,-213.548 1034.17,-218.798\"/>\r\n",
       "<text text-anchor=\"middle\" x=\"1026.49\" y=\"-231.8\" font-family=\"Times New Roman,serif\" font-size=\"14.00\">no</text>\r\n",
       "</g>\r\n",
       "<!-- 15 -->\r\n",
       "<g id=\"node8\" class=\"node\"><title>15</title>\r\n",
       "<ellipse fill=\"none\" stroke=\"black\" cx=\"251.993\" cy=\"-105\" rx=\"65.7887\" ry=\"18\"/>\r\n",
       "<text text-anchor=\"middle\" x=\"251.993\" y=\"-101.3\" font-family=\"Times New Roman,serif\" font-size=\"14.00\">f0&lt;18054.4688</text>\r\n",
       "</g>\r\n",
       "<!-- 7&#45;&gt;15 -->\r\n",
       "<g id=\"edge7\" class=\"edge\"><title>7&#45;&gt;15</title>\r\n",
       "<path fill=\"none\" stroke=\"#0000ff\" d=\"M400.227,-175.999C370.281,-161.858 325.261,-140.599 292.695,-125.22\"/>\r\n",
       "<polygon fill=\"#0000ff\" stroke=\"#0000ff\" points=\"293.979,-121.956 283.442,-120.851 290.99,-128.286 293.979,-121.956\"/>\r\n",
       "<text text-anchor=\"middle\" x=\"387.493\" y=\"-144.8\" font-family=\"Times New Roman,serif\" font-size=\"14.00\">yes, missing</text>\r\n",
       "</g>\r\n",
       "<!-- 16 -->\r\n",
       "<g id=\"node9\" class=\"node\"><title>16</title>\r\n",
       "<ellipse fill=\"none\" stroke=\"black\" cx=\"431.993\" cy=\"-105\" rx=\"87.1846\" ry=\"18\"/>\r\n",
       "<text text-anchor=\"middle\" x=\"431.993\" y=\"-101.3\" font-family=\"Times New Roman,serif\" font-size=\"14.00\">f34&lt;0.000227504031</text>\r\n",
       "</g>\r\n",
       "<!-- 7&#45;&gt;16 -->\r\n",
       "<g id=\"edge8\" class=\"edge\"><title>7&#45;&gt;16</title>\r\n",
       "<path fill=\"none\" stroke=\"#ff0000\" d=\"M431.993,-173.799C431.993,-162.163 431.993,-146.548 431.993,-133.237\"/>\r\n",
       "<polygon fill=\"#ff0000\" stroke=\"#ff0000\" points=\"435.493,-133.175 431.993,-123.175 428.493,-133.175 435.493,-133.175\"/>\r\n",
       "<text text-anchor=\"middle\" x=\"439.493\" y=\"-144.8\" font-family=\"Times New Roman,serif\" font-size=\"14.00\">no</text>\r\n",
       "</g>\r\n",
       "<!-- 17 -->\r\n",
       "<g id=\"node14\" class=\"node\"><title>17</title>\r\n",
       "<ellipse fill=\"none\" stroke=\"black\" cx=\"614.993\" cy=\"-105\" rx=\"66.0889\" ry=\"18\"/>\r\n",
       "<text text-anchor=\"middle\" x=\"614.993\" y=\"-101.3\" font-family=\"Times New Roman,serif\" font-size=\"14.00\">leaf=0.1944056</text>\r\n",
       "</g>\r\n",
       "<!-- 8&#45;&gt;17 -->\r\n",
       "<g id=\"edge13\" class=\"edge\"><title>8&#45;&gt;17</title>\r\n",
       "<path fill=\"none\" stroke=\"#0000ff\" d=\"M679.99,-174.207C668.008,-161.633 651.445,-144.252 638.038,-130.182\"/>\r\n",
       "<polygon fill=\"#0000ff\" stroke=\"#0000ff\" points=\"640.395,-127.583 630.963,-122.758 635.328,-132.412 640.395,-127.583\"/>\r\n",
       "<text text-anchor=\"middle\" x=\"695.493\" y=\"-144.8\" font-family=\"Times New Roman,serif\" font-size=\"14.00\">yes, missing</text>\r\n",
       "</g>\r\n",
       "<!-- 18 -->\r\n",
       "<g id=\"node15\" class=\"node\"><title>18</title>\r\n",
       "<ellipse fill=\"none\" stroke=\"black\" cx=\"776.993\" cy=\"-105\" rx=\"77.9862\" ry=\"18\"/>\r\n",
       "<text text-anchor=\"middle\" x=\"776.993\" y=\"-101.3\" font-family=\"Times New Roman,serif\" font-size=\"14.00\">leaf=&#45;0.145454556</text>\r\n",
       "</g>\r\n",
       "<!-- 8&#45;&gt;18 -->\r\n",
       "<g id=\"edge14\" class=\"edge\"><title>8&#45;&gt;18</title>\r\n",
       "<path fill=\"none\" stroke=\"#ff0000\" d=\"M714.957,-174.33C721.169,-168.661 728.009,-162.191 733.993,-156 741.632,-148.097 749.588,-139.09 756.55,-130.918\"/>\r\n",
       "<polygon fill=\"#ff0000\" stroke=\"#ff0000\" points=\"759.371,-133.002 763.132,-123.097 754.015,-128.495 759.371,-133.002\"/>\r\n",
       "<text text-anchor=\"middle\" x=\"755.493\" y=\"-144.8\" font-family=\"Times New Roman,serif\" font-size=\"14.00\">no</text>\r\n",
       "</g>\r\n",
       "<!-- 27 -->\r\n",
       "<g id=\"node10\" class=\"node\"><title>27</title>\r\n",
       "<ellipse fill=\"none\" stroke=\"black\" cx=\"77.9931\" cy=\"-18\" rx=\"77.9862\" ry=\"18\"/>\r\n",
       "<text text-anchor=\"middle\" x=\"77.9931\" y=\"-14.3\" font-family=\"Times New Roman,serif\" font-size=\"14.00\">leaf=&#45;0.199487314</text>\r\n",
       "</g>\r\n",
       "<!-- 15&#45;&gt;27 -->\r\n",
       "<g id=\"edge9\" class=\"edge\"><title>15&#45;&gt;27</title>\r\n",
       "<path fill=\"none\" stroke=\"#0000ff\" d=\"M220.691,-89.0983C207.764,-82.9167 192.639,-75.6486 178.993,-69 158.981,-59.2494 136.807,-48.2895 118.345,-39.1213\"/>\r\n",
       "<polygon fill=\"#0000ff\" stroke=\"#0000ff\" points=\"119.847,-35.9593 109.334,-34.6423 116.731,-42.2276 119.847,-35.9593\"/>\r\n",
       "<text text-anchor=\"middle\" x=\"213.493\" y=\"-57.8\" font-family=\"Times New Roman,serif\" font-size=\"14.00\">yes, missing</text>\r\n",
       "</g>\r\n",
       "<!-- 28 -->\r\n",
       "<g id=\"node11\" class=\"node\"><title>28</title>\r\n",
       "<ellipse fill=\"none\" stroke=\"black\" cx=\"251.993\" cy=\"-18\" rx=\"77.9862\" ry=\"18\"/>\r\n",
       "<text text-anchor=\"middle\" x=\"251.993\" y=\"-14.3\" font-family=\"Times New Roman,serif\" font-size=\"14.00\">leaf=&#45;0.185249463</text>\r\n",
       "</g>\r\n",
       "<!-- 15&#45;&gt;28 -->\r\n",
       "<g id=\"edge10\" class=\"edge\"><title>15&#45;&gt;28</title>\r\n",
       "<path fill=\"none\" stroke=\"#ff0000\" d=\"M251.993,-86.799C251.993,-75.1626 251.993,-59.5479 251.993,-46.2368\"/>\r\n",
       "<polygon fill=\"#ff0000\" stroke=\"#ff0000\" points=\"255.493,-46.1754 251.993,-36.1754 248.493,-46.1755 255.493,-46.1754\"/>\r\n",
       "<text text-anchor=\"middle\" x=\"259.493\" y=\"-57.8\" font-family=\"Times New Roman,serif\" font-size=\"14.00\">no</text>\r\n",
       "</g>\r\n",
       "<!-- 29 -->\r\n",
       "<g id=\"node12\" class=\"node\"><title>29</title>\r\n",
       "<ellipse fill=\"none\" stroke=\"black\" cx=\"425.993\" cy=\"-18\" rx=\"77.9862\" ry=\"18\"/>\r\n",
       "<text text-anchor=\"middle\" x=\"425.993\" y=\"-14.3\" font-family=\"Times New Roman,serif\" font-size=\"14.00\">leaf=&#45;0.188765869</text>\r\n",
       "</g>\r\n",
       "<!-- 16&#45;&gt;29 -->\r\n",
       "<g id=\"edge11\" class=\"edge\"><title>16&#45;&gt;29</title>\r\n",
       "<path fill=\"none\" stroke=\"#0000ff\" d=\"M430.779,-86.799C429.957,-75.1626 428.855,-59.5479 427.916,-46.2368\"/>\r\n",
       "<polygon fill=\"#0000ff\" stroke=\"#0000ff\" points=\"431.401,-45.9041 427.205,-36.1754 424.418,-46.3971 431.401,-45.9041\"/>\r\n",
       "<text text-anchor=\"middle\" x=\"464.493\" y=\"-57.8\" font-family=\"Times New Roman,serif\" font-size=\"14.00\">yes, missing</text>\r\n",
       "</g>\r\n",
       "<!-- 30 -->\r\n",
       "<g id=\"node13\" class=\"node\"><title>30</title>\r\n",
       "<ellipse fill=\"none\" stroke=\"black\" cx=\"604.993\" cy=\"-18\" rx=\"82.5854\" ry=\"18\"/>\r\n",
       "<text text-anchor=\"middle\" x=\"604.993\" y=\"-14.3\" font-family=\"Times New Roman,serif\" font-size=\"14.00\">leaf=&#45;0.0798173472</text>\r\n",
       "</g>\r\n",
       "<!-- 16&#45;&gt;30 -->\r\n",
       "<g id=\"edge12\" class=\"edge\"><title>16&#45;&gt;30</title>\r\n",
       "<path fill=\"none\" stroke=\"#ff0000\" d=\"M464.128,-88.2114C492.288,-74.3753 533.376,-54.1875 563.917,-39.1819\"/>\r\n",
       "<polygon fill=\"#ff0000\" stroke=\"#ff0000\" points=\"565.599,-42.2552 573.031,-34.7041 562.512,-35.9726 565.599,-42.2552\"/>\r\n",
       "<text text-anchor=\"middle\" x=\"536.493\" y=\"-57.8\" font-family=\"Times New Roman,serif\" font-size=\"14.00\">no</text>\r\n",
       "</g>\r\n",
       "<!-- 19 -->\r\n",
       "<g id=\"node18\" class=\"node\"><title>19</title>\r\n",
       "<ellipse fill=\"none\" stroke=\"black\" cx=\"957.993\" cy=\"-105\" rx=\"78.7863\" ry=\"18\"/>\r\n",
       "<text text-anchor=\"middle\" x=\"957.993\" y=\"-101.3\" font-family=\"Times New Roman,serif\" font-size=\"14.00\">f39&lt;0.0120088477</text>\r\n",
       "</g>\r\n",
       "<!-- 10&#45;&gt;19 -->\r\n",
       "<g id=\"edge17\" class=\"edge\"><title>10&#45;&gt;19</title>\r\n",
       "<path fill=\"none\" stroke=\"#0000ff\" d=\"M1038.71,-174.611C1023.59,-161.759 1002.35,-143.706 985.456,-129.344\"/>\r\n",
       "<polygon fill=\"#0000ff\" stroke=\"#0000ff\" points=\"987.442,-126.438 977.556,-122.629 982.909,-131.772 987.442,-126.438\"/>\r\n",
       "<text text-anchor=\"middle\" x=\"1048.49\" y=\"-144.8\" font-family=\"Times New Roman,serif\" font-size=\"14.00\">yes, missing</text>\r\n",
       "</g>\r\n",
       "<!-- 20 -->\r\n",
       "<g id=\"node19\" class=\"node\"><title>20</title>\r\n",
       "<ellipse fill=\"none\" stroke=\"black\" cx=\"1128.99\" cy=\"-105\" rx=\"69.5877\" ry=\"18\"/>\r\n",
       "<text text-anchor=\"middle\" x=\"1128.99\" y=\"-101.3\" font-family=\"Times New Roman,serif\" font-size=\"14.00\">f11&lt;2.99995852</text>\r\n",
       "</g>\r\n",
       "<!-- 10&#45;&gt;20 -->\r\n",
       "<g id=\"edge18\" class=\"edge\"><title>10&#45;&gt;20</title>\r\n",
       "<path fill=\"none\" stroke=\"#ff0000\" d=\"M1072.02,-174.207C1082.43,-161.75 1096.77,-144.573 1108.47,-130.574\"/>\r\n",
       "<polygon fill=\"#ff0000\" stroke=\"#ff0000\" points=\"1111.27,-132.677 1114.99,-122.758 1105.9,-128.189 1111.27,-132.677\"/>\r\n",
       "<text text-anchor=\"middle\" x=\"1105.49\" y=\"-144.8\" font-family=\"Times New Roman,serif\" font-size=\"14.00\">no</text>\r\n",
       "</g>\r\n",
       "<!-- 31 -->\r\n",
       "<g id=\"node20\" class=\"node\"><title>31</title>\r\n",
       "<ellipse fill=\"none\" stroke=\"black\" cx=\"783.993\" cy=\"-18\" rx=\"77.9862\" ry=\"18\"/>\r\n",
       "<text text-anchor=\"middle\" x=\"783.993\" y=\"-14.3\" font-family=\"Times New Roman,serif\" font-size=\"14.00\">leaf=&#45;0.197941691</text>\r\n",
       "</g>\r\n",
       "<!-- 19&#45;&gt;31 -->\r\n",
       "<g id=\"edge19\" class=\"edge\"><title>19&#45;&gt;31</title>\r\n",
       "<path fill=\"none\" stroke=\"#0000ff\" d=\"M925.608,-88.5807C912.924,-82.5134 898.26,-75.4639 884.993,-69 864.981,-59.2494 842.807,-48.2895 824.345,-39.1213\"/>\r\n",
       "<polygon fill=\"#0000ff\" stroke=\"#0000ff\" points=\"825.847,-35.9593 815.334,-34.6423 822.731,-42.2276 825.847,-35.9593\"/>\r\n",
       "<text text-anchor=\"middle\" x=\"919.493\" y=\"-57.8\" font-family=\"Times New Roman,serif\" font-size=\"14.00\">yes, missing</text>\r\n",
       "</g>\r\n",
       "<!-- 32 -->\r\n",
       "<g id=\"node21\" class=\"node\"><title>32</title>\r\n",
       "<ellipse fill=\"none\" stroke=\"black\" cx=\"957.993\" cy=\"-18\" rx=\"77.9862\" ry=\"18\"/>\r\n",
       "<text text-anchor=\"middle\" x=\"957.993\" y=\"-14.3\" font-family=\"Times New Roman,serif\" font-size=\"14.00\">leaf=&#45;0.166896552</text>\r\n",
       "</g>\r\n",
       "<!-- 19&#45;&gt;32 -->\r\n",
       "<g id=\"edge20\" class=\"edge\"><title>19&#45;&gt;32</title>\r\n",
       "<path fill=\"none\" stroke=\"#ff0000\" d=\"M957.993,-86.799C957.993,-75.1626 957.993,-59.5479 957.993,-46.2368\"/>\r\n",
       "<polygon fill=\"#ff0000\" stroke=\"#ff0000\" points=\"961.493,-46.1754 957.993,-36.1754 954.493,-46.1755 961.493,-46.1754\"/>\r\n",
       "<text text-anchor=\"middle\" x=\"965.493\" y=\"-57.8\" font-family=\"Times New Roman,serif\" font-size=\"14.00\">no</text>\r\n",
       "</g>\r\n",
       "<!-- 33 -->\r\n",
       "<g id=\"node22\" class=\"node\"><title>33</title>\r\n",
       "<ellipse fill=\"none\" stroke=\"black\" cx=\"1128.99\" cy=\"-18\" rx=\"75.2868\" ry=\"18\"/>\r\n",
       "<text text-anchor=\"middle\" x=\"1128.99\" y=\"-14.3\" font-family=\"Times New Roman,serif\" font-size=\"14.00\">leaf=0.199415639</text>\r\n",
       "</g>\r\n",
       "<!-- 20&#45;&gt;33 -->\r\n",
       "<g id=\"edge21\" class=\"edge\"><title>20&#45;&gt;33</title>\r\n",
       "<path fill=\"none\" stroke=\"#0000ff\" d=\"M1128.99,-86.799C1128.99,-75.1626 1128.99,-59.5479 1128.99,-46.2368\"/>\r\n",
       "<polygon fill=\"#0000ff\" stroke=\"#0000ff\" points=\"1132.49,-46.1754 1128.99,-36.1754 1125.49,-46.1755 1132.49,-46.1754\"/>\r\n",
       "<text text-anchor=\"middle\" x=\"1163.49\" y=\"-57.8\" font-family=\"Times New Roman,serif\" font-size=\"14.00\">yes, missing</text>\r\n",
       "</g>\r\n",
       "<!-- 34 -->\r\n",
       "<g id=\"node23\" class=\"node\"><title>34</title>\r\n",
       "<ellipse fill=\"none\" stroke=\"black\" cx=\"1304.99\" cy=\"-18\" rx=\"82.5854\" ry=\"18\"/>\r\n",
       "<text text-anchor=\"middle\" x=\"1304.99\" y=\"-14.3\" font-family=\"Times New Roman,serif\" font-size=\"14.00\">leaf=&#45;0.0763241649</text>\r\n",
       "</g>\r\n",
       "<!-- 20&#45;&gt;34 -->\r\n",
       "<g id=\"edge22\" class=\"edge\"><title>20&#45;&gt;34</title>\r\n",
       "<path fill=\"none\" stroke=\"#ff0000\" d=\"M1160.63,-88.873C1173.47,-82.7211 1188.45,-75.5346 1201.99,-69 1222.21,-59.2468 1244.63,-48.3694 1263.38,-39.2572\"/>\r\n",
       "<polygon fill=\"#ff0000\" stroke=\"#ff0000\" points=\"1265.08,-42.3241 1272.54,-34.8038 1262.02,-36.0287 1265.08,-42.3241\"/>\r\n",
       "<text text-anchor=\"middle\" x=\"1238.49\" y=\"-57.8\" font-family=\"Times New Roman,serif\" font-size=\"14.00\">no</text>\r\n",
       "</g>\r\n",
       "<!-- 11 -->\r\n",
       "<g id=\"node26\" class=\"node\"><title>11</title>\r\n",
       "<ellipse fill=\"none\" stroke=\"black\" cx=\"1820.99\" cy=\"-192\" rx=\"85.2851\" ry=\"18\"/>\r\n",
       "<text text-anchor=\"middle\" x=\"1820.99\" y=\"-188.3\" font-family=\"Times New Roman,serif\" font-size=\"14.00\">f39&lt;2.37694749e&#45;05</text>\r\n",
       "</g>\r\n",
       "<!-- 5&#45;&gt;11 -->\r\n",
       "<g id=\"edge25\" class=\"edge\"><title>5&#45;&gt;11</title>\r\n",
       "<path fill=\"none\" stroke=\"#0000ff\" d=\"M1924.62,-261.812C1904.64,-248.545 1876.17,-229.638 1854.12,-214.998\"/>\r\n",
       "<polygon fill=\"#0000ff\" stroke=\"#0000ff\" points=\"1855.98,-212.034 1845.72,-209.417 1852.11,-217.865 1855.98,-212.034\"/>\r\n",
       "<text text-anchor=\"middle\" x=\"1927.49\" y=\"-231.8\" font-family=\"Times New Roman,serif\" font-size=\"14.00\">yes, missing</text>\r\n",
       "</g>\r\n",
       "<!-- 12 -->\r\n",
       "<g id=\"node27\" class=\"node\"><title>12</title>\r\n",
       "<ellipse fill=\"none\" stroke=\"black\" cx=\"1994.99\" cy=\"-192\" rx=\"61.1893\" ry=\"18\"/>\r\n",
       "<text text-anchor=\"middle\" x=\"1994.99\" y=\"-188.3\" font-family=\"Times New Roman,serif\" font-size=\"14.00\">f1&lt;64.196785</text>\r\n",
       "</g>\r\n",
       "<!-- 5&#45;&gt;12 -->\r\n",
       "<g id=\"edge26\" class=\"edge\"><title>5&#45;&gt;12</title>\r\n",
       "<path fill=\"none\" stroke=\"#ff0000\" d=\"M1958.3,-260.799C1964.83,-248.738 1973.67,-232.403 1981.04,-218.79\"/>\r\n",
       "<polygon fill=\"#ff0000\" stroke=\"#ff0000\" points=\"1984.17,-220.346 1985.86,-209.885 1978.02,-217.014 1984.17,-220.346\"/>\r\n",
       "<text text-anchor=\"middle\" x=\"1982.49\" y=\"-231.8\" font-family=\"Times New Roman,serif\" font-size=\"14.00\">no</text>\r\n",
       "</g>\r\n",
       "<!-- 13 -->\r\n",
       "<g id=\"node38\" class=\"node\"><title>13</title>\r\n",
       "<ellipse fill=\"none\" stroke=\"black\" cx=\"2298.99\" cy=\"-192\" rx=\"75.2868\" ry=\"18\"/>\r\n",
       "<text text-anchor=\"middle\" x=\"2298.99\" y=\"-188.3\" font-family=\"Times New Roman,serif\" font-size=\"14.00\">leaf=0.199971393</text>\r\n",
       "</g>\r\n",
       "<!-- 6&#45;&gt;13 -->\r\n",
       "<g id=\"edge37\" class=\"edge\"><title>6&#45;&gt;13</title>\r\n",
       "<path fill=\"none\" stroke=\"#0000ff\" d=\"M2298.99,-260.799C2298.99,-249.163 2298.99,-233.548 2298.99,-220.237\"/>\r\n",
       "<polygon fill=\"#0000ff\" stroke=\"#0000ff\" points=\"2302.49,-220.175 2298.99,-210.175 2295.49,-220.175 2302.49,-220.175\"/>\r\n",
       "<text text-anchor=\"middle\" x=\"2333.49\" y=\"-231.8\" font-family=\"Times New Roman,serif\" font-size=\"14.00\">yes, missing</text>\r\n",
       "</g>\r\n",
       "<!-- 14 -->\r\n",
       "<g id=\"node39\" class=\"node\"><title>14</title>\r\n",
       "<ellipse fill=\"none\" stroke=\"black\" cx=\"2627.99\" cy=\"-192\" rx=\"85.2851\" ry=\"18\"/>\r\n",
       "<text text-anchor=\"middle\" x=\"2627.99\" y=\"-188.3\" font-family=\"Times New Roman,serif\" font-size=\"14.00\">f13&lt;7.90972917e&#45;05</text>\r\n",
       "</g>\r\n",
       "<!-- 6&#45;&gt;14 -->\r\n",
       "<g id=\"edge38\" class=\"edge\"><title>6&#45;&gt;14</title>\r\n",
       "<path fill=\"none\" stroke=\"#ff0000\" d=\"M2346.48,-265.731C2404.42,-250.762 2502.51,-225.421 2566.25,-208.951\"/>\r\n",
       "<polygon fill=\"#ff0000\" stroke=\"#ff0000\" points=\"2567.37,-212.277 2576.18,-206.387 2565.62,-205.5 2567.37,-212.277\"/>\r\n",
       "<text text-anchor=\"middle\" x=\"2491.49\" y=\"-231.8\" font-family=\"Times New Roman,serif\" font-size=\"14.00\">no</text>\r\n",
       "</g>\r\n",
       "<!-- 21 -->\r\n",
       "<g id=\"node28\" class=\"node\"><title>21</title>\r\n",
       "<ellipse fill=\"none\" stroke=\"black\" cx=\"1655.99\" cy=\"-105\" rx=\"69.5877\" ry=\"18\"/>\r\n",
       "<text text-anchor=\"middle\" x=\"1655.99\" y=\"-101.3\" font-family=\"Times New Roman,serif\" font-size=\"14.00\">f10&lt;2.99994755</text>\r\n",
       "</g>\r\n",
       "<!-- 11&#45;&gt;21 -->\r\n",
       "<g id=\"edge27\" class=\"edge\"><title>11&#45;&gt;21</title>\r\n",
       "<path fill=\"none\" stroke=\"#0000ff\" d=\"M1787.38,-175.324C1774.94,-169.405 1760.76,-162.524 1747.99,-156 1729.69,-146.647 1709.61,-135.803 1692.89,-126.609\"/>\r\n",
       "<polygon fill=\"#0000ff\" stroke=\"#0000ff\" points=\"1694.43,-123.459 1683.98,-121.691 1691.05,-129.588 1694.43,-123.459\"/>\r\n",
       "<text text-anchor=\"middle\" x=\"1782.49\" y=\"-144.8\" font-family=\"Times New Roman,serif\" font-size=\"14.00\">yes, missing</text>\r\n",
       "</g>\r\n",
       "<!-- 22 -->\r\n",
       "<g id=\"node29\" class=\"node\"><title>22</title>\r\n",
       "<ellipse fill=\"none\" stroke=\"black\" cx=\"1820.99\" cy=\"-105\" rx=\"75.2868\" ry=\"18\"/>\r\n",
       "<text text-anchor=\"middle\" x=\"1820.99\" y=\"-101.3\" font-family=\"Times New Roman,serif\" font-size=\"14.00\">leaf=0.199913025</text>\r\n",
       "</g>\r\n",
       "<!-- 11&#45;&gt;22 -->\r\n",
       "<g id=\"edge28\" class=\"edge\"><title>11&#45;&gt;22</title>\r\n",
       "<path fill=\"none\" stroke=\"#ff0000\" d=\"M1820.99,-173.799C1820.99,-162.163 1820.99,-146.548 1820.99,-133.237\"/>\r\n",
       "<polygon fill=\"#ff0000\" stroke=\"#ff0000\" points=\"1824.49,-133.175 1820.99,-123.175 1817.49,-133.175 1824.49,-133.175\"/>\r\n",
       "<text text-anchor=\"middle\" x=\"1828.49\" y=\"-144.8\" font-family=\"Times New Roman,serif\" font-size=\"14.00\">no</text>\r\n",
       "</g>\r\n",
       "<!-- 23 -->\r\n",
       "<g id=\"node32\" class=\"node\"><title>23</title>\r\n",
       "<ellipse fill=\"none\" stroke=\"black\" cx=\"1994.99\" cy=\"-105\" rx=\"78.7863\" ry=\"18\"/>\r\n",
       "<text text-anchor=\"middle\" x=\"1994.99\" y=\"-101.3\" font-family=\"Times New Roman,serif\" font-size=\"14.00\">f3&lt;0.00117085467</text>\r\n",
       "</g>\r\n",
       "<!-- 12&#45;&gt;23 -->\r\n",
       "<g id=\"edge31\" class=\"edge\"><title>12&#45;&gt;23</title>\r\n",
       "<path fill=\"none\" stroke=\"#0000ff\" d=\"M1994.99,-173.799C1994.99,-162.163 1994.99,-146.548 1994.99,-133.237\"/>\r\n",
       "<polygon fill=\"#0000ff\" stroke=\"#0000ff\" points=\"1998.49,-133.175 1994.99,-123.175 1991.49,-133.175 1998.49,-133.175\"/>\r\n",
       "<text text-anchor=\"middle\" x=\"2029.49\" y=\"-144.8\" font-family=\"Times New Roman,serif\" font-size=\"14.00\">yes, missing</text>\r\n",
       "</g>\r\n",
       "<!-- 24 -->\r\n",
       "<g id=\"node33\" class=\"node\"><title>24</title>\r\n",
       "<ellipse fill=\"none\" stroke=\"black\" cx=\"2172.99\" cy=\"-105\" rx=\"78.7863\" ry=\"18\"/>\r\n",
       "<text text-anchor=\"middle\" x=\"2172.99\" y=\"-101.3\" font-family=\"Times New Roman,serif\" font-size=\"14.00\">f3&lt;0.00021555477</text>\r\n",
       "</g>\r\n",
       "<!-- 12&#45;&gt;24 -->\r\n",
       "<g id=\"edge32\" class=\"edge\"><title>12&#45;&gt;24</title>\r\n",
       "<path fill=\"none\" stroke=\"#ff0000\" d=\"M2025.59,-176.388C2054.81,-162.434 2099.07,-141.298 2131.47,-125.829\"/>\r\n",
       "<polygon fill=\"#ff0000\" stroke=\"#ff0000\" points=\"2133.17,-128.893 2140.69,-121.426 2130.16,-122.576 2133.17,-128.893\"/>\r\n",
       "<text text-anchor=\"middle\" x=\"2102.49\" y=\"-144.8\" font-family=\"Times New Roman,serif\" font-size=\"14.00\">no</text>\r\n",
       "</g>\r\n",
       "<!-- 35 -->\r\n",
       "<g id=\"node30\" class=\"node\"><title>35</title>\r\n",
       "<ellipse fill=\"none\" stroke=\"black\" cx=\"1484.99\" cy=\"-18\" rx=\"79.0865\" ry=\"18\"/>\r\n",
       "<text text-anchor=\"middle\" x=\"1484.99\" y=\"-14.3\" font-family=\"Times New Roman,serif\" font-size=\"14.00\">leaf=0.0279871225</text>\r\n",
       "</g>\r\n",
       "<!-- 21&#45;&gt;35 -->\r\n",
       "<g id=\"edge29\" class=\"edge\"><title>21&#45;&gt;35</title>\r\n",
       "<path fill=\"none\" stroke=\"#0000ff\" d=\"M1623.93,-88.8371C1611.16,-82.7426 1596.35,-75.6064 1582.99,-69 1563.6,-59.4073 1542.19,-48.516 1524.34,-39.3527\"/>\r\n",
       "<polygon fill=\"#0000ff\" stroke=\"#0000ff\" points=\"1525.85,-36.1947 1515.35,-34.7345 1522.65,-42.42 1525.85,-36.1947\"/>\r\n",
       "<text text-anchor=\"middle\" x=\"1617.49\" y=\"-57.8\" font-family=\"Times New Roman,serif\" font-size=\"14.00\">yes, missing</text>\r\n",
       "</g>\r\n",
       "<!-- 36 -->\r\n",
       "<g id=\"node31\" class=\"node\"><title>36</title>\r\n",
       "<ellipse fill=\"none\" stroke=\"black\" cx=\"1655.99\" cy=\"-18\" rx=\"73.387\" ry=\"18\"/>\r\n",
       "<text text-anchor=\"middle\" x=\"1655.99\" y=\"-14.3\" font-family=\"Times New Roman,serif\" font-size=\"14.00\">leaf=&#45;0.10221646</text>\r\n",
       "</g>\r\n",
       "<!-- 21&#45;&gt;36 -->\r\n",
       "<g id=\"edge30\" class=\"edge\"><title>21&#45;&gt;36</title>\r\n",
       "<path fill=\"none\" stroke=\"#ff0000\" d=\"M1655.99,-86.799C1655.99,-75.1626 1655.99,-59.5479 1655.99,-46.2368\"/>\r\n",
       "<polygon fill=\"#ff0000\" stroke=\"#ff0000\" points=\"1659.49,-46.1754 1655.99,-36.1754 1652.49,-46.1755 1659.49,-46.1754\"/>\r\n",
       "<text text-anchor=\"middle\" x=\"1663.49\" y=\"-57.8\" font-family=\"Times New Roman,serif\" font-size=\"14.00\">no</text>\r\n",
       "</g>\r\n",
       "<!-- 37 -->\r\n",
       "<g id=\"node34\" class=\"node\"><title>37</title>\r\n",
       "<ellipse fill=\"none\" stroke=\"black\" cx=\"1824.99\" cy=\"-18\" rx=\"77.9862\" ry=\"18\"/>\r\n",
       "<text text-anchor=\"middle\" x=\"1824.99\" y=\"-14.3\" font-family=\"Times New Roman,serif\" font-size=\"14.00\">leaf=&#45;0.189103693</text>\r\n",
       "</g>\r\n",
       "<!-- 23&#45;&gt;37 -->\r\n",
       "<g id=\"edge33\" class=\"edge\"><title>23&#45;&gt;37</title>\r\n",
       "<path fill=\"none\" stroke=\"#0000ff\" d=\"M1963.15,-88.3849C1950.9,-82.3543 1936.78,-75.3814 1923.99,-69 1904.48,-59.2629 1882.85,-48.355 1864.81,-39.2181\"/>\r\n",
       "<polygon fill=\"#0000ff\" stroke=\"#0000ff\" points=\"1866.23,-36.0141 1855.72,-34.617 1863.06,-42.2585 1866.23,-36.0141\"/>\r\n",
       "<text text-anchor=\"middle\" x=\"1958.49\" y=\"-57.8\" font-family=\"Times New Roman,serif\" font-size=\"14.00\">yes, missing</text>\r\n",
       "</g>\r\n",
       "<!-- 38 -->\r\n",
       "<g id=\"node35\" class=\"node\"><title>38</title>\r\n",
       "<ellipse fill=\"none\" stroke=\"black\" cx=\"1998.99\" cy=\"-18\" rx=\"77.9862\" ry=\"18\"/>\r\n",
       "<text text-anchor=\"middle\" x=\"1998.99\" y=\"-14.3\" font-family=\"Times New Roman,serif\" font-size=\"14.00\">leaf=&#45;0.126723573</text>\r\n",
       "</g>\r\n",
       "<!-- 23&#45;&gt;38 -->\r\n",
       "<g id=\"edge34\" class=\"edge\"><title>23&#45;&gt;38</title>\r\n",
       "<path fill=\"none\" stroke=\"#ff0000\" d=\"M1995.8,-86.799C1996.35,-75.1626 1997.08,-59.5479 1997.71,-46.2368\"/>\r\n",
       "<polygon fill=\"#ff0000\" stroke=\"#ff0000\" points=\"2001.21,-46.3289 1998.18,-36.1754 1994.22,-45.9998 2001.21,-46.3289\"/>\r\n",
       "<text text-anchor=\"middle\" x=\"2005.49\" y=\"-57.8\" font-family=\"Times New Roman,serif\" font-size=\"14.00\">no</text>\r\n",
       "</g>\r\n",
       "<!-- 39 -->\r\n",
       "<g id=\"node36\" class=\"node\"><title>39</title>\r\n",
       "<ellipse fill=\"none\" stroke=\"black\" cx=\"2172.99\" cy=\"-18\" rx=\"77.9862\" ry=\"18\"/>\r\n",
       "<text text-anchor=\"middle\" x=\"2172.99\" y=\"-14.3\" font-family=\"Times New Roman,serif\" font-size=\"14.00\">leaf=&#45;0.116439797</text>\r\n",
       "</g>\r\n",
       "<!-- 24&#45;&gt;39 -->\r\n",
       "<g id=\"edge35\" class=\"edge\"><title>24&#45;&gt;39</title>\r\n",
       "<path fill=\"none\" stroke=\"#0000ff\" d=\"M2172.99,-86.799C2172.99,-75.1626 2172.99,-59.5479 2172.99,-46.2368\"/>\r\n",
       "<polygon fill=\"#0000ff\" stroke=\"#0000ff\" points=\"2176.49,-46.1754 2172.99,-36.1754 2169.49,-46.1755 2176.49,-46.1754\"/>\r\n",
       "<text text-anchor=\"middle\" x=\"2207.49\" y=\"-57.8\" font-family=\"Times New Roman,serif\" font-size=\"14.00\">yes, missing</text>\r\n",
       "</g>\r\n",
       "<!-- 40 -->\r\n",
       "<g id=\"node37\" class=\"node\"><title>40</title>\r\n",
       "<ellipse fill=\"none\" stroke=\"black\" cx=\"2355.99\" cy=\"-18\" rx=\"87.1846\" ry=\"18\"/>\r\n",
       "<text text-anchor=\"middle\" x=\"2355.99\" y=\"-14.3\" font-family=\"Times New Roman,serif\" font-size=\"14.00\">leaf=&#45;0.00124740123</text>\r\n",
       "</g>\r\n",
       "<!-- 24&#45;&gt;40 -->\r\n",
       "<g id=\"edge36\" class=\"edge\"><title>24&#45;&gt;40</title>\r\n",
       "<path fill=\"none\" stroke=\"#ff0000\" d=\"M2206.13,-88.6071C2236.04,-74.717 2280.22,-54.1967 2312.86,-39.0325\"/>\r\n",
       "<polygon fill=\"#ff0000\" stroke=\"#ff0000\" points=\"2314.58,-42.0968 2322.17,-34.7099 2311.63,-35.7482 2314.58,-42.0968\"/>\r\n",
       "<text text-anchor=\"middle\" x=\"2283.49\" y=\"-57.8\" font-family=\"Times New Roman,serif\" font-size=\"14.00\">no</text>\r\n",
       "</g>\r\n",
       "<!-- 25 -->\r\n",
       "<g id=\"node40\" class=\"node\"><title>25</title>\r\n",
       "<ellipse fill=\"none\" stroke=\"black\" cx=\"2627.99\" cy=\"-105\" rx=\"78.7863\" ry=\"18\"/>\r\n",
       "<text text-anchor=\"middle\" x=\"2627.99\" y=\"-101.3\" font-family=\"Times New Roman,serif\" font-size=\"14.00\">f22&lt;0.0138094174</text>\r\n",
       "</g>\r\n",
       "<!-- 14&#45;&gt;25 -->\r\n",
       "<g id=\"edge39\" class=\"edge\"><title>14&#45;&gt;25</title>\r\n",
       "<path fill=\"none\" stroke=\"#0000ff\" d=\"M2627.99,-173.799C2627.99,-162.163 2627.99,-146.548 2627.99,-133.237\"/>\r\n",
       "<polygon fill=\"#0000ff\" stroke=\"#0000ff\" points=\"2631.49,-133.175 2627.99,-123.175 2624.49,-133.175 2631.49,-133.175\"/>\r\n",
       "<text text-anchor=\"middle\" x=\"2662.49\" y=\"-144.8\" font-family=\"Times New Roman,serif\" font-size=\"14.00\">yes, missing</text>\r\n",
       "</g>\r\n",
       "<!-- 26 -->\r\n",
       "<g id=\"node41\" class=\"node\"><title>26</title>\r\n",
       "<ellipse fill=\"none\" stroke=\"black\" cx=\"2897.99\" cy=\"-105\" rx=\"74.187\" ry=\"18\"/>\r\n",
       "<text text-anchor=\"middle\" x=\"2897.99\" y=\"-101.3\" font-family=\"Times New Roman,serif\" font-size=\"14.00\">f39&lt;0.999998868</text>\r\n",
       "</g>\r\n",
       "<!-- 14&#45;&gt;26 -->\r\n",
       "<g id=\"edge40\" class=\"edge\"><title>14&#45;&gt;26</title>\r\n",
       "<path fill=\"none\" stroke=\"#ff0000\" d=\"M2673.49,-176.677C2720.83,-161.773 2794.9,-138.456 2844.89,-122.719\"/>\r\n",
       "<polygon fill=\"#ff0000\" stroke=\"#ff0000\" points=\"2846.06,-126.019 2854.55,-119.677 2843.96,-119.342 2846.06,-126.019\"/>\r\n",
       "<text text-anchor=\"middle\" x=\"2787.49\" y=\"-144.8\" font-family=\"Times New Roman,serif\" font-size=\"14.00\">no</text>\r\n",
       "</g>\r\n",
       "<!-- 41 -->\r\n",
       "<g id=\"node42\" class=\"node\"><title>41</title>\r\n",
       "<ellipse fill=\"none\" stroke=\"black\" cx=\"2538.99\" cy=\"-18\" rx=\"77.9862\" ry=\"18\"/>\r\n",
       "<text text-anchor=\"middle\" x=\"2538.99\" y=\"-14.3\" font-family=\"Times New Roman,serif\" font-size=\"14.00\">leaf=&#45;0.185068205</text>\r\n",
       "</g>\r\n",
       "<!-- 25&#45;&gt;41 -->\r\n",
       "<g id=\"edge41\" class=\"edge\"><title>25&#45;&gt;41</title>\r\n",
       "<path fill=\"none\" stroke=\"#0000ff\" d=\"M2610.41,-87.2067C2597.12,-74.517 2578.71,-56.9297 2563.91,-42.7925\"/>\r\n",
       "<polygon fill=\"#0000ff\" stroke=\"#0000ff\" points=\"2566.19,-40.134 2556.54,-35.7584 2561.35,-45.1962 2566.19,-40.134\"/>\r\n",
       "<text text-anchor=\"middle\" x=\"2623.49\" y=\"-57.8\" font-family=\"Times New Roman,serif\" font-size=\"14.00\">yes, missing</text>\r\n",
       "</g>\r\n",
       "<!-- 42 -->\r\n",
       "<g id=\"node43\" class=\"node\"><title>42</title>\r\n",
       "<ellipse fill=\"none\" stroke=\"black\" cx=\"2717.99\" cy=\"-18\" rx=\"82.5854\" ry=\"18\"/>\r\n",
       "<text text-anchor=\"middle\" x=\"2717.99\" y=\"-14.3\" font-family=\"Times New Roman,serif\" font-size=\"14.00\">leaf=&#45;0.0916666687</text>\r\n",
       "</g>\r\n",
       "<!-- 25&#45;&gt;42 -->\r\n",
       "<g id=\"edge42\" class=\"edge\"><title>25&#45;&gt;42</title>\r\n",
       "<path fill=\"none\" stroke=\"#ff0000\" d=\"M2645.77,-87.2067C2659.21,-74.517 2677.83,-56.9297 2692.8,-42.7925\"/>\r\n",
       "<polygon fill=\"#ff0000\" stroke=\"#ff0000\" points=\"2695.38,-45.1692 2700.25,-35.7584 2690.58,-40.0801 2695.38,-45.1692\"/>\r\n",
       "<text text-anchor=\"middle\" x=\"2686.49\" y=\"-57.8\" font-family=\"Times New Roman,serif\" font-size=\"14.00\">no</text>\r\n",
       "</g>\r\n",
       "<!-- 43 -->\r\n",
       "<g id=\"node44\" class=\"node\"><title>43</title>\r\n",
       "<ellipse fill=\"none\" stroke=\"black\" cx=\"2897.99\" cy=\"-18\" rx=\"79.0865\" ry=\"18\"/>\r\n",
       "<text text-anchor=\"middle\" x=\"2897.99\" y=\"-14.3\" font-family=\"Times New Roman,serif\" font-size=\"14.00\">leaf=0.0641671941</text>\r\n",
       "</g>\r\n",
       "<!-- 26&#45;&gt;43 -->\r\n",
       "<g id=\"edge43\" class=\"edge\"><title>26&#45;&gt;43</title>\r\n",
       "<path fill=\"none\" stroke=\"#0000ff\" d=\"M2897.99,-86.799C2897.99,-75.1626 2897.99,-59.5479 2897.99,-46.2368\"/>\r\n",
       "<polygon fill=\"#0000ff\" stroke=\"#0000ff\" points=\"2901.49,-46.1754 2897.99,-36.1754 2894.49,-46.1755 2901.49,-46.1754\"/>\r\n",
       "<text text-anchor=\"middle\" x=\"2932.49\" y=\"-57.8\" font-family=\"Times New Roman,serif\" font-size=\"14.00\">yes, missing</text>\r\n",
       "</g>\r\n",
       "<!-- 44 -->\r\n",
       "<g id=\"node45\" class=\"node\"><title>44</title>\r\n",
       "<ellipse fill=\"none\" stroke=\"black\" cx=\"3077.99\" cy=\"-18\" rx=\"82.5854\" ry=\"18\"/>\r\n",
       "<text text-anchor=\"middle\" x=\"3077.99\" y=\"-14.3\" font-family=\"Times New Roman,serif\" font-size=\"14.00\">leaf=&#45;0.0634166524</text>\r\n",
       "</g>\r\n",
       "<!-- 26&#45;&gt;44 -->\r\n",
       "<g id=\"edge44\" class=\"edge\"><title>26&#45;&gt;44</title>\r\n",
       "<path fill=\"none\" stroke=\"#ff0000\" d=\"M2930.59,-88.6071C2960.1,-74.6734 3003.73,-54.068 3035.87,-38.89\"/>\r\n",
       "<polygon fill=\"#ff0000\" stroke=\"#ff0000\" points=\"3037.48,-42.0006 3045.03,-34.5656 3034.49,-35.6708 3037.48,-42.0006\"/>\r\n",
       "<text text-anchor=\"middle\" x=\"3006.49\" y=\"-57.8\" font-family=\"Times New Roman,serif\" font-size=\"14.00\">no</text>\r\n",
       "</g>\r\n",
       "</g>\r\n",
       "</svg>\r\n"
      ],
      "text/plain": [
       "<graphviz.dot.Digraph at 0x2187e436088>"
      ]
     },
     "execution_count": 47,
     "metadata": {},
     "output_type": "execute_result"
    }
   ],
   "source": [
    "xgb.to_graphviz(clf, num_trees=0)"
   ]
  },
  {
   "cell_type": "markdown",
   "metadata": {},
   "source": [
    "# Without upsampling\n",
    "\n",
    "We must tune other parameters"
   ]
  },
  {
   "cell_type": "code",
   "execution_count": null,
   "metadata": {},
   "outputs": [],
   "source": []
  }
 ],
 "metadata": {
  "kernelspec": {
   "display_name": "Python 3",
   "language": "python",
   "name": "python3"
  },
  "language_info": {
   "codemirror_mode": {
    "name": "ipython",
    "version": 3
   },
   "file_extension": ".py",
   "mimetype": "text/x-python",
   "name": "python",
   "nbconvert_exporter": "python",
   "pygments_lexer": "ipython3",
   "version": "3.7.5"
  }
 },
 "nbformat": 4,
 "nbformat_minor": 2
}
