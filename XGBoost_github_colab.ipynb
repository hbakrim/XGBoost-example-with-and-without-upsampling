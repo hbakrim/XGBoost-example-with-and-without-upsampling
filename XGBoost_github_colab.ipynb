{
 "cells": [
  {
   "cell_type": "code",
   "execution_count": 0,
   "metadata": {
    "colab": {},
    "colab_type": "code",
    "id": "MNhro43BrfwJ"
   },
   "outputs": [],
   "source": [
    "#Import libraries:\n",
    "import pandas as pd\n",
    "import numpy as np\n",
    "import xgboost as xgb\n",
    "\n",
    "from sklearn.model_selection import cross_val_score\n",
    "from sklearn import metrics\n",
    "from sklearn.model_selection import GridSearchCV\n",
    "from sklearn.metrics import roc_auc_score, f1_score, roc_curve, precision_recall_curve, auc, make_scorer, recall_score, accuracy_score, precision_score, confusion_matrix, classification_report\n",
    "\n",
    "\n",
    "import matplotlib.pylab as plt\n",
    "%matplotlib inline\n",
    "from matplotlib.pylab import rcParams\n",
    "rcParams['figure.figsize'] = 12, 4"
   ]
  },
  {
   "cell_type": "code",
   "execution_count": 27,
   "metadata": {
    "colab": {
     "base_uri": "https://localhost:8080/",
     "height": 384
    },
    "colab_type": "code",
    "executionInfo": {
     "elapsed": 3111,
     "status": "ok",
     "timestamp": 1574087787787,
     "user": {
      "displayName": "Hassan Bakrim",
      "photoUrl": "https://lh3.googleusercontent.com/a-/AAuE7mDtbf7SM1IyP7n9Ey1zeVpR-Q2YoyI2F2E6o4I=s64",
      "userId": "14078995166852671572"
     },
     "user_tz": 300
    },
    "id": "fjTDYPqusHhT",
    "outputId": "7b7a6e57-a4d9-44a5-a3c8-33655b0dc973"
   },
   "outputs": [
    {
     "name": "stdout",
     "output_type": "stream",
     "text": [
      "Shape of tain dataser: (87020, 26)\n"
     ]
    },
    {
     "data": {
      "text/html": [
       "<div>\n",
       "<style scoped>\n",
       "    .dataframe tbody tr th:only-of-type {\n",
       "        vertical-align: middle;\n",
       "    }\n",
       "\n",
       "    .dataframe tbody tr th {\n",
       "        vertical-align: top;\n",
       "    }\n",
       "\n",
       "    .dataframe thead th {\n",
       "        text-align: right;\n",
       "    }\n",
       "</style>\n",
       "<table border=\"1\" class=\"dataframe\">\n",
       "  <thead>\n",
       "    <tr style=\"text-align: right;\">\n",
       "      <th></th>\n",
       "      <th>ID</th>\n",
       "      <th>Gender</th>\n",
       "      <th>City</th>\n",
       "      <th>Monthly_Income</th>\n",
       "      <th>DOB</th>\n",
       "      <th>Lead_Creation_Date</th>\n",
       "      <th>Loan_Amount_Applied</th>\n",
       "      <th>Loan_Tenure_Applied</th>\n",
       "      <th>Existing_EMI</th>\n",
       "      <th>Employer_Name</th>\n",
       "      <th>Salary_Account</th>\n",
       "      <th>Mobile_Verified</th>\n",
       "      <th>Var5</th>\n",
       "      <th>Var1</th>\n",
       "      <th>Loan_Amount_Submitted</th>\n",
       "      <th>Loan_Tenure_Submitted</th>\n",
       "      <th>Interest_Rate</th>\n",
       "      <th>Processing_Fee</th>\n",
       "      <th>EMI_Loan_Submitted</th>\n",
       "      <th>Filled_Form</th>\n",
       "      <th>Device_Type</th>\n",
       "      <th>Var2</th>\n",
       "      <th>Source</th>\n",
       "      <th>Var4</th>\n",
       "      <th>LoggedIn</th>\n",
       "      <th>Disbursed</th>\n",
       "    </tr>\n",
       "  </thead>\n",
       "  <tbody>\n",
       "    <tr>\n",
       "      <th>0</th>\n",
       "      <td>ID000002C20</td>\n",
       "      <td>Female</td>\n",
       "      <td>Delhi</td>\n",
       "      <td>20000</td>\n",
       "      <td>23-May-78</td>\n",
       "      <td>15-May-15</td>\n",
       "      <td>300000.0</td>\n",
       "      <td>5.0</td>\n",
       "      <td>0.0</td>\n",
       "      <td>CYBOSOL</td>\n",
       "      <td>HDFC Bank</td>\n",
       "      <td>N</td>\n",
       "      <td>0</td>\n",
       "      <td>HBXX</td>\n",
       "      <td>NaN</td>\n",
       "      <td>NaN</td>\n",
       "      <td>NaN</td>\n",
       "      <td>NaN</td>\n",
       "      <td>NaN</td>\n",
       "      <td>N</td>\n",
       "      <td>Web-browser</td>\n",
       "      <td>G</td>\n",
       "      <td>S122</td>\n",
       "      <td>1</td>\n",
       "      <td>0</td>\n",
       "      <td>0</td>\n",
       "    </tr>\n",
       "    <tr>\n",
       "      <th>1</th>\n",
       "      <td>ID000004E40</td>\n",
       "      <td>Male</td>\n",
       "      <td>Mumbai</td>\n",
       "      <td>35000</td>\n",
       "      <td>07-Oct-85</td>\n",
       "      <td>04-May-15</td>\n",
       "      <td>200000.0</td>\n",
       "      <td>2.0</td>\n",
       "      <td>0.0</td>\n",
       "      <td>TATA CONSULTANCY SERVICES LTD (TCS)</td>\n",
       "      <td>ICICI Bank</td>\n",
       "      <td>Y</td>\n",
       "      <td>13</td>\n",
       "      <td>HBXA</td>\n",
       "      <td>200000.0</td>\n",
       "      <td>2.0</td>\n",
       "      <td>13.25</td>\n",
       "      <td>NaN</td>\n",
       "      <td>6762.9</td>\n",
       "      <td>N</td>\n",
       "      <td>Web-browser</td>\n",
       "      <td>G</td>\n",
       "      <td>S122</td>\n",
       "      <td>3</td>\n",
       "      <td>0</td>\n",
       "      <td>0</td>\n",
       "    </tr>\n",
       "    <tr>\n",
       "      <th>2</th>\n",
       "      <td>ID000007H20</td>\n",
       "      <td>Male</td>\n",
       "      <td>Panchkula</td>\n",
       "      <td>22500</td>\n",
       "      <td>10-Oct-81</td>\n",
       "      <td>19-May-15</td>\n",
       "      <td>600000.0</td>\n",
       "      <td>4.0</td>\n",
       "      <td>0.0</td>\n",
       "      <td>ALCHEMIST HOSPITALS LTD</td>\n",
       "      <td>State Bank of India</td>\n",
       "      <td>Y</td>\n",
       "      <td>0</td>\n",
       "      <td>HBXX</td>\n",
       "      <td>450000.0</td>\n",
       "      <td>4.0</td>\n",
       "      <td>NaN</td>\n",
       "      <td>NaN</td>\n",
       "      <td>NaN</td>\n",
       "      <td>N</td>\n",
       "      <td>Web-browser</td>\n",
       "      <td>B</td>\n",
       "      <td>S143</td>\n",
       "      <td>1</td>\n",
       "      <td>0</td>\n",
       "      <td>0</td>\n",
       "    </tr>\n",
       "    <tr>\n",
       "      <th>3</th>\n",
       "      <td>ID000008I30</td>\n",
       "      <td>Male</td>\n",
       "      <td>Saharsa</td>\n",
       "      <td>35000</td>\n",
       "      <td>30-Nov-87</td>\n",
       "      <td>09-May-15</td>\n",
       "      <td>1000000.0</td>\n",
       "      <td>5.0</td>\n",
       "      <td>0.0</td>\n",
       "      <td>BIHAR GOVERNMENT</td>\n",
       "      <td>State Bank of India</td>\n",
       "      <td>Y</td>\n",
       "      <td>10</td>\n",
       "      <td>HBXX</td>\n",
       "      <td>920000.0</td>\n",
       "      <td>5.0</td>\n",
       "      <td>NaN</td>\n",
       "      <td>NaN</td>\n",
       "      <td>NaN</td>\n",
       "      <td>N</td>\n",
       "      <td>Web-browser</td>\n",
       "      <td>B</td>\n",
       "      <td>S143</td>\n",
       "      <td>3</td>\n",
       "      <td>0</td>\n",
       "      <td>0</td>\n",
       "    </tr>\n",
       "    <tr>\n",
       "      <th>4</th>\n",
       "      <td>ID000009J40</td>\n",
       "      <td>Male</td>\n",
       "      <td>Bengaluru</td>\n",
       "      <td>100000</td>\n",
       "      <td>17-Feb-84</td>\n",
       "      <td>20-May-15</td>\n",
       "      <td>500000.0</td>\n",
       "      <td>2.0</td>\n",
       "      <td>25000.0</td>\n",
       "      <td>GLOBAL EDGE SOFTWARE</td>\n",
       "      <td>HDFC Bank</td>\n",
       "      <td>Y</td>\n",
       "      <td>17</td>\n",
       "      <td>HBXX</td>\n",
       "      <td>500000.0</td>\n",
       "      <td>2.0</td>\n",
       "      <td>NaN</td>\n",
       "      <td>NaN</td>\n",
       "      <td>NaN</td>\n",
       "      <td>N</td>\n",
       "      <td>Web-browser</td>\n",
       "      <td>B</td>\n",
       "      <td>S134</td>\n",
       "      <td>3</td>\n",
       "      <td>1</td>\n",
       "      <td>0</td>\n",
       "    </tr>\n",
       "  </tbody>\n",
       "</table>\n",
       "</div>"
      ],
      "text/plain": [
       "            ID  Gender       City  ...  Var4 LoggedIn Disbursed\n",
       "0  ID000002C20  Female      Delhi  ...     1        0         0\n",
       "1  ID000004E40    Male     Mumbai  ...     3        0         0\n",
       "2  ID000007H20    Male  Panchkula  ...     1        0         0\n",
       "3  ID000008I30    Male    Saharsa  ...     3        0         0\n",
       "4  ID000009J40    Male  Bengaluru  ...     3        1         0\n",
       "\n",
       "[5 rows x 26 columns]"
      ]
     },
     "execution_count": 27,
     "metadata": {
      "tags": []
     },
     "output_type": "execute_result"
    }
   ],
   "source": [
    "train = pd.read_csv('./Train_nyOWmfK.csv', engine='python')\n",
    "print('Shape of tain dataser:', train.shape)\n",
    "\n",
    "train.head()"
   ]
  },
  {
   "cell_type": "code",
   "execution_count": 28,
   "metadata": {
    "colab": {
     "base_uri": "https://localhost:8080/",
     "height": 55
    },
    "colab_type": "code",
    "executionInfo": {
     "elapsed": 1326,
     "status": "ok",
     "timestamp": 1574087790581,
     "user": {
      "displayName": "Hassan Bakrim",
      "photoUrl": "https://lh3.googleusercontent.com/a-/AAuE7mDtbf7SM1IyP7n9Ey1zeVpR-Q2YoyI2F2E6o4I=s64",
      "userId": "14078995166852671572"
     },
     "user_tz": 300
    },
    "id": "f2HDoMR-sliw",
    "outputId": "f4be794d-5629-419a-80ba-3ef3d70d7270"
   },
   "outputs": [
    {
     "name": "stdout",
     "output_type": "stream",
     "text": [
      "Columns names= ['ID', 'Gender', 'City', 'Monthly_Income', 'DOB', 'Lead_Creation_Date', 'Loan_Amount_Applied', 'Loan_Tenure_Applied', 'Existing_EMI', 'Employer_Name', 'Salary_Account', 'Mobile_Verified', 'Var5', 'Var1', 'Loan_Amount_Submitted', 'Loan_Tenure_Submitted', 'Interest_Rate', 'Processing_Fee', 'EMI_Loan_Submitted', 'Filled_Form', 'Device_Type', 'Var2', 'Source', 'Var4', 'LoggedIn', 'Disbursed']\n"
     ]
    }
   ],
   "source": [
    "all_columns=list(train.columns)\n",
    "print('Columns names=', all_columns)"
   ]
  },
  {
   "cell_type": "markdown",
   "metadata": {
    "colab_type": "text",
    "id": "RVoAmAyMs-5y"
   },
   "source": [
    "Monthly_Income = Monthly Income\n",
    "\n",
    "DOB = date of birth\n",
    "\n",
    "Lead_Creation_Date       = Creation Date\n",
    "\n",
    "Loan_Amount_Applied      = Loan Amount Applied by a borrower \n",
    "\n",
    "Loan_Tenure_Applied      = Tenure Applied by a borrower (number of years)\n",
    "\n",
    "Existing_EMI             = existing equated monthly installment (EMI) is a fixed payment amount made by a borrower to a lender at a specified date each calendar month.\n",
    "\n",
    "Employer_Name            = Employer Name\n",
    "\n",
    "Salary_Account           = Bank name\n",
    "\n",
    "Mobile_Verified          = phone number (yes or no)\n",
    "\n",
    "Var5                     = ?\n",
    "\n",
    "Var1                     = ?\n",
    "\n",
    "Loan_Amount_Submitted    = Loan Amount requested by customer\n",
    "\n",
    "Loan_Tenure_Submitted    = Loan Tenure requested by customer\n",
    "\n",
    "Interest_Rate            = Interest Rate per year (%)\n",
    "\n",
    "Processing_Fee           = Processing Fee\n",
    "\n",
    "EMI_Loan_Submitted       = EMI Loan requested by customer\n",
    "\n",
    "Filled_Form              = Filled Form (yes or no)\n",
    "\n",
    "Device_Type              = Device Type (directly or online or ...)\n",
    "\n",
    "Var2                     = ?\n",
    "\n",
    "Source                   = source\n",
    "\n",
    "Var4                     = ?\n",
    "\n",
    "LoggedIn                 = ?\n",
    "\n",
    "Disbursed                = loan disbursed (1--> yes and 0-->no)"
   ]
  },
  {
   "cell_type": "code",
   "execution_count": 0,
   "metadata": {
    "colab": {},
    "colab_type": "code",
    "id": "-4pIlNJKstHX"
   },
   "outputs": [],
   "source": [
    "numerical_columns = ['Monthly_Income','Loan_Amount_Applied','Loan_Tenure_Applied','Existing_EMI','Var5','Loan_Amount_Submitted','Loan_Tenure_Submitted','Interest_Rate','Processing_Fee','EMI_Loan_Submitted','Var4','LoggedIn','Disbursed']\n",
    "date_columns = ['DOB','Lead_Creation_Date']\n",
    "object_columns = ['ID','Gender','City','Employer_Name','Salary_Account','Mobile_Verified','Var1','Filled_Form','Device_Type','Var2','Source' ]\n",
    "\n",
    "df_num = train[numerical_columns]\n",
    "df_date = train[date_columns]\n",
    "df_categorial = train[object_columns]"
   ]
  },
  {
   "cell_type": "markdown",
   "metadata": {
    "colab_type": "text",
    "id": "s_KPrUlxtH1t"
   },
   "source": [
    "## Numerical features"
   ]
  },
  {
   "cell_type": "code",
   "execution_count": 30,
   "metadata": {
    "colab": {
     "base_uri": "https://localhost:8080/",
     "height": 348
    },
    "colab_type": "code",
    "executionInfo": {
     "elapsed": 443,
     "status": "ok",
     "timestamp": 1574087792873,
     "user": {
      "displayName": "Hassan Bakrim",
      "photoUrl": "https://lh3.googleusercontent.com/a-/AAuE7mDtbf7SM1IyP7n9Ey1zeVpR-Q2YoyI2F2E6o4I=s64",
      "userId": "14078995166852671572"
     },
     "user_tz": 300
    },
    "id": "3bJYSALjtDWx",
    "outputId": "9a4998df-0595-471a-889f-59d67d686a78"
   },
   "outputs": [
    {
     "name": "stdout",
     "output_type": "stream",
     "text": [
      "<class 'pandas.core.frame.DataFrame'>\n",
      "RangeIndex: 87020 entries, 0 to 87019\n",
      "Data columns (total 13 columns):\n",
      "Monthly_Income           87020 non-null int64\n",
      "Loan_Amount_Applied      86949 non-null float64\n",
      "Loan_Tenure_Applied      86949 non-null float64\n",
      "Existing_EMI             86949 non-null float64\n",
      "Var5                     87020 non-null int64\n",
      "Loan_Amount_Submitted    52407 non-null float64\n",
      "Loan_Tenure_Submitted    52407 non-null float64\n",
      "Interest_Rate            27726 non-null float64\n",
      "Processing_Fee           27420 non-null float64\n",
      "EMI_Loan_Submitted       27726 non-null float64\n",
      "Var4                     87020 non-null int64\n",
      "LoggedIn                 87020 non-null int64\n",
      "Disbursed                87020 non-null int64\n",
      "dtypes: float64(8), int64(5)\n",
      "memory usage: 8.6 MB\n"
     ]
    }
   ],
   "source": [
    "df_num.info()"
   ]
  },
  {
   "cell_type": "code",
   "execution_count": 31,
   "metadata": {
    "colab": {
     "base_uri": "https://localhost:8080/",
     "height": 258
    },
    "colab_type": "code",
    "executionInfo": {
     "elapsed": 2208,
     "status": "ok",
     "timestamp": 1574087795230,
     "user": {
      "displayName": "Hassan Bakrim",
      "photoUrl": "https://lh3.googleusercontent.com/a-/AAuE7mDtbf7SM1IyP7n9Ey1zeVpR-Q2YoyI2F2E6o4I=s64",
      "userId": "14078995166852671572"
     },
     "user_tz": 300
    },
    "id": "ClG1ur9vtLHY",
    "outputId": "bd821b5c-6429-4ca5-aec0-58ac97795dde"
   },
   "outputs": [
    {
     "data": {
      "text/html": [
       "<div>\n",
       "<style scoped>\n",
       "    .dataframe tbody tr th:only-of-type {\n",
       "        vertical-align: middle;\n",
       "    }\n",
       "\n",
       "    .dataframe tbody tr th {\n",
       "        vertical-align: top;\n",
       "    }\n",
       "\n",
       "    .dataframe thead th {\n",
       "        text-align: right;\n",
       "    }\n",
       "</style>\n",
       "<table border=\"1\" class=\"dataframe\">\n",
       "  <thead>\n",
       "    <tr style=\"text-align: right;\">\n",
       "      <th></th>\n",
       "      <th>EMI_Loan_Submitted</th>\n",
       "      <th>Loan_Amount_Submitted</th>\n",
       "      <th>Loan_Tenure_Submitted</th>\n",
       "      <th>Interest_Rate</th>\n",
       "      <th>Processing_Fee</th>\n",
       "      <th>Existing_EMI</th>\n",
       "      <th>Loan_Amount_Applied</th>\n",
       "      <th>Loan_Tenure_Applied</th>\n",
       "      <th>Disbursed</th>\n",
       "      <th>Var5</th>\n",
       "      <th>Var4</th>\n",
       "      <th>Monthly_Income</th>\n",
       "      <th>LoggedIn</th>\n",
       "    </tr>\n",
       "    <tr>\n",
       "      <th>ID</th>\n",
       "      <th></th>\n",
       "      <th></th>\n",
       "      <th></th>\n",
       "      <th></th>\n",
       "      <th></th>\n",
       "      <th></th>\n",
       "      <th></th>\n",
       "      <th></th>\n",
       "      <th></th>\n",
       "      <th></th>\n",
       "      <th></th>\n",
       "      <th></th>\n",
       "      <th></th>\n",
       "    </tr>\n",
       "  </thead>\n",
       "  <tbody>\n",
       "    <tr>\n",
       "      <th>ID000002C20</th>\n",
       "      <td>0</td>\n",
       "      <td>0</td>\n",
       "      <td>0</td>\n",
       "      <td>0</td>\n",
       "      <td>0</td>\n",
       "      <td>0.0</td>\n",
       "      <td>300000.0</td>\n",
       "      <td>5.0</td>\n",
       "      <td>0</td>\n",
       "      <td>0</td>\n",
       "      <td>1</td>\n",
       "      <td>20000</td>\n",
       "      <td>0</td>\n",
       "    </tr>\n",
       "    <tr>\n",
       "      <th>ID000004E40</th>\n",
       "      <td>1</td>\n",
       "      <td>1</td>\n",
       "      <td>1</td>\n",
       "      <td>1</td>\n",
       "      <td>0</td>\n",
       "      <td>0.0</td>\n",
       "      <td>200000.0</td>\n",
       "      <td>2.0</td>\n",
       "      <td>0</td>\n",
       "      <td>13</td>\n",
       "      <td>3</td>\n",
       "      <td>35000</td>\n",
       "      <td>0</td>\n",
       "    </tr>\n",
       "    <tr>\n",
       "      <th>ID000007H20</th>\n",
       "      <td>0</td>\n",
       "      <td>1</td>\n",
       "      <td>1</td>\n",
       "      <td>0</td>\n",
       "      <td>0</td>\n",
       "      <td>0.0</td>\n",
       "      <td>600000.0</td>\n",
       "      <td>4.0</td>\n",
       "      <td>0</td>\n",
       "      <td>0</td>\n",
       "      <td>1</td>\n",
       "      <td>22500</td>\n",
       "      <td>0</td>\n",
       "    </tr>\n",
       "    <tr>\n",
       "      <th>ID000008I30</th>\n",
       "      <td>0</td>\n",
       "      <td>1</td>\n",
       "      <td>1</td>\n",
       "      <td>0</td>\n",
       "      <td>0</td>\n",
       "      <td>0.0</td>\n",
       "      <td>1000000.0</td>\n",
       "      <td>5.0</td>\n",
       "      <td>0</td>\n",
       "      <td>10</td>\n",
       "      <td>3</td>\n",
       "      <td>35000</td>\n",
       "      <td>0</td>\n",
       "    </tr>\n",
       "    <tr>\n",
       "      <th>ID000009J40</th>\n",
       "      <td>0</td>\n",
       "      <td>1</td>\n",
       "      <td>1</td>\n",
       "      <td>0</td>\n",
       "      <td>0</td>\n",
       "      <td>25000.0</td>\n",
       "      <td>500000.0</td>\n",
       "      <td>2.0</td>\n",
       "      <td>0</td>\n",
       "      <td>17</td>\n",
       "      <td>3</td>\n",
       "      <td>100000</td>\n",
       "      <td>1</td>\n",
       "    </tr>\n",
       "  </tbody>\n",
       "</table>\n",
       "</div>"
      ],
      "text/plain": [
       "             EMI_Loan_Submitted  ...  LoggedIn\n",
       "ID                               ...          \n",
       "ID000002C20                   0  ...         0\n",
       "ID000004E40                   1  ...         0\n",
       "ID000007H20                   0  ...         0\n",
       "ID000008I30                   0  ...         0\n",
       "ID000009J40                   0  ...         1\n",
       "\n",
       "[5 rows x 13 columns]"
      ]
     },
     "execution_count": 31,
     "metadata": {
      "tags": []
     },
     "output_type": "execute_result"
    }
   ],
   "source": [
    "# There are many columns with missing values. For columns concerning the informations given by the customers.They must \n",
    "# not be altered or estimates my mean or median. I'll convert it to 0 or 1 values with 0 for NaN.\n",
    "# The concerned columns are 'Loan_Amount_Submitted', 'Loan_Tenure_Submitted', 'EMI_Loan_Submitted', 'Processing_Fee'\n",
    "# and 'Interest_Rate'\n",
    "\n",
    "df_num_new = pd.DataFrame(train['ID'])\n",
    "\n",
    "for col in ['EMI_Loan_Submitted','Loan_Amount_Submitted','Loan_Tenure_Submitted','Interest_Rate','Processing_Fee']: \n",
    "    df_num_new[col] = df_num[col].apply(lambda x: 0 if np.isnan(x) else 1)\n",
    "    \n",
    "    \n",
    "# Missing value of column 'Existing_EMI' will replaced with 0 because just 111 are missing:\n",
    "df_num_new['Existing_EMI'] = df_num['Existing_EMI'].fillna(0)\n",
    "\n",
    "# 'Loan_Amount_Applied' and 'Loan_Tenure_Applied' are applied by a borrower.\n",
    "# I replace the missing values with median because only 111 missing\n",
    "for col in ['Loan_Amount_Applied', 'Loan_Tenure_Applied']:\n",
    "    myMedian = df_num[col].median()\n",
    "    df_num_new[col] = df_num[col].fillna(myMedian)\n",
    "    \n",
    "# add other columns\n",
    "for col in set(df_num.columns)-set(df_num_new.columns):\n",
    "    df_num_new[col] = df_num[col]\n",
    "\n",
    "df_num_new.set_index('ID', inplace = True)\n",
    "df_num_new.head()"
   ]
  },
  {
   "cell_type": "markdown",
   "metadata": {
    "colab_type": "text",
    "id": "S9wZyU3ptTui"
   },
   "source": [
    "## Date features"
   ]
  },
  {
   "cell_type": "code",
   "execution_count": 0,
   "metadata": {
    "colab": {},
    "colab_type": "code",
    "id": "YcwMM6j-tRjh"
   },
   "outputs": [],
   "source": [
    "from datetime import date \n",
    "  \n",
    "def calculateAge(birthDate): \n",
    "    today = date.today() \n",
    "    age = today.year - birthDate.year - ((today.month, today.day) < (birthDate.month, birthDate.day)) \n",
    "    return age "
   ]
  },
  {
   "cell_type": "code",
   "execution_count": 33,
   "metadata": {
    "colab": {
     "base_uri": "https://localhost:8080/",
     "height": 238
    },
    "colab_type": "code",
    "executionInfo": {
     "elapsed": 9468,
     "status": "ok",
     "timestamp": 1574087806287,
     "user": {
      "displayName": "Hassan Bakrim",
      "photoUrl": "https://lh3.googleusercontent.com/a-/AAuE7mDtbf7SM1IyP7n9Ey1zeVpR-Q2YoyI2F2E6o4I=s64",
      "userId": "14078995166852671572"
     },
     "user_tz": 300
    },
    "id": "o3Ozg_KjtXoF",
    "outputId": "0dd73285-5323-4183-e7a0-ba7a8bc8b2f4"
   },
   "outputs": [
    {
     "data": {
      "text/html": [
       "<div>\n",
       "<style scoped>\n",
       "    .dataframe tbody tr th:only-of-type {\n",
       "        vertical-align: middle;\n",
       "    }\n",
       "\n",
       "    .dataframe tbody tr th {\n",
       "        vertical-align: top;\n",
       "    }\n",
       "\n",
       "    .dataframe thead th {\n",
       "        text-align: right;\n",
       "    }\n",
       "</style>\n",
       "<table border=\"1\" class=\"dataframe\">\n",
       "  <thead>\n",
       "    <tr style=\"text-align: right;\">\n",
       "      <th></th>\n",
       "      <th>AGE</th>\n",
       "    </tr>\n",
       "    <tr>\n",
       "      <th>ID</th>\n",
       "      <th></th>\n",
       "    </tr>\n",
       "  </thead>\n",
       "  <tbody>\n",
       "    <tr>\n",
       "      <th>ID000002C20</th>\n",
       "      <td>41</td>\n",
       "    </tr>\n",
       "    <tr>\n",
       "      <th>ID000004E40</th>\n",
       "      <td>34</td>\n",
       "    </tr>\n",
       "    <tr>\n",
       "      <th>ID000007H20</th>\n",
       "      <td>38</td>\n",
       "    </tr>\n",
       "    <tr>\n",
       "      <th>ID000008I30</th>\n",
       "      <td>31</td>\n",
       "    </tr>\n",
       "    <tr>\n",
       "      <th>ID000009J40</th>\n",
       "      <td>35</td>\n",
       "    </tr>\n",
       "  </tbody>\n",
       "</table>\n",
       "</div>"
      ],
      "text/plain": [
       "             AGE\n",
       "ID              \n",
       "ID000002C20   41\n",
       "ID000004E40   34\n",
       "ID000007H20   38\n",
       "ID000008I30   31\n",
       "ID000009J40   35"
      ]
     },
     "execution_count": 33,
     "metadata": {
      "tags": []
     },
     "output_type": "execute_result"
    }
   ],
   "source": [
    "df_date_new = pd.DataFrame(train['ID'])\n",
    "\n",
    "# In date_columns, 'Lead_Creation_Date' is irrelevent and shold be discarded.\n",
    "# In opposite DOB (date of birth) must be converted to age and renamed 'AGE'\n",
    "df_date_new['AGE'] = pd.to_datetime(df_date['DOB']).map(calculateAge)\n",
    "\n",
    "df_date_new.set_index('ID', inplace = True)\n",
    "df_date_new.head()"
   ]
  },
  {
   "cell_type": "markdown",
   "metadata": {
    "colab_type": "text",
    "id": "uLdByzghteUT"
   },
   "source": [
    "## object features"
   ]
  },
  {
   "cell_type": "code",
   "execution_count": 34,
   "metadata": {
    "colab": {
     "base_uri": "https://localhost:8080/",
     "height": 258
    },
    "colab_type": "code",
    "executionInfo": {
     "elapsed": 970,
     "status": "ok",
     "timestamp": 1574087808473,
     "user": {
      "displayName": "Hassan Bakrim",
      "photoUrl": "https://lh3.googleusercontent.com/a-/AAuE7mDtbf7SM1IyP7n9Ey1zeVpR-Q2YoyI2F2E6o4I=s64",
      "userId": "14078995166852671572"
     },
     "user_tz": 300
    },
    "id": "5w3nhaIutaBw",
    "outputId": "49cc431d-cbf5-4839-b2f3-e1dbff8726e2"
   },
   "outputs": [
    {
     "data": {
      "text/html": [
       "<div>\n",
       "<style scoped>\n",
       "    .dataframe tbody tr th:only-of-type {\n",
       "        vertical-align: middle;\n",
       "    }\n",
       "\n",
       "    .dataframe tbody tr th {\n",
       "        vertical-align: top;\n",
       "    }\n",
       "\n",
       "    .dataframe thead th {\n",
       "        text-align: right;\n",
       "    }\n",
       "</style>\n",
       "<table border=\"1\" class=\"dataframe\">\n",
       "  <thead>\n",
       "    <tr style=\"text-align: right;\">\n",
       "      <th></th>\n",
       "      <th>Gender_Female</th>\n",
       "      <th>Gender_Male</th>\n",
       "      <th>Var1_HAVC</th>\n",
       "      <th>Var1_HAXA</th>\n",
       "      <th>Var1_HAXB</th>\n",
       "      <th>Var1_HAXC</th>\n",
       "      <th>Var1_HAXF</th>\n",
       "      <th>Var1_HAXM</th>\n",
       "      <th>Var1_HAYT</th>\n",
       "      <th>Var1_HAZD</th>\n",
       "      <th>Var1_HBXA</th>\n",
       "      <th>Var1_HBXB</th>\n",
       "      <th>Var1_HBXC</th>\n",
       "      <th>Var1_HBXD</th>\n",
       "      <th>Var1_HBXH</th>\n",
       "      <th>Var1_HBXX</th>\n",
       "      <th>Var1_HCXD</th>\n",
       "      <th>Var1_HCXF</th>\n",
       "      <th>Var1_HCXG</th>\n",
       "      <th>Var1_HCYS</th>\n",
       "      <th>Var1_HVYS</th>\n",
       "      <th>Var2_A</th>\n",
       "      <th>Var2_B</th>\n",
       "      <th>Var2_C</th>\n",
       "      <th>Var2_D</th>\n",
       "      <th>Var2_E</th>\n",
       "      <th>Var2_F</th>\n",
       "      <th>Var2_G</th>\n",
       "    </tr>\n",
       "    <tr>\n",
       "      <th>ID</th>\n",
       "      <th></th>\n",
       "      <th></th>\n",
       "      <th></th>\n",
       "      <th></th>\n",
       "      <th></th>\n",
       "      <th></th>\n",
       "      <th></th>\n",
       "      <th></th>\n",
       "      <th></th>\n",
       "      <th></th>\n",
       "      <th></th>\n",
       "      <th></th>\n",
       "      <th></th>\n",
       "      <th></th>\n",
       "      <th></th>\n",
       "      <th></th>\n",
       "      <th></th>\n",
       "      <th></th>\n",
       "      <th></th>\n",
       "      <th></th>\n",
       "      <th></th>\n",
       "      <th></th>\n",
       "      <th></th>\n",
       "      <th></th>\n",
       "      <th></th>\n",
       "      <th></th>\n",
       "      <th></th>\n",
       "      <th></th>\n",
       "    </tr>\n",
       "  </thead>\n",
       "  <tbody>\n",
       "    <tr>\n",
       "      <th>ID000002C20</th>\n",
       "      <td>1</td>\n",
       "      <td>0</td>\n",
       "      <td>0</td>\n",
       "      <td>0</td>\n",
       "      <td>0</td>\n",
       "      <td>0</td>\n",
       "      <td>0</td>\n",
       "      <td>0</td>\n",
       "      <td>0</td>\n",
       "      <td>0</td>\n",
       "      <td>0</td>\n",
       "      <td>0</td>\n",
       "      <td>0</td>\n",
       "      <td>0</td>\n",
       "      <td>0</td>\n",
       "      <td>1</td>\n",
       "      <td>0</td>\n",
       "      <td>0</td>\n",
       "      <td>0</td>\n",
       "      <td>0</td>\n",
       "      <td>0</td>\n",
       "      <td>0</td>\n",
       "      <td>0</td>\n",
       "      <td>0</td>\n",
       "      <td>0</td>\n",
       "      <td>0</td>\n",
       "      <td>0</td>\n",
       "      <td>1</td>\n",
       "    </tr>\n",
       "    <tr>\n",
       "      <th>ID000004E40</th>\n",
       "      <td>0</td>\n",
       "      <td>1</td>\n",
       "      <td>0</td>\n",
       "      <td>0</td>\n",
       "      <td>0</td>\n",
       "      <td>0</td>\n",
       "      <td>0</td>\n",
       "      <td>0</td>\n",
       "      <td>0</td>\n",
       "      <td>0</td>\n",
       "      <td>1</td>\n",
       "      <td>0</td>\n",
       "      <td>0</td>\n",
       "      <td>0</td>\n",
       "      <td>0</td>\n",
       "      <td>0</td>\n",
       "      <td>0</td>\n",
       "      <td>0</td>\n",
       "      <td>0</td>\n",
       "      <td>0</td>\n",
       "      <td>0</td>\n",
       "      <td>0</td>\n",
       "      <td>0</td>\n",
       "      <td>0</td>\n",
       "      <td>0</td>\n",
       "      <td>0</td>\n",
       "      <td>0</td>\n",
       "      <td>1</td>\n",
       "    </tr>\n",
       "    <tr>\n",
       "      <th>ID000007H20</th>\n",
       "      <td>0</td>\n",
       "      <td>1</td>\n",
       "      <td>0</td>\n",
       "      <td>0</td>\n",
       "      <td>0</td>\n",
       "      <td>0</td>\n",
       "      <td>0</td>\n",
       "      <td>0</td>\n",
       "      <td>0</td>\n",
       "      <td>0</td>\n",
       "      <td>0</td>\n",
       "      <td>0</td>\n",
       "      <td>0</td>\n",
       "      <td>0</td>\n",
       "      <td>0</td>\n",
       "      <td>1</td>\n",
       "      <td>0</td>\n",
       "      <td>0</td>\n",
       "      <td>0</td>\n",
       "      <td>0</td>\n",
       "      <td>0</td>\n",
       "      <td>0</td>\n",
       "      <td>1</td>\n",
       "      <td>0</td>\n",
       "      <td>0</td>\n",
       "      <td>0</td>\n",
       "      <td>0</td>\n",
       "      <td>0</td>\n",
       "    </tr>\n",
       "    <tr>\n",
       "      <th>ID000008I30</th>\n",
       "      <td>0</td>\n",
       "      <td>1</td>\n",
       "      <td>0</td>\n",
       "      <td>0</td>\n",
       "      <td>0</td>\n",
       "      <td>0</td>\n",
       "      <td>0</td>\n",
       "      <td>0</td>\n",
       "      <td>0</td>\n",
       "      <td>0</td>\n",
       "      <td>0</td>\n",
       "      <td>0</td>\n",
       "      <td>0</td>\n",
       "      <td>0</td>\n",
       "      <td>0</td>\n",
       "      <td>1</td>\n",
       "      <td>0</td>\n",
       "      <td>0</td>\n",
       "      <td>0</td>\n",
       "      <td>0</td>\n",
       "      <td>0</td>\n",
       "      <td>0</td>\n",
       "      <td>1</td>\n",
       "      <td>0</td>\n",
       "      <td>0</td>\n",
       "      <td>0</td>\n",
       "      <td>0</td>\n",
       "      <td>0</td>\n",
       "    </tr>\n",
       "    <tr>\n",
       "      <th>ID000009J40</th>\n",
       "      <td>0</td>\n",
       "      <td>1</td>\n",
       "      <td>0</td>\n",
       "      <td>0</td>\n",
       "      <td>0</td>\n",
       "      <td>0</td>\n",
       "      <td>0</td>\n",
       "      <td>0</td>\n",
       "      <td>0</td>\n",
       "      <td>0</td>\n",
       "      <td>0</td>\n",
       "      <td>0</td>\n",
       "      <td>0</td>\n",
       "      <td>0</td>\n",
       "      <td>0</td>\n",
       "      <td>1</td>\n",
       "      <td>0</td>\n",
       "      <td>0</td>\n",
       "      <td>0</td>\n",
       "      <td>0</td>\n",
       "      <td>0</td>\n",
       "      <td>0</td>\n",
       "      <td>1</td>\n",
       "      <td>0</td>\n",
       "      <td>0</td>\n",
       "      <td>0</td>\n",
       "      <td>0</td>\n",
       "      <td>0</td>\n",
       "    </tr>\n",
       "  </tbody>\n",
       "</table>\n",
       "</div>"
      ],
      "text/plain": [
       "             Gender_Female  Gender_Male  Var1_HAVC  ...  Var2_E  Var2_F  Var2_G\n",
       "ID                                                  ...                        \n",
       "ID000002C20              1            0          0  ...       0       0       1\n",
       "ID000004E40              0            1          0  ...       0       0       1\n",
       "ID000007H20              0            1          0  ...       0       0       0\n",
       "ID000008I30              0            1          0  ...       0       0       0\n",
       "ID000009J40              0            1          0  ...       0       0       0\n",
       "\n",
       "[5 rows x 28 columns]"
      ]
     },
     "execution_count": 34,
     "metadata": {
      "tags": []
     },
     "output_type": "execute_result"
    }
   ],
   "source": [
    "# Drop irrelevent columns because they doesn't appear to affect much intuitively\n",
    "# Remove the following columns: 'City', Employer_Name', 'Salary_Account', 'Mobile_Verified', 'Filled_Form', 'Device_Type', 'Source'\n",
    "df_categorial = df_categorial.drop(['City',\n",
    "                                    'Employer_Name',\n",
    "                                    'Salary_Account',\n",
    "                                    'Mobile_Verified', \n",
    "                                    'Filled_Form',\n",
    "                                    'Device_Type',\n",
    "                                    'Source'], axis=1)\n",
    "\n",
    "# create the one-hot-encoding of columns 'Gender','Var1' and 'Var2'\n",
    "df_categorial_new = pd.get_dummies(df_categorial, columns=['Gender','Var1', 'Var2'])\n",
    "\n",
    "df_categorial_new.set_index('ID', inplace = True)\n",
    "df_categorial_new.head()"
   ]
  },
  {
   "cell_type": "markdown",
   "metadata": {
    "colab_type": "text",
    "id": "NNEKo-LStl94"
   },
   "source": [
    "## Concate the data frames"
   ]
  },
  {
   "cell_type": "code",
   "execution_count": 35,
   "metadata": {
    "colab": {
     "base_uri": "https://localhost:8080/",
     "height": 258
    },
    "colab_type": "code",
    "executionInfo": {
     "elapsed": 1024,
     "status": "ok",
     "timestamp": 1574087809199,
     "user": {
      "displayName": "Hassan Bakrim",
      "photoUrl": "https://lh3.googleusercontent.com/a-/AAuE7mDtbf7SM1IyP7n9Ey1zeVpR-Q2YoyI2F2E6o4I=s64",
      "userId": "14078995166852671572"
     },
     "user_tz": 300
    },
    "id": "oqmr7gx3thqg",
    "outputId": "5b2e58ec-2f85-4355-f91f-4d03406155ba"
   },
   "outputs": [
    {
     "data": {
      "text/html": [
       "<div>\n",
       "<style scoped>\n",
       "    .dataframe tbody tr th:only-of-type {\n",
       "        vertical-align: middle;\n",
       "    }\n",
       "\n",
       "    .dataframe tbody tr th {\n",
       "        vertical-align: top;\n",
       "    }\n",
       "\n",
       "    .dataframe thead th {\n",
       "        text-align: right;\n",
       "    }\n",
       "</style>\n",
       "<table border=\"1\" class=\"dataframe\">\n",
       "  <thead>\n",
       "    <tr style=\"text-align: right;\">\n",
       "      <th></th>\n",
       "      <th>EMI_Loan_Submitted</th>\n",
       "      <th>Loan_Amount_Submitted</th>\n",
       "      <th>Loan_Tenure_Submitted</th>\n",
       "      <th>Interest_Rate</th>\n",
       "      <th>Processing_Fee</th>\n",
       "      <th>Existing_EMI</th>\n",
       "      <th>Loan_Amount_Applied</th>\n",
       "      <th>Loan_Tenure_Applied</th>\n",
       "      <th>Var5</th>\n",
       "      <th>Var4</th>\n",
       "      <th>Monthly_Income</th>\n",
       "      <th>LoggedIn</th>\n",
       "      <th>AGE</th>\n",
       "      <th>Gender_Female</th>\n",
       "      <th>Gender_Male</th>\n",
       "      <th>Var1_HAVC</th>\n",
       "      <th>Var1_HAXA</th>\n",
       "      <th>Var1_HAXB</th>\n",
       "      <th>Var1_HAXC</th>\n",
       "      <th>Var1_HAXF</th>\n",
       "      <th>Var1_HAXM</th>\n",
       "      <th>Var1_HAYT</th>\n",
       "      <th>Var1_HAZD</th>\n",
       "      <th>Var1_HBXA</th>\n",
       "      <th>Var1_HBXB</th>\n",
       "      <th>Var1_HBXC</th>\n",
       "      <th>Var1_HBXD</th>\n",
       "      <th>Var1_HBXH</th>\n",
       "      <th>Var1_HBXX</th>\n",
       "      <th>Var1_HCXD</th>\n",
       "      <th>Var1_HCXF</th>\n",
       "      <th>Var1_HCXG</th>\n",
       "      <th>Var1_HCYS</th>\n",
       "      <th>Var1_HVYS</th>\n",
       "      <th>Var2_A</th>\n",
       "      <th>Var2_B</th>\n",
       "      <th>Var2_C</th>\n",
       "      <th>Var2_D</th>\n",
       "      <th>Var2_E</th>\n",
       "      <th>Var2_F</th>\n",
       "      <th>Var2_G</th>\n",
       "      <th>Disbursed</th>\n",
       "    </tr>\n",
       "    <tr>\n",
       "      <th>ID</th>\n",
       "      <th></th>\n",
       "      <th></th>\n",
       "      <th></th>\n",
       "      <th></th>\n",
       "      <th></th>\n",
       "      <th></th>\n",
       "      <th></th>\n",
       "      <th></th>\n",
       "      <th></th>\n",
       "      <th></th>\n",
       "      <th></th>\n",
       "      <th></th>\n",
       "      <th></th>\n",
       "      <th></th>\n",
       "      <th></th>\n",
       "      <th></th>\n",
       "      <th></th>\n",
       "      <th></th>\n",
       "      <th></th>\n",
       "      <th></th>\n",
       "      <th></th>\n",
       "      <th></th>\n",
       "      <th></th>\n",
       "      <th></th>\n",
       "      <th></th>\n",
       "      <th></th>\n",
       "      <th></th>\n",
       "      <th></th>\n",
       "      <th></th>\n",
       "      <th></th>\n",
       "      <th></th>\n",
       "      <th></th>\n",
       "      <th></th>\n",
       "      <th></th>\n",
       "      <th></th>\n",
       "      <th></th>\n",
       "      <th></th>\n",
       "      <th></th>\n",
       "      <th></th>\n",
       "      <th></th>\n",
       "      <th></th>\n",
       "      <th></th>\n",
       "    </tr>\n",
       "  </thead>\n",
       "  <tbody>\n",
       "    <tr>\n",
       "      <th>ID000002C20</th>\n",
       "      <td>0</td>\n",
       "      <td>0</td>\n",
       "      <td>0</td>\n",
       "      <td>0</td>\n",
       "      <td>0</td>\n",
       "      <td>0.0</td>\n",
       "      <td>300000.0</td>\n",
       "      <td>5.0</td>\n",
       "      <td>0</td>\n",
       "      <td>1</td>\n",
       "      <td>20000</td>\n",
       "      <td>0</td>\n",
       "      <td>41</td>\n",
       "      <td>1</td>\n",
       "      <td>0</td>\n",
       "      <td>0</td>\n",
       "      <td>0</td>\n",
       "      <td>0</td>\n",
       "      <td>0</td>\n",
       "      <td>0</td>\n",
       "      <td>0</td>\n",
       "      <td>0</td>\n",
       "      <td>0</td>\n",
       "      <td>0</td>\n",
       "      <td>0</td>\n",
       "      <td>0</td>\n",
       "      <td>0</td>\n",
       "      <td>0</td>\n",
       "      <td>1</td>\n",
       "      <td>0</td>\n",
       "      <td>0</td>\n",
       "      <td>0</td>\n",
       "      <td>0</td>\n",
       "      <td>0</td>\n",
       "      <td>0</td>\n",
       "      <td>0</td>\n",
       "      <td>0</td>\n",
       "      <td>0</td>\n",
       "      <td>0</td>\n",
       "      <td>0</td>\n",
       "      <td>1</td>\n",
       "      <td>0</td>\n",
       "    </tr>\n",
       "    <tr>\n",
       "      <th>ID000004E40</th>\n",
       "      <td>1</td>\n",
       "      <td>1</td>\n",
       "      <td>1</td>\n",
       "      <td>1</td>\n",
       "      <td>0</td>\n",
       "      <td>0.0</td>\n",
       "      <td>200000.0</td>\n",
       "      <td>2.0</td>\n",
       "      <td>13</td>\n",
       "      <td>3</td>\n",
       "      <td>35000</td>\n",
       "      <td>0</td>\n",
       "      <td>34</td>\n",
       "      <td>0</td>\n",
       "      <td>1</td>\n",
       "      <td>0</td>\n",
       "      <td>0</td>\n",
       "      <td>0</td>\n",
       "      <td>0</td>\n",
       "      <td>0</td>\n",
       "      <td>0</td>\n",
       "      <td>0</td>\n",
       "      <td>0</td>\n",
       "      <td>1</td>\n",
       "      <td>0</td>\n",
       "      <td>0</td>\n",
       "      <td>0</td>\n",
       "      <td>0</td>\n",
       "      <td>0</td>\n",
       "      <td>0</td>\n",
       "      <td>0</td>\n",
       "      <td>0</td>\n",
       "      <td>0</td>\n",
       "      <td>0</td>\n",
       "      <td>0</td>\n",
       "      <td>0</td>\n",
       "      <td>0</td>\n",
       "      <td>0</td>\n",
       "      <td>0</td>\n",
       "      <td>0</td>\n",
       "      <td>1</td>\n",
       "      <td>0</td>\n",
       "    </tr>\n",
       "    <tr>\n",
       "      <th>ID000007H20</th>\n",
       "      <td>0</td>\n",
       "      <td>1</td>\n",
       "      <td>1</td>\n",
       "      <td>0</td>\n",
       "      <td>0</td>\n",
       "      <td>0.0</td>\n",
       "      <td>600000.0</td>\n",
       "      <td>4.0</td>\n",
       "      <td>0</td>\n",
       "      <td>1</td>\n",
       "      <td>22500</td>\n",
       "      <td>0</td>\n",
       "      <td>38</td>\n",
       "      <td>0</td>\n",
       "      <td>1</td>\n",
       "      <td>0</td>\n",
       "      <td>0</td>\n",
       "      <td>0</td>\n",
       "      <td>0</td>\n",
       "      <td>0</td>\n",
       "      <td>0</td>\n",
       "      <td>0</td>\n",
       "      <td>0</td>\n",
       "      <td>0</td>\n",
       "      <td>0</td>\n",
       "      <td>0</td>\n",
       "      <td>0</td>\n",
       "      <td>0</td>\n",
       "      <td>1</td>\n",
       "      <td>0</td>\n",
       "      <td>0</td>\n",
       "      <td>0</td>\n",
       "      <td>0</td>\n",
       "      <td>0</td>\n",
       "      <td>0</td>\n",
       "      <td>1</td>\n",
       "      <td>0</td>\n",
       "      <td>0</td>\n",
       "      <td>0</td>\n",
       "      <td>0</td>\n",
       "      <td>0</td>\n",
       "      <td>0</td>\n",
       "    </tr>\n",
       "    <tr>\n",
       "      <th>ID000008I30</th>\n",
       "      <td>0</td>\n",
       "      <td>1</td>\n",
       "      <td>1</td>\n",
       "      <td>0</td>\n",
       "      <td>0</td>\n",
       "      <td>0.0</td>\n",
       "      <td>1000000.0</td>\n",
       "      <td>5.0</td>\n",
       "      <td>10</td>\n",
       "      <td>3</td>\n",
       "      <td>35000</td>\n",
       "      <td>0</td>\n",
       "      <td>31</td>\n",
       "      <td>0</td>\n",
       "      <td>1</td>\n",
       "      <td>0</td>\n",
       "      <td>0</td>\n",
       "      <td>0</td>\n",
       "      <td>0</td>\n",
       "      <td>0</td>\n",
       "      <td>0</td>\n",
       "      <td>0</td>\n",
       "      <td>0</td>\n",
       "      <td>0</td>\n",
       "      <td>0</td>\n",
       "      <td>0</td>\n",
       "      <td>0</td>\n",
       "      <td>0</td>\n",
       "      <td>1</td>\n",
       "      <td>0</td>\n",
       "      <td>0</td>\n",
       "      <td>0</td>\n",
       "      <td>0</td>\n",
       "      <td>0</td>\n",
       "      <td>0</td>\n",
       "      <td>1</td>\n",
       "      <td>0</td>\n",
       "      <td>0</td>\n",
       "      <td>0</td>\n",
       "      <td>0</td>\n",
       "      <td>0</td>\n",
       "      <td>0</td>\n",
       "    </tr>\n",
       "    <tr>\n",
       "      <th>ID000009J40</th>\n",
       "      <td>0</td>\n",
       "      <td>1</td>\n",
       "      <td>1</td>\n",
       "      <td>0</td>\n",
       "      <td>0</td>\n",
       "      <td>25000.0</td>\n",
       "      <td>500000.0</td>\n",
       "      <td>2.0</td>\n",
       "      <td>17</td>\n",
       "      <td>3</td>\n",
       "      <td>100000</td>\n",
       "      <td>1</td>\n",
       "      <td>35</td>\n",
       "      <td>0</td>\n",
       "      <td>1</td>\n",
       "      <td>0</td>\n",
       "      <td>0</td>\n",
       "      <td>0</td>\n",
       "      <td>0</td>\n",
       "      <td>0</td>\n",
       "      <td>0</td>\n",
       "      <td>0</td>\n",
       "      <td>0</td>\n",
       "      <td>0</td>\n",
       "      <td>0</td>\n",
       "      <td>0</td>\n",
       "      <td>0</td>\n",
       "      <td>0</td>\n",
       "      <td>1</td>\n",
       "      <td>0</td>\n",
       "      <td>0</td>\n",
       "      <td>0</td>\n",
       "      <td>0</td>\n",
       "      <td>0</td>\n",
       "      <td>0</td>\n",
       "      <td>1</td>\n",
       "      <td>0</td>\n",
       "      <td>0</td>\n",
       "      <td>0</td>\n",
       "      <td>0</td>\n",
       "      <td>0</td>\n",
       "      <td>0</td>\n",
       "    </tr>\n",
       "  </tbody>\n",
       "</table>\n",
       "</div>"
      ],
      "text/plain": [
       "             EMI_Loan_Submitted  Loan_Amount_Submitted  ...  Var2_G  Disbursed\n",
       "ID                                                      ...                   \n",
       "ID000002C20                   0                      0  ...       1          0\n",
       "ID000004E40                   1                      1  ...       1          0\n",
       "ID000007H20                   0                      1  ...       0          0\n",
       "ID000008I30                   0                      1  ...       0          0\n",
       "ID000009J40                   0                      1  ...       0          0\n",
       "\n",
       "[5 rows x 42 columns]"
      ]
     },
     "execution_count": 35,
     "metadata": {
      "tags": []
     },
     "output_type": "execute_result"
    }
   ],
   "source": [
    "# Concate all subd-dataframes\n",
    "df_train = pd.concat([df_num_new,df_date_new,df_categorial_new], axis=1)\n",
    "\n",
    "# move the labels column to end of dataframe\n",
    "train_columns = list(df_train.columns)\n",
    "train_columns.pop(train_columns.index('Disbursed'))\n",
    "train_columns = train_columns+['Disbursed']\n",
    "\n",
    "df_train = df_train[train_columns]\n",
    "df_train.head()"
   ]
  },
  {
   "cell_type": "markdown",
   "metadata": {
    "colab_type": "text",
    "id": "1BrJdGsjttKx"
   },
   "source": [
    "# Check the balance of classes"
   ]
  },
  {
   "cell_type": "code",
   "execution_count": 36,
   "metadata": {
    "colab": {
     "base_uri": "https://localhost:8080/",
     "height": 72
    },
    "colab_type": "code",
    "executionInfo": {
     "elapsed": 901,
     "status": "ok",
     "timestamp": 1574087813586,
     "user": {
      "displayName": "Hassan Bakrim",
      "photoUrl": "https://lh3.googleusercontent.com/a-/AAuE7mDtbf7SM1IyP7n9Ey1zeVpR-Q2YoyI2F2E6o4I=s64",
      "userId": "14078995166852671572"
     },
     "user_tz": 300
    },
    "id": "smVIggMjtprJ",
    "outputId": "44987427-4515-4ffc-8fb1-bb99f86506c7"
   },
   "outputs": [
    {
     "data": {
      "text/plain": [
       "0    85747\n",
       "1     1273\n",
       "Name: Disbursed, dtype: int64"
      ]
     },
     "execution_count": 36,
     "metadata": {
      "tags": []
     },
     "output_type": "execute_result"
    }
   ],
   "source": [
    "# Check the balance of classes\n",
    "df_train['Disbursed'].value_counts()"
   ]
  },
  {
   "cell_type": "markdown",
   "metadata": {
    "colab_type": "text",
    "id": "Yylzm8xKt7i4"
   },
   "source": [
    "# Create train and test data sets"
   ]
  },
  {
   "cell_type": "code",
   "execution_count": 37,
   "metadata": {
    "colab": {
     "base_uri": "https://localhost:8080/",
     "height": 219
    },
    "colab_type": "code",
    "executionInfo": {
     "elapsed": 812,
     "status": "ok",
     "timestamp": 1574087817132,
     "user": {
      "displayName": "Hassan Bakrim",
      "photoUrl": "https://lh3.googleusercontent.com/a-/AAuE7mDtbf7SM1IyP7n9Ey1zeVpR-Q2YoyI2F2E6o4I=s64",
      "userId": "14078995166852671572"
     },
     "user_tz": 300
    },
    "id": "QVX4TE2Stx-Y",
    "outputId": "c85fe7eb-e178-473c-dfb3-345083928fee"
   },
   "outputs": [
    {
     "name": "stdout",
     "output_type": "stream",
     "text": [
      "Taille des predictor sur le train set :  (65265, 41)\n",
      "Balance of train set : \n",
      "0    64309\n",
      "1      956\n",
      "Name: Disbursed, dtype: int64\n",
      "\n",
      "Taille des predictor sur le test set :  (21755, 41)\n",
      "Balance of test set : \n",
      "0    21438\n",
      "1      317\n",
      "Name: Disbursed, dtype: int64\n"
     ]
    }
   ],
   "source": [
    "from sklearn.model_selection import train_test_split\n",
    " \n",
    "\n",
    "# Create train and test set \n",
    "train_X, test_X, train_y, test_y = train_test_split(df_train.iloc[:,:-1], df_train.iloc[:,-1], test_size=0.25)\n",
    "print(\"Taille des predictor sur le train set : \", train_X.shape)\n",
    "print(\"Balance of train set : \")\n",
    "print(train_y.value_counts())\n",
    "print()\n",
    "print(\"Taille des predictor sur le test set : \", test_X.shape)\n",
    "print(\"Balance of test set : \")\n",
    "print(test_y.value_counts())"
   ]
  },
  {
   "cell_type": "code",
   "execution_count": 0,
   "metadata": {
    "colab": {},
    "colab_type": "code",
    "id": "VFAJm8L9t_Ow"
   },
   "outputs": [],
   "source": [
    "def optimizeClassifier(clf, train_X, train_y, test_X, test_y, useTrainCV=True, cv_folds=5, early_stopping_rounds=50):\n",
    "    \n",
    "    if useTrainCV:\n",
    "        clf_params = clf.get_xgb_params()\n",
    "        n_estimators = clf.get_params()['n_estimators']\n",
    "        dmatrix = xgb.DMatrix(train_X, label=train_y)\n",
    "        \n",
    "        \n",
    "        cvresult = xgb.cv(clf_params, \n",
    "                          dmatrix, \n",
    "                          num_boost_round=n_estimators,\n",
    "                          nfold=cv_folds,\n",
    "                          metrics='auc', \n",
    "                          early_stopping_rounds=early_stopping_rounds, \n",
    "                          )\n",
    "        \n",
    "        # the early-stopping estimator number is the last of cvresult\n",
    "        best_n_estimators = cvresult.shape[0]\n",
    "        clf.set_params(n_estimators=best_n_estimators)\n",
    "        \n",
    "    \n",
    "    \n",
    "        \n",
    "    print('best_n_estimators =', best_n_estimators)\n",
    "    \n",
    "    return clf"
   ]
  },
  {
   "cell_type": "code",
   "execution_count": 0,
   "metadata": {
    "colab": {},
    "colab_type": "code",
    "id": "tYYtSlJ8uCh2"
   },
   "outputs": [],
   "source": [
    "def fitClassifier(clf,train_X, train_y, test_X, test_y):\n",
    "    \n",
    "        #Fit the algorithm on the data\n",
    "        clf.fit(train_X,train_y,eval_metric='auc')\n",
    "\n",
    "        #Predict training set:\n",
    "        train_y_pred = clf.predict(train_X)\n",
    "        train_y_predprob = clf.predict_proba(train_X)[:,1]\n",
    "\n",
    "        train_precision = metrics.precision_score(train_y, train_y_pred)\n",
    "        train_roc_auc = metrics.roc_auc_score(train_y, train_y_predprob)\n",
    "        train_f1 = f1_score(train_y, train_y_pred)\n",
    "        train_recall = recall_score(train_y, train_y_pred)\n",
    "        train_conf_mat = pd.DataFrame(confusion_matrix(train_y, train_y_pred), columns=['pred_0', 'pred_1'], index=['0', '1'])\n",
    "        train_fpr, train_tpr, _ = roc_curve( train_y, train_y_pred )\n",
    "\n",
    "        #Predict test set:\n",
    "        test_y_pred = clf.predict(test_X)\n",
    "        test_y_predprob = clf.predict_proba(test_X)[:,1]\n",
    "\n",
    "        test_precision = metrics.precision_score(test_y, test_y_pred)\n",
    "        test_roc_auc = metrics.roc_auc_score(test_y, test_y_predprob)\n",
    "        test_f1 = f1_score(test_y, test_y_pred)\n",
    "        test_recall = recall_score(test_y, test_y_pred)\n",
    "        test_conf_mat = pd.DataFrame(confusion_matrix(test_y, test_y_pred), columns=['pred_0', 'pred_1'], index=['0', '1'])\n",
    "        test_fpr, test_tpr, _ = roc_curve( test_y, test_y_pred )\n",
    "\n",
    "        #Print model report:\n",
    "        print( \"\\nModel Report\")\n",
    "        print( \"Recall Score:\")\n",
    "        print(\"Train={}, Test={}\".format(train_recall, test_recall))\n",
    "        print()\n",
    "        \n",
    "        print( \"Precision:\")\n",
    "        print(\"Train={}, Test={}\".format(train_precision, test_precision))\n",
    "        print()\n",
    "        \n",
    "        print( \"F1 Score:\")\n",
    "        print(\"Train={}, Test={}\".format(train_f1, test_f1))\n",
    "        print()\n",
    "\n",
    "        \n",
    "        print(\"Confusion matrix\")\n",
    "        print(pd.concat([train_conf_mat, test_conf_mat], axis=1))\n",
    "        print()\n",
    "\n",
    "        print( \"AUC Score:\")\n",
    "        print(\"Train={}, Test={}\".format(train_roc_auc, test_roc_auc))\n",
    "        print()\n",
    "\n",
    "        # plot ROC\n",
    "        fig, (ax1, ax2) = plt.subplots(1, 2)\n",
    "        ax1.set_title('Train ROC')\n",
    "        ax1.plot(train_fpr, train_tpr, lw=2 )\n",
    "        ax2.set_title('Test ROC')\n",
    "        ax2.plot(test_fpr, test_tpr, lw=2 )"
   ]
  },
  {
   "cell_type": "code",
   "execution_count": 40,
   "metadata": {
    "colab": {
     "base_uri": "https://localhost:8080/",
     "height": 685
    },
    "colab_type": "code",
    "executionInfo": {
     "elapsed": 54198,
     "status": "ok",
     "timestamp": 1574087876157,
     "user": {
      "displayName": "Hassan Bakrim",
      "photoUrl": "https://lh3.googleusercontent.com/a-/AAuE7mDtbf7SM1IyP7n9Ey1zeVpR-Q2YoyI2F2E6o4I=s64",
      "userId": "14078995166852671572"
     },
     "user_tz": 300
    },
    "id": "wLz-HaN7uGG1",
    "outputId": "fab7af8a-bac1-4343-eec9-64435c3c3bf8"
   },
   "outputs": [
    {
     "name": "stderr",
     "output_type": "stream",
     "text": [
      "/usr/local/lib/python3.6/dist-packages/xgboost/core.py:587: FutureWarning: Series.base is deprecated and will be removed in a future version\n",
      "  if getattr(data, 'base', None) is not None and \\\n"
     ]
    },
    {
     "name": "stdout",
     "output_type": "stream",
     "text": [
      "best_n_estimators = 87\n",
      "\n",
      "Model Report\n",
      "Recall Score:\n",
      "Train=0.7165271966527197, Test=0.5709779179810726\n",
      "\n",
      "Precision:\n",
      "Train=0.7349785407725322, Test=0.5876623376623377\n",
      "\n",
      "F1 Score:\n",
      "Train=0.7256355932203389, Test=0.5792\n",
      "\n",
      "Confusion matrix\n",
      "   pred_0  pred_1  pred_0  pred_1\n",
      "0   64062     247   21311     127\n",
      "1     271     685     136     181\n",
      "\n",
      "AUC Score:\n",
      "Train=0.9969224327548784, Test=0.9875667429779897\n",
      "\n"
     ]
    },
    {
     "data": {
      "image/png": "[encoded data removed]",
      "text/plain": [
       "<Figure size 864x288 with 2 Axes>"
      ]
     },
     "metadata": {
      "tags": []
     },
     "output_type": "display_data"
    }
   ],
   "source": [
    "xgb1 = xgb.XGBClassifier(learning_rate =0.1,\n",
    "                         n_estimators=1000,\n",
    "                         max_depth=5,\n",
    "                         min_child_weight=1,\n",
    "                         gamma=0,\n",
    "                         subsample=0.8,\n",
    "                         colsample_bytree=0.8,\n",
    "                         objective= 'binary:logistic',\n",
    "                         nthread=4,\n",
    "                         scale_pos_weight=1,\n",
    "                         seed=27)\n",
    "\n",
    "xgb1 = optimizeClassifier(xgb1, train_X, train_y, test_X, test_y)\n",
    "\n",
    "fitClassifier(xgb1, train_X, train_y, test_X, test_y)"
   ]
  },
  {
   "cell_type": "markdown",
   "metadata": {
    "colab_type": "text",
    "id": "vaApgEfouM5B"
   },
   "source": [
    "# Step 2: Tune max_depth and min_child_weight\n",
    "\n",
    "Important Note : I’ll be doing some heavy-duty grid searched in this section which can take a long time (depending on your system).\n"
   ]
  },
  {
   "cell_type": "code",
   "execution_count": 41,
   "metadata": {
    "colab": {
     "base_uri": "https://localhost:8080/",
     "height": 35
    },
    "colab_type": "code",
    "executionInfo": {
     "elapsed": 349448,
     "status": "ok",
     "timestamp": 1574088241039,
     "user": {
      "displayName": "Hassan Bakrim",
      "photoUrl": "https://lh3.googleusercontent.com/a-/AAuE7mDtbf7SM1IyP7n9Ey1zeVpR-Q2YoyI2F2E6o4I=s64",
      "userId": "14078995166852671572"
     },
     "user_tz": 300
    },
    "id": "8uSo68mpuN0b",
    "outputId": "3ec7db6c-ce38-4c7f-db58-314404008041"
   },
   "outputs": [
    {
     "data": {
      "text/plain": [
       "({'max_depth': 3, 'min_child_weight': 3}, 0.9929315467919398)"
      ]
     },
     "execution_count": 41,
     "metadata": {
      "tags": []
     },
     "output_type": "execute_result"
    }
   ],
   "source": [
    "# Step 2: Tune max_depth and min_child_weight\n",
    "param_test1 = {'max_depth':range(3,10,2),\n",
    "               'min_child_weight':range(1,6,2)\n",
    "              }\n",
    "\n",
    "clf1 = xgb.XGBClassifier(learning_rate =0.1, \n",
    "                         n_estimators=87, \n",
    "                         \n",
    "                         max_depth=5,\n",
    "                         min_child_weight=1,\n",
    "                         gamma=0, \n",
    "                         subsample=0.8, \n",
    "                         colsample_bytree=0.8,\n",
    "                         objective= 'binary:logistic', \n",
    "                         nthread=4, \n",
    "                         scale_pos_weight=1, \n",
    "                         seed=27)\n",
    "\n",
    "gridsearch1 = GridSearchCV(estimator = clf1,\n",
    "                           param_grid = param_test1, \n",
    "                           scoring='roc_auc',\n",
    "                           n_jobs=4,\n",
    "                           iid=False, \n",
    "                           cv=5)\n",
    "\n",
    "gridsearch1.fit(train_X,train_y)\n",
    "gridsearch1.best_params_, gridsearch1.best_score_"
   ]
  },
  {
   "cell_type": "markdown",
   "metadata": {
    "colab_type": "text",
    "id": "0cpLbhzy5I1Y"
   },
   "source": [
    "Here, we get the optimum values as 3 for max_depth and 3 for min_child_weight.\n",
    "\n",
    "Also, we can see the CV score increasing slightly. Note that as the model performance increases, it becomes exponentially difficult to achieve even marginal gains in performance.\n"
   ]
  },
  {
   "cell_type": "markdown",
   "metadata": {
    "colab_type": "text",
    "id": "UpaEQiiB5x_V"
   },
   "source": [
    "## Step 3: Tune gamma\n",
    "Now lets tune gamma value using the parameters already tuned above."
   ]
  },
  {
   "cell_type": "code",
   "execution_count": 42,
   "metadata": {
    "colab": {
     "base_uri": "https://localhost:8080/",
     "height": 35
    },
    "colab_type": "code",
    "executionInfo": {
     "elapsed": 100905,
     "status": "ok",
     "timestamp": 1574088437385,
     "user": {
      "displayName": "Hassan Bakrim",
      "photoUrl": "https://lh3.googleusercontent.com/a-/AAuE7mDtbf7SM1IyP7n9Ey1zeVpR-Q2YoyI2F2E6o4I=s64",
      "userId": "14078995166852671572"
     },
     "user_tz": 300
    },
    "id": "C5rzbSOb5Gli",
    "outputId": "7035f2f3-ffdb-4c94-99b0-9089854a2905"
   },
   "outputs": [
    {
     "data": {
      "text/plain": [
       "({'gamma': 0.1}, 0.9929315467919398)"
      ]
     },
     "execution_count": 42,
     "metadata": {
      "tags": []
     },
     "output_type": "execute_result"
    }
   ],
   "source": [
    "param_test2 = { 'gamma':[i/10.0 for i in range(0,5)] }\n",
    "\n",
    "clf2 = xgb.XGBClassifier(learning_rate =0.1, \n",
    "                         n_estimators=87, \n",
    "                         max_depth=3,\n",
    "                         min_child_weight=3,\n",
    "\n",
    "                         gamma=0, \n",
    "                         subsample=0.8, \n",
    "                         colsample_bytree=0.8,\n",
    "                         objective= 'binary:logistic', \n",
    "                         nthread=4, \n",
    "                         scale_pos_weight=1, \n",
    "                         seed=27)\n",
    "\n",
    "gridsearch2 = GridSearchCV(estimator = clf2,\n",
    "                           param_grid = param_test2, \n",
    "                           scoring='roc_auc',\n",
    "                           n_jobs=4,\n",
    "                           iid=False, \n",
    "                           cv=5)\n",
    "\n",
    "gridsearch2.fit(train_X,train_y)\n",
    "gridsearch2.best_params_, gridsearch1.best_score_"
   ]
  },
  {
   "cell_type": "markdown",
   "metadata": {
    "colab_type": "text",
    "id": "fNAAYUNW9RfL"
   },
   "source": [
    "# Step 4: Tune subsample and colsample_bytree"
   ]
  },
  {
   "cell_type": "code",
   "execution_count": 43,
   "metadata": {
    "colab": {
     "base_uri": "https://localhost:8080/",
     "height": 35
    },
    "colab_type": "code",
    "executionInfo": {
     "elapsed": 293712,
     "status": "ok",
     "timestamp": 1574089053672,
     "user": {
      "displayName": "Hassan Bakrim",
      "photoUrl": "https://lh3.googleusercontent.com/a-/AAuE7mDtbf7SM1IyP7n9Ey1zeVpR-Q2YoyI2F2E6o4I=s64",
      "userId": "14078995166852671572"
     },
     "user_tz": 300
    },
    "id": "vaAh8l6r9bf3",
    "outputId": "d47a2d71-c44a-4288-920f-0b2578411d6d"
   },
   "outputs": [
    {
     "data": {
      "text/plain": [
       "({'colsample_bytree': 0.9, 'subsample': 0.7}, 0.9929315467919398)"
      ]
     },
     "execution_count": 43,
     "metadata": {
      "tags": []
     },
     "output_type": "execute_result"
    }
   ],
   "source": [
    "param_test3 = {'subsample':[i/10.0 for i in range(6,10)],\n",
    "               'colsample_bytree':[i/10.0 for i in range(6,10)]\n",
    "              }\n",
    "\n",
    "clf3 = xgb.XGBClassifier(learning_rate =0.1, \n",
    "                         n_estimators=87, \n",
    "                         max_depth=3,\n",
    "                         min_child_weight=3,\n",
    "                         gamma=0.1,\n",
    "\n",
    "                         subsample=0.8, \n",
    "                         colsample_bytree=0.8,\n",
    "                         objective= 'binary:logistic', \n",
    "                         nthread=4, \n",
    "                         scale_pos_weight=1, \n",
    "                         seed=27)\n",
    "\n",
    "gridsearch3 = GridSearchCV(estimator = clf3,\n",
    "                           param_grid = param_test3, \n",
    "                           scoring='roc_auc',\n",
    "                           n_jobs=4,\n",
    "                           iid=False, \n",
    "                           cv=5)\n",
    "\n",
    "gridsearch3.fit(train_X,train_y)\n",
    "gridsearch3.best_params_, gridsearch1.best_score_"
   ]
  },
  {
   "cell_type": "markdown",
   "metadata": {
    "colab_type": "text",
    "id": "-ltpzvNOEUrM"
   },
   "source": [
    "# Step 6: Reducing Learning Rate in order to reduce overfit"
   ]
  },
  {
   "cell_type": "code",
   "execution_count": 44,
   "metadata": {
    "colab": {
     "base_uri": "https://localhost:8080/",
     "height": 35
    },
    "colab_type": "code",
    "executionInfo": {
     "elapsed": 160217,
     "status": "ok",
     "timestamp": 1574090165818,
     "user": {
      "displayName": "Hassan Bakrim",
      "photoUrl": "https://lh3.googleusercontent.com/a-/AAuE7mDtbf7SM1IyP7n9Ey1zeVpR-Q2YoyI2F2E6o4I=s64",
      "userId": "14078995166852671572"
     },
     "user_tz": 300
    },
    "id": "0jbZJf63EV41",
    "outputId": "800ff69a-782d-49b1-b3c5-4db3b906f4f8"
   },
   "outputs": [
    {
     "data": {
      "text/plain": [
       "({'learning_rate': 0.019}, 0.9929315467919398)"
      ]
     },
     "execution_count": 44,
     "metadata": {
      "tags": []
     },
     "output_type": "execute_result"
    }
   ],
   "source": [
    "param_test4 = {'learning_rate':[i/1000.0 for i in range(5,20,2)]}\n",
    "\n",
    "clf4 = xgb.XGBClassifier(learning_rate =0.1, \n",
    "                         n_estimators=87, \n",
    "                         max_depth=3,\n",
    "                         min_child_weight=3,\n",
    "                         gamma=0.1,\n",
    "                         subsample=0.7, \n",
    "                         colsample_bytree=0.9,\n",
    "\n",
    "                         objective= 'binary:logistic', \n",
    "                         nthread=4, \n",
    "                         scale_pos_weight=1, \n",
    "                         seed=27)\n",
    "\n",
    "gridsearch4 = GridSearchCV(estimator = clf4,\n",
    "                           param_grid = param_test4, \n",
    "                           scoring='roc_auc',\n",
    "                           n_jobs=4,\n",
    "                           iid=False, \n",
    "                           cv=5)\n",
    "\n",
    "gridsearch4.fit(train_X,train_y)\n",
    "gridsearch4.best_params_, gridsearch1.best_score_"
   ]
  },
  {
   "cell_type": "markdown",
   "metadata": {
    "colab_type": "text",
    "id": "ThlUd37zGQEb"
   },
   "source": [
    "# Final fit and evaluation"
   ]
  },
  {
   "cell_type": "code",
   "execution_count": 45,
   "metadata": {
    "colab": {
     "base_uri": "https://localhost:8080/",
     "height": 685
    },
    "colab_type": "code",
    "executionInfo": {
     "elapsed": 38331,
     "status": "ok",
     "timestamp": 1574090517714,
     "user": {
      "displayName": "Hassan Bakrim",
      "photoUrl": "https://lh3.googleusercontent.com/a-/AAuE7mDtbf7SM1IyP7n9Ey1zeVpR-Q2YoyI2F2E6o4I=s64",
      "userId": "14078995166852671572"
     },
     "user_tz": 300
    },
    "id": "PCdLroCiGWez",
    "outputId": "cc837bf7-ea85-4734-d11e-5124f94de480"
   },
   "outputs": [
    {
     "name": "stderr",
     "output_type": "stream",
     "text": [
      "/usr/local/lib/python3.6/dist-packages/xgboost/core.py:587: FutureWarning: Series.base is deprecated and will be removed in a future version\n",
      "  if getattr(data, 'base', None) is not None and \\\n"
     ]
    },
    {
     "name": "stdout",
     "output_type": "stream",
     "text": [
      "best_n_estimators = 87\n",
      "\n",
      "Model Report\n",
      "Recall Score:\n",
      "Train=0.7165271966527197, Test=0.5709779179810726\n",
      "\n",
      "Precision:\n",
      "Train=0.7349785407725322, Test=0.5876623376623377\n",
      "\n",
      "F1 Score:\n",
      "Train=0.7256355932203389, Test=0.5792\n",
      "\n",
      "Confusion matrix\n",
      "   pred_0  pred_1  pred_0  pred_1\n",
      "0   64062     247   21311     127\n",
      "1     271     685     136     181\n",
      "\n",
      "AUC Score:\n",
      "Train=0.9969224327548784, Test=0.9875667429779897\n",
      "\n"
     ]
    },
    {
     "data": {
      "image/png": "[encoded data removed]",
      "text/plain": [
       "<Figure size 864x288 with 2 Axes>"
      ]
     },
     "metadata": {
      "tags": []
     },
     "output_type": "display_data"
    }
   ],
   "source": [
    "clf5 = xgb.XGBClassifier(learning_rate =0.019, \n",
    "                         n_estimators=1000, \n",
    "                         max_depth=3,\n",
    "                         min_child_weight=3,\n",
    "                         gamma=0.1,\n",
    "                         subsample=0.7, \n",
    "                         colsample_bytree=0.9,\n",
    "\n",
    "                         objective= 'binary:logistic', \n",
    "                         nthread=4, \n",
    "                         scale_pos_weight=1, \n",
    "                         seed=27)\n",
    "\n",
    "xgb5 = optimizeClassifier(xgb1, train_X, train_y, test_X, test_y)\n",
    "\n",
    "fitClassifier(xgb1, train_X, train_y, test_X, test_y)"
   ]
  },
  {
   "cell_type": "markdown",
   "metadata": {
    "colab_type": "text",
    "id": "0T0Js5qGHrDj"
   },
   "source": [
    "# Upsampling with SMOTE"
   ]
  },
  {
   "cell_type": "code",
   "execution_count": 51,
   "metadata": {
    "colab": {
     "base_uri": "https://localhost:8080/",
     "height": 72
    },
    "colab_type": "code",
    "executionInfo": {
     "elapsed": 1069,
     "status": "ok",
     "timestamp": 1574091411070,
     "user": {
      "displayName": "Hassan Bakrim",
      "photoUrl": "https://lh3.googleusercontent.com/a-/AAuE7mDtbf7SM1IyP7n9Ey1zeVpR-Q2YoyI2F2E6o4I=s64",
      "userId": "14078995166852671572"
     },
     "user_tz": 300
    },
    "id": "8pXoR5czGpVT",
    "outputId": "3048a1a0-d82a-4ecc-a28b-fe0ce6722400"
   },
   "outputs": [
    {
     "name": "stdout",
     "output_type": "stream",
     "text": [
      "Counter({0: 85747, 1: 85747})\n",
      "Taille des predictor sur le train set :  (128620, 41)\n",
      "Taille des predictor sur le test set :  (42874, 41)\n"
     ]
    }
   ],
   "source": [
    "from collections import Counter\n",
    "from imblearn.over_sampling import SMOTE \n",
    "\n",
    "\n",
    "\n",
    "sm = SMOTE(random_state=42)\n",
    "X, y = sm.fit_sample(df_train.iloc[:,:-1], df_train.iloc[:,-1])\n",
    "print(Counter(y))\n",
    "\n",
    "\n",
    "new_train_X, new_test_X, new_train_y, new_test_y = train_test_split(X, y, test_size=0.25)\n",
    "print(\"Taille des predictor sur le train set : \", new_train_X.shape)\n",
    "print(\"Taille des predictor sur le test set : \", new_test_X.shape)\n"
   ]
  },
  {
   "cell_type": "code",
   "execution_count": 52,
   "metadata": {
    "colab": {
     "base_uri": "https://localhost:8080/",
     "height": 630
    },
    "colab_type": "code",
    "executionInfo": {
     "elapsed": 14094,
     "status": "ok",
     "timestamp": 1574091456315,
     "user": {
      "displayName": "Hassan Bakrim",
      "photoUrl": "https://lh3.googleusercontent.com/a-/AAuE7mDtbf7SM1IyP7n9Ey1zeVpR-Q2YoyI2F2E6o4I=s64",
      "userId": "14078995166852671572"
     },
     "user_tz": 300
    },
    "id": "gQu-E5ZgH5VC",
    "outputId": "212738ed-24f7-4b1e-bda9-adeb4de8c469"
   },
   "outputs": [
    {
     "name": "stdout",
     "output_type": "stream",
     "text": [
      "\n",
      "Model Report\n",
      "Recall Score:\n",
      "Train=0.9992214990813689, Test=0.9993494726081502\n",
      "\n",
      "Precision:\n",
      "Train=0.9850952461356625, Test=0.9843921640424753\n",
      "\n",
      "F1 Score:\n",
      "Train=0.9921080905598542, Test=0.99181442966174\n",
      "\n",
      "Confusion matrix\n",
      "   pred_0  pred_1  pred_0  pred_1\n",
      "0   63423     971   21012     341\n",
      "1      50   64176      14   21507\n",
      "\n",
      "AUC Score:\n",
      "Train=0.998353408778984, Test=0.9982050251422889\n",
      "\n"
     ]
    },
    {
     "data": {
      "image/png": "[encoded data removed]",
      "text/plain": [
       "<Figure size 864x288 with 2 Axes>"
      ]
     },
     "metadata": {
      "tags": []
     },
     "output_type": "display_data"
    }
   ],
   "source": [
    "\n",
    "clf6 = xgb.XGBClassifier(learning_rate =0.019, \n",
    "                         n_estimators=87, \n",
    "                         max_depth=3,\n",
    "                         min_child_weight=3,\n",
    "                         gamma=0.1,\n",
    "                         subsample=0.7, \n",
    "                         colsample_bytree=0.9,\n",
    "\n",
    "                         objective= 'binary:logistic', \n",
    "                         nthread=4, \n",
    "                         scale_pos_weight=1, \n",
    "                         seed=27)\n",
    "\n",
    "fitClassifier(clf6, new_train_X, new_train_y, new_test_X, new_test_y)"
   ]
  },
  {
   "cell_type": "code",
   "execution_count": 0,
   "metadata": {
    "colab": {},
    "colab_type": "code",
    "id": "uUv4cTzlIi_l"
   },
   "outputs": [],
   "source": []
  }
 ],
 "metadata": {
  "accelerator": "GPU",
  "colab": {
   "name": "XGBoost_github_example.ipynb",
   "provenance": []
  },
  "kernelspec": {
   "display_name": "Python 3",
   "language": "python",
   "name": "python3"
  },
  "language_info": {
   "codemirror_mode": {
    "name": "ipython",
    "version": 3
   },
   "file_extension": ".py",
   "mimetype": "text/x-python",
   "name": "python",
   "nbconvert_exporter": "python",
   "pygments_lexer": "ipython3",
   "version": "3.7.5"
  }
 },
 "nbformat": 4,
 "nbformat_minor": 1
}
